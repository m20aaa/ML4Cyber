{
 "cells": [
  {
   "cell_type": "markdown",
   "metadata": {},
   "source": [
    "## **Fraud Detection in Python**\n",
    "\n",
    "**Course Description**\n",
    "\n",
    "A typical organization loses an estimated 5% of its yearly revenue to fraud. In this course, learn to fight fraud by using data. Apply supervised learning algorithms to detect fraudulent behavior based upon past fraud, and use unsupervised learning methods to discover new types of fraud activities. \n",
    "\n",
    "Fraudulent transactions are rare compared to the norm.  As such, learn to properly classify imbalanced datasets.\n",
    "\n",
    "The course provides technical and theoretical insights and demonstrates how to implement fraud detection models. Finally, get tips and advice from real-life experience to help prevent common mistakes in fraud analytics."
   ]
  },
  {
   "cell_type": "markdown",
   "metadata": {},
   "source": [
    "**Imports**"
   ]
  },
  {
   "cell_type": "code",
   "execution_count": 1,
   "metadata": {
    "tags": []
   },
   "outputs": [],
   "source": [
    "import warnings\n",
    "warnings.filterwarnings('ignore')\n",
    "warnings.simplefilter('ignore')"
   ]
  },
  {
   "cell_type": "code",
   "execution_count": 2,
   "metadata": {
    "tags": []
   },
   "outputs": [],
   "source": [
    "import pandas as pd\n",
    "import matplotlib.pyplot as plt\n",
    "from matplotlib.patches import Rectangle\n",
    "import numpy as np\n",
    "from pprint import pprint as pp\n",
    "import csv\n",
    "from pathlib import Path\n",
    "import seaborn as sns\n",
    "from itertools import product\n",
    "import string\n",
    "\n",
    "import nltk\n",
    "from nltk.corpus import stopwords\n",
    "from nltk.stem.wordnet import WordNetLemmatizer\n",
    "\n",
    "from imblearn.over_sampling import SMOTE\n",
    "from imblearn.over_sampling import BorderlineSMOTE\n",
    "from imblearn.pipeline import Pipeline \n",
    "\n",
    "from sklearn.linear_model import LinearRegression, LogisticRegression\n",
    "from sklearn.model_selection import train_test_split, GridSearchCV\n",
    "from sklearn.tree import DecisionTreeClassifier\n",
    "from sklearn.metrics import r2_score, classification_report, confusion_matrix, accuracy_score, roc_auc_score, roc_curve, precision_recall_curve, average_precision_score\n",
    "from sklearn.metrics import homogeneity_score, silhouette_score\n",
    "from sklearn.ensemble import RandomForestClassifier, VotingClassifier\n",
    "from sklearn.preprocessing import MinMaxScaler\n",
    "from sklearn.cluster import MiniBatchKMeans, DBSCAN\n",
    "\n",
    "import gensim\n",
    "from gensim import corpora"
   ]
  },
  {
   "cell_type": "markdown",
   "metadata": {},
   "source": [
    "**Pandas Configuration Options**"
   ]
  },
  {
   "cell_type": "code",
   "execution_count": 3,
   "metadata": {
    "tags": []
   },
   "outputs": [],
   "source": [
    "pd.set_option('display.max_columns', 700)\n",
    "pd.set_option('display.max_rows', 400)\n",
    "pd.set_option('display.min_rows', 10)\n",
    "pd.set_option('display.expand_frame_repr', True)"
   ]
  },
  {
   "cell_type": "markdown",
   "metadata": {},
   "source": [
    "**Data Files Location**\n",
    "\n",
    "* Most data files for the exercises can be found on the [course site](https://www.datacamp.com/courses/fraud-detection-in-python)\n",
    "    * [Chapter 1](https://assets.datacamp.com/production/repositories/2162/datasets/cc3a36b722c0806e4a7df2634e345975a0724958/chapter_1.zip)\n",
    "    * [Chapter 2](https://assets.datacamp.com/production/repositories/2162/datasets/4fb6199be9b89626dcd6b36c235cbf60cf4c1631/chapter_2.zip)\n",
    "    * [Chapter 3](https://assets.datacamp.com/production/repositories/2162/datasets/08cfcd4158b3a758e72e9bd077a9e44fec9f773b/chapter_3.zip)\n",
    "    * [Chapter 4](https://assets.datacamp.com/production/repositories/2162/datasets/94f2356652dc9ea8f0654b5e9c29645115b6e77f/chapter_4.zip)"
   ]
  },
  {
   "cell_type": "markdown",
   "metadata": {},
   "source": [
    "**Data File Objects**"
   ]
  },
  {
   "cell_type": "code",
   "execution_count": 6,
   "metadata": {
    "tags": []
   },
   "outputs": [],
   "source": [
    "data = Path.cwd() \n",
    "\n",
    "ch1 = data / 'chapter_1'\n",
    "cc1_file = ch1 / 'creditcard_sampledata.csv'\n",
    "cc3_file = ch1 / 'creditcard_sampledata_3.csv'\n",
    "\n",
    "ch2 = data / 'chapter_2'\n",
    "cc2_file = ch2 / 'creditcard_sampledata_2.csv'\n",
    "\n",
    "ch3 = data / 'chapter_3'\n",
    "banksim_file = ch3 / 'banksim.csv'\n",
    "banksim_adj_file = ch3 / 'banksim_adj.csv'\n",
    "db_full_file = ch3 / 'db_full.pickle'\n",
    "labels_file = ch3 / 'labels.pickle'\n",
    "labels_full_file = ch3 / 'labels_full.pickle'\n",
    "x_scaled_file = ch3 / 'x_scaled.pickle'\n",
    "x_scaled_full_file = ch3 / 'x_scaled_full.pickle'\n",
    "\n",
    "ch4 = data / 'chapter_4'\n",
    "enron_emails_clean_file = ch4 / 'enron_emails_clean.csv'\n",
    "cleantext_file = ch4 / 'cleantext.pickle'\n",
    "corpus_file = ch4 / 'corpus.pickle'\n",
    "dict_file = ch4 / 'dict.pickle'\n",
    "ldamodel_file = ch4 / 'ldamodel.pickle'"
   ]
  },
  {
   "cell_type": "markdown",
   "metadata": {},
   "source": [
    "# Introduction and preparing your data\n",
    "\n",
    "Learn about the typical challenges associated with fraud detection. Learn how to resample data in a smart way, and tackle problems with imbalanced data."
   ]
  },
  {
   "cell_type": "markdown",
   "metadata": {},
   "source": [
    "## Introduction to fraud detection\n",
    "\n",
    "* Types:\n",
    "    * Insurance\n",
    "    * Credit card\n",
    "    * Identity theft\n",
    "    * Money laundering\n",
    "    * Tax evasion\n",
    "    * Healthcare\n",
    "    * Product warranty\n",
    "* e-commerce businesses must continuously assess the legitimacy of client transactions\n",
    "* Detecting fraud is challenging:\n",
    "    * Uncommon; < 0.01% of transactions\n",
    "    * Attempts are made to conceal fraud\n",
    "    * Behavior evolves\n",
    "    * Fraudulent activities perpetrated by networks - organized crime\n",
    "* Fraud detection requires training an algorithm to identify concealed observations from any normal observations\n",
    "* Fraud analytics teams:\n",
    "    * Often use rules based systems, based on manually set thresholds and experience\n",
    "    * Check the news\n",
    "    * Receive external lists of fraudulent accounts and names\n",
    "        * suspicious names or track an external hit list from police to reference check against the client base\n",
    "    * Sometimes use machine learning algorithms to detect fraud or suspicious behavior\n",
    "        * Existing sources can be used as inputs into the ML model\n",
    "        * Verify the veracity of rules based labels"
   ]
  },
  {
   "cell_type": "markdown",
   "metadata": {},
   "source": [
    "### Checking the fraud to non-fraud ratio\n",
    "\n",
    "In this chapter, you will work on `creditcard_sampledata.csv`, a dataset containing credit card transactions data. Fraud occurrences are fortunately an **extreme minority** in these transactions.\n",
    "\n",
    "However, Machine Learning algorithms usually work best when the different classes contained in the dataset are more or less equally present. If there are few cases of fraud, then there's little data to learn how to identify them. This is known as **class imbalance**, and it's one of the main challenges of fraud detection.\n",
    "\n",
    "Let's explore this dataset, and observe this class imbalance problem.\n",
    "\n",
    "**Instructions**\n",
    "\n",
    "* `import pandas as pd`, read the credit card data in and assign it to `df`. This has been done for you.\n",
    "* Use `.info()` to print information about `df`.\n",
    "* Use `.value_counts()` to get the count of fraudulent and non-fraudulent transactions in the `'Class'` column. Assign the result to `occ`.\n",
    "* Get the ratio of fraudulent transactions over the total number of transactions in the dataset."
   ]
  },
  {
   "cell_type": "code",
   "execution_count": 7,
   "metadata": {
    "tags": []
   },
   "outputs": [],
   "source": [
    "df = pd.read_csv(cc3_file)"
   ]
  },
  {
   "cell_type": "markdown",
   "metadata": {},
   "source": [
    "#### Explore the features available in your dataframe"
   ]
  },
  {
   "cell_type": "code",
   "execution_count": 8,
   "metadata": {
    "tags": []
   },
   "outputs": [
    {
     "name": "stdout",
     "output_type": "stream",
     "text": [
      "<class 'pandas.core.frame.DataFrame'>\n",
      "RangeIndex: 5050 entries, 0 to 5049\n",
      "Data columns (total 31 columns):\n",
      " #   Column      Non-Null Count  Dtype  \n",
      "---  ------      --------------  -----  \n",
      " 0   Unnamed: 0  5050 non-null   int64  \n",
      " 1   V1          5050 non-null   float64\n",
      " 2   V2          5050 non-null   float64\n",
      " 3   V3          5050 non-null   float64\n",
      " 4   V4          5050 non-null   float64\n",
      " 5   V5          5050 non-null   float64\n",
      " 6   V6          5050 non-null   float64\n",
      " 7   V7          5050 non-null   float64\n",
      " 8   V8          5050 non-null   float64\n",
      " 9   V9          5050 non-null   float64\n",
      " 10  V10         5050 non-null   float64\n",
      " 11  V11         5050 non-null   float64\n",
      " 12  V12         5050 non-null   float64\n",
      " 13  V13         5050 non-null   float64\n",
      " 14  V14         5050 non-null   float64\n",
      " 15  V15         5050 non-null   float64\n",
      " 16  V16         5050 non-null   float64\n",
      " 17  V17         5050 non-null   float64\n",
      " 18  V18         5050 non-null   float64\n",
      " 19  V19         5050 non-null   float64\n",
      " 20  V20         5050 non-null   float64\n",
      " 21  V21         5050 non-null   float64\n",
      " 22  V22         5050 non-null   float64\n",
      " 23  V23         5050 non-null   float64\n",
      " 24  V24         5050 non-null   float64\n",
      " 25  V25         5050 non-null   float64\n",
      " 26  V26         5050 non-null   float64\n",
      " 27  V27         5050 non-null   float64\n",
      " 28  V28         5050 non-null   float64\n",
      " 29  Amount      5050 non-null   float64\n",
      " 30  Class       5050 non-null   int64  \n",
      "dtypes: float64(29), int64(2)\n",
      "memory usage: 1.2 MB\n"
     ]
    }
   ],
   "source": [
    "df.info()"
   ]
  },
  {
   "cell_type": "code",
   "execution_count": 9,
   "metadata": {
    "tags": []
   },
   "outputs": [
    {
     "data": {
      "text/html": [
       "<div>\n",
       "<style scoped>\n",
       "    .dataframe tbody tr th:only-of-type {\n",
       "        vertical-align: middle;\n",
       "    }\n",
       "\n",
       "    .dataframe tbody tr th {\n",
       "        vertical-align: top;\n",
       "    }\n",
       "\n",
       "    .dataframe thead th {\n",
       "        text-align: right;\n",
       "    }\n",
       "</style>\n",
       "<table border=\"1\" class=\"dataframe\">\n",
       "  <thead>\n",
       "    <tr style=\"text-align: right;\">\n",
       "      <th></th>\n",
       "      <th>Unnamed: 0</th>\n",
       "      <th>V1</th>\n",
       "      <th>V2</th>\n",
       "      <th>V3</th>\n",
       "      <th>V4</th>\n",
       "      <th>V5</th>\n",
       "      <th>V6</th>\n",
       "      <th>V7</th>\n",
       "      <th>V8</th>\n",
       "      <th>V9</th>\n",
       "      <th>V10</th>\n",
       "      <th>V11</th>\n",
       "      <th>V12</th>\n",
       "      <th>V13</th>\n",
       "      <th>V14</th>\n",
       "      <th>V15</th>\n",
       "      <th>V16</th>\n",
       "      <th>V17</th>\n",
       "      <th>V18</th>\n",
       "      <th>V19</th>\n",
       "      <th>V20</th>\n",
       "      <th>V21</th>\n",
       "      <th>V22</th>\n",
       "      <th>V23</th>\n",
       "      <th>V24</th>\n",
       "      <th>V25</th>\n",
       "      <th>V26</th>\n",
       "      <th>V27</th>\n",
       "      <th>V28</th>\n",
       "      <th>Amount</th>\n",
       "      <th>Class</th>\n",
       "    </tr>\n",
       "  </thead>\n",
       "  <tbody>\n",
       "    <tr>\n",
       "      <th>0</th>\n",
       "      <td>258647</td>\n",
       "      <td>1.725265</td>\n",
       "      <td>-1.337256</td>\n",
       "      <td>-1.012687</td>\n",
       "      <td>-0.361656</td>\n",
       "      <td>-1.431611</td>\n",
       "      <td>-1.098681</td>\n",
       "      <td>-0.842274</td>\n",
       "      <td>-0.026594</td>\n",
       "      <td>-0.032409</td>\n",
       "      <td>0.215113</td>\n",
       "      <td>1.618952</td>\n",
       "      <td>-0.654046</td>\n",
       "      <td>-1.442665</td>\n",
       "      <td>-1.546538</td>\n",
       "      <td>-0.230008</td>\n",
       "      <td>1.785539</td>\n",
       "      <td>1.419793</td>\n",
       "      <td>0.071666</td>\n",
       "      <td>0.233031</td>\n",
       "      <td>0.275911</td>\n",
       "      <td>0.414524</td>\n",
       "      <td>0.793434</td>\n",
       "      <td>0.028887</td>\n",
       "      <td>0.419421</td>\n",
       "      <td>-0.367529</td>\n",
       "      <td>-0.155634</td>\n",
       "      <td>-0.015768</td>\n",
       "      <td>0.010790</td>\n",
       "      <td>189.00</td>\n",
       "      <td>0</td>\n",
       "    </tr>\n",
       "    <tr>\n",
       "      <th>1</th>\n",
       "      <td>69263</td>\n",
       "      <td>0.683254</td>\n",
       "      <td>-1.681875</td>\n",
       "      <td>0.533349</td>\n",
       "      <td>-0.326064</td>\n",
       "      <td>-1.455603</td>\n",
       "      <td>0.101832</td>\n",
       "      <td>-0.520590</td>\n",
       "      <td>0.114036</td>\n",
       "      <td>-0.601760</td>\n",
       "      <td>0.444011</td>\n",
       "      <td>1.521570</td>\n",
       "      <td>0.499202</td>\n",
       "      <td>-0.127849</td>\n",
       "      <td>-0.237253</td>\n",
       "      <td>-0.752351</td>\n",
       "      <td>0.667190</td>\n",
       "      <td>0.724785</td>\n",
       "      <td>-1.736615</td>\n",
       "      <td>0.702088</td>\n",
       "      <td>0.638186</td>\n",
       "      <td>0.116898</td>\n",
       "      <td>-0.304605</td>\n",
       "      <td>-0.125547</td>\n",
       "      <td>0.244848</td>\n",
       "      <td>0.069163</td>\n",
       "      <td>-0.460712</td>\n",
       "      <td>-0.017068</td>\n",
       "      <td>0.063542</td>\n",
       "      <td>315.17</td>\n",
       "      <td>0</td>\n",
       "    </tr>\n",
       "    <tr>\n",
       "      <th>2</th>\n",
       "      <td>96552</td>\n",
       "      <td>1.067973</td>\n",
       "      <td>-0.656667</td>\n",
       "      <td>1.029738</td>\n",
       "      <td>0.253899</td>\n",
       "      <td>-1.172715</td>\n",
       "      <td>0.073232</td>\n",
       "      <td>-0.745771</td>\n",
       "      <td>0.249803</td>\n",
       "      <td>1.383057</td>\n",
       "      <td>-0.483771</td>\n",
       "      <td>-0.782780</td>\n",
       "      <td>0.005242</td>\n",
       "      <td>-1.273288</td>\n",
       "      <td>-0.269260</td>\n",
       "      <td>0.091287</td>\n",
       "      <td>-0.347973</td>\n",
       "      <td>0.495328</td>\n",
       "      <td>-0.925949</td>\n",
       "      <td>0.099138</td>\n",
       "      <td>-0.083859</td>\n",
       "      <td>-0.189315</td>\n",
       "      <td>-0.426743</td>\n",
       "      <td>0.079539</td>\n",
       "      <td>0.129692</td>\n",
       "      <td>0.002778</td>\n",
       "      <td>0.970498</td>\n",
       "      <td>-0.035056</td>\n",
       "      <td>0.017313</td>\n",
       "      <td>59.98</td>\n",
       "      <td>0</td>\n",
       "    </tr>\n",
       "    <tr>\n",
       "      <th>3</th>\n",
       "      <td>281898</td>\n",
       "      <td>0.119513</td>\n",
       "      <td>0.729275</td>\n",
       "      <td>-1.678879</td>\n",
       "      <td>-1.551408</td>\n",
       "      <td>3.128914</td>\n",
       "      <td>3.210632</td>\n",
       "      <td>0.356276</td>\n",
       "      <td>0.920374</td>\n",
       "      <td>-0.160589</td>\n",
       "      <td>-0.801748</td>\n",
       "      <td>0.137341</td>\n",
       "      <td>-0.156740</td>\n",
       "      <td>-0.429388</td>\n",
       "      <td>-0.752392</td>\n",
       "      <td>0.155272</td>\n",
       "      <td>0.215068</td>\n",
       "      <td>0.352222</td>\n",
       "      <td>-0.376168</td>\n",
       "      <td>-0.398920</td>\n",
       "      <td>0.043715</td>\n",
       "      <td>-0.335825</td>\n",
       "      <td>-0.906171</td>\n",
       "      <td>0.108350</td>\n",
       "      <td>0.593062</td>\n",
       "      <td>-0.424303</td>\n",
       "      <td>0.164201</td>\n",
       "      <td>0.245881</td>\n",
       "      <td>0.071029</td>\n",
       "      <td>0.89</td>\n",
       "      <td>0</td>\n",
       "    </tr>\n",
       "    <tr>\n",
       "      <th>4</th>\n",
       "      <td>86917</td>\n",
       "      <td>1.271253</td>\n",
       "      <td>0.275694</td>\n",
       "      <td>0.159568</td>\n",
       "      <td>1.003096</td>\n",
       "      <td>-0.128535</td>\n",
       "      <td>-0.608730</td>\n",
       "      <td>0.088777</td>\n",
       "      <td>-0.145336</td>\n",
       "      <td>0.156047</td>\n",
       "      <td>0.022707</td>\n",
       "      <td>-0.963306</td>\n",
       "      <td>-0.228074</td>\n",
       "      <td>-0.324933</td>\n",
       "      <td>0.390609</td>\n",
       "      <td>1.065923</td>\n",
       "      <td>0.285930</td>\n",
       "      <td>-0.627072</td>\n",
       "      <td>0.170175</td>\n",
       "      <td>-0.215912</td>\n",
       "      <td>-0.147394</td>\n",
       "      <td>0.031958</td>\n",
       "      <td>0.123503</td>\n",
       "      <td>-0.174528</td>\n",
       "      <td>-0.147535</td>\n",
       "      <td>0.735909</td>\n",
       "      <td>-0.262270</td>\n",
       "      <td>0.015577</td>\n",
       "      <td>0.015955</td>\n",
       "      <td>6.53</td>\n",
       "      <td>0</td>\n",
       "    </tr>\n",
       "  </tbody>\n",
       "</table>\n",
       "</div>"
      ],
      "text/plain": [
       "   Unnamed: 0        V1        V2        V3        V4        V5        V6  \\\n",
       "0      258647  1.725265 -1.337256 -1.012687 -0.361656 -1.431611 -1.098681   \n",
       "1       69263  0.683254 -1.681875  0.533349 -0.326064 -1.455603  0.101832   \n",
       "2       96552  1.067973 -0.656667  1.029738  0.253899 -1.172715  0.073232   \n",
       "3      281898  0.119513  0.729275 -1.678879 -1.551408  3.128914  3.210632   \n",
       "4       86917  1.271253  0.275694  0.159568  1.003096 -0.128535 -0.608730   \n",
       "\n",
       "         V7        V8        V9       V10       V11       V12       V13  \\\n",
       "0 -0.842274 -0.026594 -0.032409  0.215113  1.618952 -0.654046 -1.442665   \n",
       "1 -0.520590  0.114036 -0.601760  0.444011  1.521570  0.499202 -0.127849   \n",
       "2 -0.745771  0.249803  1.383057 -0.483771 -0.782780  0.005242 -1.273288   \n",
       "3  0.356276  0.920374 -0.160589 -0.801748  0.137341 -0.156740 -0.429388   \n",
       "4  0.088777 -0.145336  0.156047  0.022707 -0.963306 -0.228074 -0.324933   \n",
       "\n",
       "        V14       V15       V16       V17       V18       V19       V20  \\\n",
       "0 -1.546538 -0.230008  1.785539  1.419793  0.071666  0.233031  0.275911   \n",
       "1 -0.237253 -0.752351  0.667190  0.724785 -1.736615  0.702088  0.638186   \n",
       "2 -0.269260  0.091287 -0.347973  0.495328 -0.925949  0.099138 -0.083859   \n",
       "3 -0.752392  0.155272  0.215068  0.352222 -0.376168 -0.398920  0.043715   \n",
       "4  0.390609  1.065923  0.285930 -0.627072  0.170175 -0.215912 -0.147394   \n",
       "\n",
       "        V21       V22       V23       V24       V25       V26       V27  \\\n",
       "0  0.414524  0.793434  0.028887  0.419421 -0.367529 -0.155634 -0.015768   \n",
       "1  0.116898 -0.304605 -0.125547  0.244848  0.069163 -0.460712 -0.017068   \n",
       "2 -0.189315 -0.426743  0.079539  0.129692  0.002778  0.970498 -0.035056   \n",
       "3 -0.335825 -0.906171  0.108350  0.593062 -0.424303  0.164201  0.245881   \n",
       "4  0.031958  0.123503 -0.174528 -0.147535  0.735909 -0.262270  0.015577   \n",
       "\n",
       "        V28  Amount  Class  \n",
       "0  0.010790  189.00      0  \n",
       "1  0.063542  315.17      0  \n",
       "2  0.017313   59.98      0  \n",
       "3  0.071029    0.89      0  \n",
       "4  0.015955    6.53      0  "
      ]
     },
     "execution_count": 9,
     "metadata": {},
     "output_type": "execute_result"
    }
   ],
   "source": [
    "df.head()"
   ]
  },
  {
   "cell_type": "code",
   "execution_count": 10,
   "metadata": {
    "tags": []
   },
   "outputs": [
    {
     "data": {
      "text/plain": [
       "0    5000\n",
       "1      50\n",
       "Name: Class, dtype: int64"
      ]
     },
     "execution_count": 10,
     "metadata": {},
     "output_type": "execute_result"
    }
   ],
   "source": [
    "# Count the occurrences of fraud and no fraud and print them\n",
    "occ = df['Class'].value_counts()\n",
    "occ"
   ]
  },
  {
   "cell_type": "code",
   "execution_count": 11,
   "metadata": {
    "tags": []
   },
   "outputs": [
    {
     "name": "stdout",
     "output_type": "stream",
     "text": [
      "Ratio of fraudulent cases: 0.009900990099009901\n",
      "Ratio of non-fraudulent cases: 0.9900990099009901\n"
     ]
    }
   ],
   "source": [
    "# Print the ratio of fraud cases\n",
    "ratio_cases = occ/len(df.index)\n",
    "print(f'Ratio of fraudulent cases: {ratio_cases[1]}\\nRatio of non-fraudulent cases: {ratio_cases[0]}')"
   ]
  },
  {
   "cell_type": "markdown",
   "metadata": {},
   "source": [
    "**The ratio of fraudulent transactions is very low. This is a case of class imbalance problem, and you're going to learn how to deal with this in the next exercises.**"
   ]
  },
  {
   "cell_type": "markdown",
   "metadata": {},
   "source": [
    "### Data visualization\n",
    "\n",
    "From the previous exercise we know that the ratio of fraud to non-fraud observations is very low. You can do something about that, for example by **re-sampling** our data, which is explained in the next video.\n",
    "\n",
    "In this exercise, you'll look at the data and **visualize the fraud to non-fraud ratio**. It is always a good starting point in your fraud analysis, to look at your data first, before you make any changes to it.\n",
    "\n",
    "Moreover, when talking to your colleagues, a picture often makes it very clear that we're dealing with heavily imbalanced data. Let's create a plot to visualize the ratio fraud to non-fraud data points on the dataset `df`.\n",
    "\n",
    "The function `prep_data()` is already loaded in your workspace, as well as `matplotlib.pyplot as plt`.\n",
    "\n",
    "**Instructions**\n",
    "\n",
    "* Define the `plot_data(X, y)` function, that will nicely plot the given feature set `X` with labels `y` in a scatter plot. This has been done for you.\n",
    "* Use the function `prep_data()` on your dataset `df` to create feature set `X` and labels `y`.\n",
    "* Run the function `plot_data()` on your newly obtained `X` and `y` to visualize your results."
   ]
  },
  {
   "cell_type": "markdown",
   "metadata": {},
   "source": [
    "#### def prep_data"
   ]
  },
  {
   "cell_type": "code",
   "execution_count": 12,
   "metadata": {
    "tags": []
   },
   "outputs": [],
   "source": [
    "def prep_data(df: pd.DataFrame) -> (np.ndarray, np.ndarray):\n",
    "    \"\"\"\n",
    "    Convert the DataFrame into two variable\n",
    "    X: data columns (V1 - V28)\n",
    "    y: lable column\n",
    "    \"\"\"\n",
    "    X = df.iloc[:, 2:30].values\n",
    "    y = df.Class.values\n",
    "    return X, y"
   ]
  },
  {
   "cell_type": "markdown",
   "metadata": {},
   "source": [
    "#### def plot_data"
   ]
  },
  {
   "cell_type": "code",
   "execution_count": 13,
   "metadata": {
    "tags": []
   },
   "outputs": [],
   "source": [
    "# Define a function to create a scatter plot of our data and labels\n",
    "def plot_data(X: np.ndarray, y: np.ndarray):\n",
    "    plt.scatter(X[y == 0, 0], X[y == 0, 1], label=\"Class #0\", alpha=0.5, linewidth=0.15)\n",
    "    plt.scatter(X[y == 1, 0], X[y == 1, 1], label=\"Class #1\", alpha=0.5, linewidth=0.15, c='r')\n",
    "    plt.legend()\n",
    "    return plt.show()"
   ]
  },
  {
   "cell_type": "code",
   "execution_count": 14,
   "metadata": {
    "tags": []
   },
   "outputs": [],
   "source": [
    "# Create X and y from the prep_data function \n",
    "X, y = prep_data(df)"
   ]
  },
  {
   "cell_type": "code",
   "execution_count": 15,
   "metadata": {
    "tags": []
   },
   "outputs": [
    {
     "data": {
      "image/png": "[encoded data removed]",
      "text/plain": [
       "<Figure size 432x288 with 1 Axes>"
      ]
     },
     "metadata": {
      "needs_background": "light"
     },
     "output_type": "display_data"
    }
   ],
   "source": [
    "# Plot our data by running our plot data function on X and y\n",
    "plot_data(X, y)"
   ]
  },
  {
   "cell_type": "markdown",
   "metadata": {},
   "source": [
    "**By visualizing the data, you can immediately see how our fraud cases are scattered over our data, and how few cases we have. A picture often makes the imbalance problem clear. In the next exercises we'll visually explore how to improve our fraud to non-fraud balance.**"
   ]
  },
  {
   "cell_type": "markdown",
   "metadata": {},
   "source": [
    "#### Reproduced using the DataFrame"
   ]
  },
  {
   "cell_type": "code",
   "execution_count": 16,
   "metadata": {
    "tags": []
   },
   "outputs": [
    {
     "data": {
      "image/png": "[encoded data removed]",
      "text/plain": [
       "<Figure size 432x288 with 1 Axes>"
      ]
     },
     "metadata": {
      "needs_background": "light"
     },
     "output_type": "display_data"
    }
   ],
   "source": [
    "plt.scatter(df.V2[df.Class == 0], df.V3[df.Class == 0], label=\"Class #0\", alpha=0.5, linewidth=0.15)\n",
    "plt.scatter(df.V2[df.Class == 1], df.V3[df.Class == 1], label=\"Class #1\", alpha=0.5, linewidth=0.15, c='r')\n",
    "plt.legend()\n",
    "plt.show()"
   ]
  },
  {
   "cell_type": "markdown",
   "metadata": {},
   "source": [
    "## Increase successful detections with data resampling\n",
    "\n",
    "* resampling can help model performance in cases of imbalanced data sets"
   ]
  },
  {
   "cell_type": "markdown",
   "metadata": {},
   "source": [
    "#### Undersampling\n",
    "\n",
    "* ![undersampling](https://raw.githubusercontent.com/trenton3983/DataCamp/master/Images/fraud_detection/undersampling.JPG)\n",
    "* Undersampling the majority class (non-fraud cases)\n",
    "    * Straightforward method to adjust imbalanced data\n",
    "    * Take random draws from the non-fraud observations, to match the occurences of fraud observations (as shown in the picture)"
   ]
  },
  {
   "cell_type": "markdown",
   "metadata": {},
   "source": [
    "#### Oversampling\n",
    "\n",
    "* ![oversampling](https://raw.githubusercontent.com/trenton3983/DataCamp/master/Images/fraud_detection/oversampling.JPG)\n",
    "* Oversampling the minority class (fraud cases)\n",
    "    * Take random draws from the fraud cases and copy those observations to increase the amount of fraud samples\n",
    "* Both methods lead to having a balance between fraud and non-fraud cases\n",
    "* Drawbacks\n",
    "    * with random undersampling, a lot of information is thrown away\n",
    "    * with oversampling, the model will be trained on a lot of duplicates"
   ]
  },
  {
   "cell_type": "markdown",
   "metadata": {},
   "source": [
    "#### Implement resampling methods using Python imblean module\n",
    "\n",
    "* compatible with scikit-learn\n",
    "\n",
    "```python\n",
    "from imblearn.over_sampling import RandomOverSampler\n",
    "\n",
    "method = RandomOverSampler()\n",
    "X_resampled, y_resampled =  method.fit_sample(X, y)\n",
    "\n",
    "compare_plots(X_resampled, y_resampled, X, y)\n",
    "```\n",
    "\n",
    "![oversampling plot](https://raw.githubusercontent.com/trenton3983/DataCamp/master/Images/fraud_detection/oversampling_plot.JPG)\n",
    "* The darker blue points reflect there are more identical data"
   ]
  },
  {
   "cell_type": "markdown",
   "metadata": {},
   "source": [
    "#### SMOTE\n",
    "\n",
    "* ![smote](https://raw.githubusercontent.com/trenton3983/DataCamp/master/Images/fraud_detection/smote.JPG)\n",
    "* Synthetic minority Oversampling Technique (SMOTE)\n",
    "    * [Resampling strategies for Imbalanced Data Sets](https://www.kaggle.com/rafjaa/resampling-strategies-for-imbalanced-datasets)\n",
    "    * Another way of adjusting the imbalance by oversampling minority observations\n",
    "    * SMOTE uses characteristics of nearest neighbors of fraud cases to create new synthetic fraud cases\n",
    "        * avoids duplicating observations"
   ]
  },
  {
   "cell_type": "markdown",
   "metadata": {},
   "source": [
    "#### Determining the best resampling method is situational\n",
    "\n",
    "* Random Undersampling (RUS):\n",
    "    * If there is a lot of data and many minority cases, then undersampling may be computationally more convenient\n",
    "        * In most cases, throwing away data is not desirable\n",
    "* Random Oversampling (ROS):\n",
    "    * Straightforward\n",
    "    * Training the model on many duplicates\n",
    "* SMOTE:\n",
    "    * more sophisticated\n",
    "    * realistic data set\n",
    "    * training on synthetic data\n",
    "    * only works well if the minority case features are similar\n",
    "        * **if fraud is spread through the data and not distinct, using nearest neighbors to create more fraud cases, introduces noise into the data, as the nearest neighbors might not be fraud cases**"
   ]
  },
  {
   "cell_type": "markdown",
   "metadata": {},
   "source": [
    "#### When to use resmapling methods\n",
    "\n",
    "* Use resampling methods on the training set, not on the test set\n",
    "* The goal is to produce a better model by providing balanced data\n",
    "    * The goal is not to predict the synthetic samples\n",
    "* Test data should be free of duplicates and synthetic data\n",
    "* Only test the model on real data\n",
    "    * First, spit the data into train and test sets\n",
    "    \n",
    "```python\n",
    "# Define resampling method and split into train and test\n",
    "method = SMOTE(kind='borderline1')\n",
    "X_train, X_test, y_train, y_test = train_test_split(X, y, train_size=0.8, random_state=0)\n",
    "\n",
    "# Apply resampling to the training data only\n",
    "X_resampled, y_resampled = method.fit_sample(X_train, y_train)\n",
    "\n",
    "# Continue fitting the model and obtain predictions\n",
    "model = LogisticRegression()\n",
    "model.fit(X_resampled, y_resampled)\n",
    "\n",
    "# Get model performance metrics\n",
    "predicted = model.predict(X_test)\n",
    "print(classification_report(y_test, predicted))\n",
    "```"
   ]
  },
  {
   "cell_type": "markdown",
   "metadata": {},
   "source": [
    "### Resampling methods for imbalanced data\n",
    "\n",
    "Which of these methods takes a random subsample of your majority class to account for class \"imbalancedness\"?\n",
    "\n",
    "**Possible Answers**\n",
    "\n",
    "* ~~Random Over Sampling (ROS)~~\n",
    "* **Random Under Sampling (RUS)**\n",
    "* ~~Synthetic Minority Over-sampling Technique (SMOTE)~~\n",
    "* ~~None of the above~~\n",
    "\n",
    "**By using ROS and SMOTE you add more examples to the minority class. RUS adjusts the balance of your data by reducing the majority class.**"
   ]
  },
  {
   "cell_type": "markdown",
   "metadata": {},
   "source": [
    "### Applying Synthetic Minority Oversampling Technique (SMOTE)\n",
    "\n",
    "In this exercise, you're going to re-balance our data using the **Synthetic Minority Over-sampling Technique** (SMOTE). Unlike ROS, SMOTE does not create exact copies of observations, but **creates new, synthetic, samples** that are quite similar to the existing observations in the minority class. SMOTE is therefore slightly more sophisticated than just copying observations, so let's apply SMOTE to our credit card data. The dataset `df` is available and the packages you need for SMOTE are imported. In the following exercise, you'll visualize the result and compare it to the original data, such that you can see the effect of applying SMOTE very clearly.\n",
    "\n",
    "**Instructions**\n",
    "\n",
    "* Use the `prep_data` function on `df` to create features `X` and labels `y`.\n",
    "* Define the resampling method as SMOTE of the regular kind, under the variable `method`.\n",
    "* Use `.fit_sample()` on the original `X` and `y` to obtain newly resampled data.\n",
    "* Plot the resampled data using the `plot_data()` function."
   ]
  },
  {
   "cell_type": "code",
   "execution_count": 17,
   "metadata": {
    "tags": []
   },
   "outputs": [],
   "source": [
    "# Run the prep_data function\n",
    "X, y = prep_data(df)"
   ]
  },
  {
   "cell_type": "code",
   "execution_count": 18,
   "metadata": {
    "tags": []
   },
   "outputs": [
    {
     "name": "stdout",
     "output_type": "stream",
     "text": [
      "X shape: (5050, 28)\n",
      "y shape: (5050,)\n"
     ]
    }
   ],
   "source": [
    "print(f'X shape: {X.shape}\\ny shape: {y.shape}')"
   ]
  },
  {
   "cell_type": "code",
   "execution_count": 19,
   "metadata": {
    "tags": []
   },
   "outputs": [],
   "source": [
    "# Define the resampling method\n",
    "method = SMOTE()"
   ]
  },
  {
   "cell_type": "code",
   "execution_count": 20,
   "metadata": {
    "tags": []
   },
   "outputs": [],
   "source": [
    "# Create the resampled feature set\n",
    "X_resampled, y_resampled = method.fit_sample(X, y)"
   ]
  },
  {
   "cell_type": "code",
   "execution_count": 21,
   "metadata": {
    "tags": []
   },
   "outputs": [
    {
     "data": {
      "image/png": "[encoded data removed]",
      "text/plain": [
       "<Figure size 432x288 with 1 Axes>"
      ]
     },
     "metadata": {
      "needs_background": "light"
     },
     "output_type": "display_data"
    }
   ],
   "source": [
    "# Plot the resampled data\n",
    "plot_data(X_resampled, y_resampled)"
   ]
  },
  {
   "cell_type": "markdown",
   "metadata": {},
   "source": [
    "**The minority class is now much more prominently visible in our data. To see the results of SMOTE even better, we'll compare it to the original data in the next exercise.**"
   ]
  },
  {
   "cell_type": "markdown",
   "metadata": {},
   "source": [
    "### Compare SMOTE to original data\n",
    "\n",
    "In the last exercise, you saw that using SMOTE suddenly gives us more observations of the minority class. Let's compare those results to our original data, to get a good feeling for what has actually happened. Let's have a look at the value counts again of our old and new data, and let's plot the two scatter plots of the data side by side. You'll use the function compare_plot() for that that, which takes the following arguments: `X`, `y`, `X_resampled`, `y_resampled`, `method=''`. The function plots your original data in a scatter plot, along with the resampled side by side.\n",
    "\n",
    "**Instructions**\n",
    "\n",
    "* Print the value counts of our original labels, `y`. Be mindful that `y` is currently a Numpy array, so in order to use value counts, we'll assign `y` back as a pandas Series object.\n",
    "* Repeat the step and print the value counts on `y_resampled`. This shows you how the balance between the two classes has changed with SMOTE.\n",
    "* Use the `compare_plot()` function called on our original data as well our resampled data to see the scatterplots side by side."
   ]
  },
  {
   "cell_type": "code",
   "execution_count": 22,
   "metadata": {
    "tags": []
   },
   "outputs": [
    {
     "data": {
      "text/plain": [
       "0    5000\n",
       "1      50\n",
       "dtype: int64"
      ]
     },
     "execution_count": 22,
     "metadata": {},
     "output_type": "execute_result"
    }
   ],
   "source": [
    "pd.value_counts(pd.Series(y))"
   ]
  },
  {
   "cell_type": "code",
   "execution_count": 23,
   "metadata": {
    "tags": []
   },
   "outputs": [
    {
     "data": {
      "text/plain": [
       "0    5000\n",
       "1    5000\n",
       "dtype: int64"
      ]
     },
     "execution_count": 23,
     "metadata": {},
     "output_type": "execute_result"
    }
   ],
   "source": [
    "pd.value_counts(pd.Series(y_resampled))"
   ]
  },
  {
   "cell_type": "markdown",
   "metadata": {},
   "source": [
    "#### def compare_plot"
   ]
  },
  {
   "cell_type": "code",
   "execution_count": 24,
   "metadata": {
    "tags": []
   },
   "outputs": [],
   "source": [
    "def compare_plot(X: np.ndarray, y: np.ndarray, X_resampled: np.ndarray, y_resampled: np.ndarray, method: str):\n",
    "    plt.subplot(1, 2, 1)\n",
    "    plt.scatter(X[y == 0, 0], X[y == 0, 1], label=\"Class #0\", alpha=0.5, linewidth=0.15)\n",
    "    plt.scatter(X[y == 1, 0], X[y == 1, 1], label=\"Class #1\", alpha=0.5, linewidth=0.15, c='r')\n",
    "    plt.title('Original Set')\n",
    "    plt.subplot(1, 2, 2)\n",
    "    plt.scatter(X_resampled[y_resampled == 0, 0], X_resampled[y_resampled == 0, 1], label=\"Class #0\", alpha=0.5, linewidth=0.15)\n",
    "    plt.scatter(X_resampled[y_resampled == 1, 0], X_resampled[y_resampled == 1, 1], label=\"Class #1\", alpha=0.5, linewidth=0.15, c='r')\n",
    "    plt.title(method)\n",
    "    plt.legend()\n",
    "    plt.show()"
   ]
  },
  {
   "cell_type": "code",
   "execution_count": null,
   "metadata": {},
   "outputs": [],
   "source": [
    "compare_plot(X, y, X_resampled, y_resampled, method='SMOTE')"
   ]
  },
  {
   "cell_type": "markdown",
   "metadata": {},
   "source": [
    "**It should by now be clear that SMOTE has balanced our data completely, and that the minority class is now equal in size to the majority class. Visualizing the data shows the effect on the data very clearly. The next exercise will demonstrate multiple ways to implement SMOTE and that each method will have a slightly different effect.**"
   ]
  },
  {
   "cell_type": "markdown",
   "metadata": {},
   "source": [
    "## Fraud detection algorithms in action"
   ]
  },
  {
   "cell_type": "markdown",
   "metadata": {},
   "source": [
    "#### Rules Based Systems\n",
    "\n",
    "* ![rules based](https://raw.githubusercontent.com/trenton3983/DataCamp/master/Images/fraud_detection/rules_based.JPG)\n",
    "* Might block transactions from risky zip codes\n",
    "* Block transactions from cards used too frequently (e.g. last 30 minutes)\n",
    "* Can catch fraud, but also generates false alarms (false positive)\n",
    "* Limitations:\n",
    "    * Fixed threshold per rule and it's difficult to determine the threshold; they don't adapt over time\n",
    "    * Limited to yes / no outcomes, whereas ML yields a probability\n",
    "        * probability allows for fine-tuning the outcomes (i.e. rate of occurences of false positives and false negatives)\n",
    "    * Fails to capture interaction between features\n",
    "        * Ex. Size of the transaction only matters in combination to the frequency"
   ]
  },
  {
   "cell_type": "markdown",
   "metadata": {},
   "source": [
    "#### ML Based Systems\n",
    "\n",
    "* Adapt to the data, thus can change over time\n",
    "* Uses all the data combined, rather than a threshold per feature\n",
    "* Produces a probability, rather than a binary score\n",
    "* Typically have better performance and can be combined with rules"
   ]
  },
  {
   "cell_type": "code",
   "execution_count": 25,
   "metadata": {
    "tags": []
   },
   "outputs": [],
   "source": [
    "# Step 1: split the features and labels into train and test data\n",
    "X_train, X_test, y_train, y_test = train_test_split(X, y, test_size=0.2)"
   ]
  },
  {
   "cell_type": "code",
   "execution_count": 26,
   "metadata": {
    "tags": []
   },
   "outputs": [],
   "source": [
    "# Step 2: Define which model to use\n",
    "model = LinearRegression()"
   ]
  },
  {
   "cell_type": "code",
   "execution_count": 27,
   "metadata": {
    "tags": []
   },
   "outputs": [
    {
     "data": {
      "text/plain": [
       "LinearRegression()"
      ]
     },
     "execution_count": 27,
     "metadata": {},
     "output_type": "execute_result"
    }
   ],
   "source": [
    "# Step 3: Fit the model to the training data\n",
    "model.fit(X_train, y_train)"
   ]
  },
  {
   "cell_type": "code",
   "execution_count": 28,
   "metadata": {
    "tags": []
   },
   "outputs": [],
   "source": [
    "# Step 4: Obtain model predictions from the test data\n",
    "y_predicted = model.predict(X_test)"
   ]
  },
  {
   "cell_type": "code",
   "execution_count": 29,
   "metadata": {
    "tags": []
   },
   "outputs": [
    {
     "data": {
      "text/plain": [
       "0.7445147370037761"
      ]
     },
     "execution_count": 29,
     "metadata": {},
     "output_type": "execute_result"
    }
   ],
   "source": [
    "# Step 5: Compare y_test to predictions and obtain performance metrics (r^2 score)\n",
    "r2_score(y_test, y_predicted)"
   ]
  },
  {
   "cell_type": "markdown",
   "metadata": {},
   "source": [
    "### Exploring the traditional method of fraud detection\n",
    "\n",
    "In this exercise you're going to try finding fraud cases in our credit card dataset the *\"old way\"*. First you'll define threshold values using common statistics, to split fraud and non-fraud. Then, use those thresholds on your features to detect fraud. This is common practice within fraud analytics teams.\n",
    "\n",
    "Statistical thresholds are often determined by looking at the **mean** values of observations. Let's start this exercise by checking whether feature **means differ between fraud and non-fraud cases**. Then, you'll use that information to create common sense thresholds. Finally, you'll check how well this performs in fraud detection.\n",
    "\n",
    "`pandas` has already been imported as `pd`.\n",
    "\n",
    "**Instructions**\n",
    "\n",
    "* Use `groupby()` to group `df` on `Class` and obtain the mean of the features.\n",
    "* Create the condition `V1` smaller than -3, and `V3` smaller than -5 as a condition to flag fraud cases.\n",
    "* As a measure of performance, use the `crosstab` function from `pandas` to compare our flagged fraud cases to actual fraud cases."
   ]
  },
  {
   "cell_type": "code",
   "execution_count": 30,
   "metadata": {
    "tags": []
   },
   "outputs": [],
   "source": [
    "df.drop(['Unnamed: 0'], axis=1, inplace=True)"
   ]
  },
  {
   "cell_type": "code",
   "execution_count": 31,
   "metadata": {
    "tags": []
   },
   "outputs": [
    {
     "data": {
      "text/html": [
       "<div>\n",
       "<style scoped>\n",
       "    .dataframe tbody tr th:only-of-type {\n",
       "        vertical-align: middle;\n",
       "    }\n",
       "\n",
       "    .dataframe tbody tr th {\n",
       "        vertical-align: top;\n",
       "    }\n",
       "\n",
       "    .dataframe thead th {\n",
       "        text-align: right;\n",
       "    }\n",
       "</style>\n",
       "<table border=\"1\" class=\"dataframe\">\n",
       "  <thead>\n",
       "    <tr style=\"text-align: right;\">\n",
       "      <th></th>\n",
       "      <th>V1</th>\n",
       "      <th>V2</th>\n",
       "      <th>V3</th>\n",
       "      <th>V4</th>\n",
       "      <th>V5</th>\n",
       "      <th>V6</th>\n",
       "      <th>V7</th>\n",
       "      <th>V8</th>\n",
       "      <th>V9</th>\n",
       "      <th>V10</th>\n",
       "      <th>V11</th>\n",
       "      <th>V12</th>\n",
       "      <th>V13</th>\n",
       "      <th>V14</th>\n",
       "      <th>V15</th>\n",
       "      <th>V16</th>\n",
       "      <th>V17</th>\n",
       "      <th>V18</th>\n",
       "      <th>V19</th>\n",
       "      <th>V20</th>\n",
       "      <th>V21</th>\n",
       "      <th>V22</th>\n",
       "      <th>V23</th>\n",
       "      <th>V24</th>\n",
       "      <th>V25</th>\n",
       "      <th>V26</th>\n",
       "      <th>V27</th>\n",
       "      <th>V28</th>\n",
       "      <th>Amount</th>\n",
       "    </tr>\n",
       "    <tr>\n",
       "      <th>Class</th>\n",
       "      <th></th>\n",
       "      <th></th>\n",
       "      <th></th>\n",
       "      <th></th>\n",
       "      <th></th>\n",
       "      <th></th>\n",
       "      <th></th>\n",
       "      <th></th>\n",
       "      <th></th>\n",
       "      <th></th>\n",
       "      <th></th>\n",
       "      <th></th>\n",
       "      <th></th>\n",
       "      <th></th>\n",
       "      <th></th>\n",
       "      <th></th>\n",
       "      <th></th>\n",
       "      <th></th>\n",
       "      <th></th>\n",
       "      <th></th>\n",
       "      <th></th>\n",
       "      <th></th>\n",
       "      <th></th>\n",
       "      <th></th>\n",
       "      <th></th>\n",
       "      <th></th>\n",
       "      <th></th>\n",
       "      <th></th>\n",
       "      <th></th>\n",
       "    </tr>\n",
       "  </thead>\n",
       "  <tbody>\n",
       "    <tr>\n",
       "      <th>0</th>\n",
       "      <td>0.035030</td>\n",
       "      <td>0.011553</td>\n",
       "      <td>0.037444</td>\n",
       "      <td>-0.045760</td>\n",
       "      <td>-0.013825</td>\n",
       "      <td>-0.030885</td>\n",
       "      <td>0.014315</td>\n",
       "      <td>-0.022432</td>\n",
       "      <td>-0.002227</td>\n",
       "      <td>0.001667</td>\n",
       "      <td>-0.004511</td>\n",
       "      <td>0.017434</td>\n",
       "      <td>0.004204</td>\n",
       "      <td>0.006542</td>\n",
       "      <td>-0.026640</td>\n",
       "      <td>0.001190</td>\n",
       "      <td>0.004481</td>\n",
       "      <td>-0.010892</td>\n",
       "      <td>-0.016554</td>\n",
       "      <td>-0.002896</td>\n",
       "      <td>-0.010583</td>\n",
       "      <td>-0.010206</td>\n",
       "      <td>-0.003305</td>\n",
       "      <td>-0.000918</td>\n",
       "      <td>-0.002613</td>\n",
       "      <td>-0.004651</td>\n",
       "      <td>-0.009584</td>\n",
       "      <td>0.002414</td>\n",
       "      <td>85.843714</td>\n",
       "    </tr>\n",
       "    <tr>\n",
       "      <th>1</th>\n",
       "      <td>-4.985211</td>\n",
       "      <td>3.321539</td>\n",
       "      <td>-7.293909</td>\n",
       "      <td>4.827952</td>\n",
       "      <td>-3.326587</td>\n",
       "      <td>-1.591882</td>\n",
       "      <td>-5.776541</td>\n",
       "      <td>1.395058</td>\n",
       "      <td>-2.537728</td>\n",
       "      <td>-5.917934</td>\n",
       "      <td>4.020563</td>\n",
       "      <td>-7.032865</td>\n",
       "      <td>-0.104179</td>\n",
       "      <td>-7.100399</td>\n",
       "      <td>-0.120265</td>\n",
       "      <td>-4.658854</td>\n",
       "      <td>-7.589219</td>\n",
       "      <td>-2.650436</td>\n",
       "      <td>0.894255</td>\n",
       "      <td>0.194580</td>\n",
       "      <td>0.703182</td>\n",
       "      <td>0.069065</td>\n",
       "      <td>-0.088374</td>\n",
       "      <td>-0.029425</td>\n",
       "      <td>-0.073336</td>\n",
       "      <td>-0.023377</td>\n",
       "      <td>0.380072</td>\n",
       "      <td>0.009304</td>\n",
       "      <td>113.469000</td>\n",
       "    </tr>\n",
       "  </tbody>\n",
       "</table>\n",
       "</div>"
      ],
      "text/plain": [
       "             V1        V2        V3        V4        V5        V6        V7  \\\n",
       "Class                                                                         \n",
       "0      0.035030  0.011553  0.037444 -0.045760 -0.013825 -0.030885  0.014315   \n",
       "1     -4.985211  3.321539 -7.293909  4.827952 -3.326587 -1.591882 -5.776541   \n",
       "\n",
       "             V8        V9       V10       V11       V12       V13       V14  \\\n",
       "Class                                                                         \n",
       "0     -0.022432 -0.002227  0.001667 -0.004511  0.017434  0.004204  0.006542   \n",
       "1      1.395058 -2.537728 -5.917934  4.020563 -7.032865 -0.104179 -7.100399   \n",
       "\n",
       "            V15       V16       V17       V18       V19       V20       V21  \\\n",
       "Class                                                                         \n",
       "0     -0.026640  0.001190  0.004481 -0.010892 -0.016554 -0.002896 -0.010583   \n",
       "1     -0.120265 -4.658854 -7.589219 -2.650436  0.894255  0.194580  0.703182   \n",
       "\n",
       "            V22       V23       V24       V25       V26       V27       V28  \\\n",
       "Class                                                                         \n",
       "0     -0.010206 -0.003305 -0.000918 -0.002613 -0.004651 -0.009584  0.002414   \n",
       "1      0.069065 -0.088374 -0.029425 -0.073336 -0.023377  0.380072  0.009304   \n",
       "\n",
       "           Amount  \n",
       "Class              \n",
       "0       85.843714  \n",
       "1      113.469000  "
      ]
     },
     "execution_count": 31,
     "metadata": {},
     "output_type": "execute_result"
    }
   ],
   "source": [
    "df.groupby('Class').mean()"
   ]
  },
  {
   "cell_type": "code",
   "execution_count": 32,
   "metadata": {
    "tags": []
   },
   "outputs": [],
   "source": [
    "df['flag_as_fraud'] = np.where(np.logical_and(df.V1 < -3, df.V3 < -5), 1, 0)"
   ]
  },
  {
   "cell_type": "code",
   "execution_count": 33,
   "metadata": {
    "tags": []
   },
   "outputs": [
    {
     "data": {
      "text/html": [
       "<div>\n",
       "<style scoped>\n",
       "    .dataframe tbody tr th:only-of-type {\n",
       "        vertical-align: middle;\n",
       "    }\n",
       "\n",
       "    .dataframe tbody tr th {\n",
       "        vertical-align: top;\n",
       "    }\n",
       "\n",
       "    .dataframe thead th {\n",
       "        text-align: right;\n",
       "    }\n",
       "</style>\n",
       "<table border=\"1\" class=\"dataframe\">\n",
       "  <thead>\n",
       "    <tr style=\"text-align: right;\">\n",
       "      <th>Flagged Fraud</th>\n",
       "      <th>0</th>\n",
       "      <th>1</th>\n",
       "    </tr>\n",
       "    <tr>\n",
       "      <th>Actual Fraud</th>\n",
       "      <th></th>\n",
       "      <th></th>\n",
       "    </tr>\n",
       "  </thead>\n",
       "  <tbody>\n",
       "    <tr>\n",
       "      <th>0</th>\n",
       "      <td>4984</td>\n",
       "      <td>16</td>\n",
       "    </tr>\n",
       "    <tr>\n",
       "      <th>1</th>\n",
       "      <td>28</td>\n",
       "      <td>22</td>\n",
       "    </tr>\n",
       "  </tbody>\n",
       "</table>\n",
       "</div>"
      ],
      "text/plain": [
       "Flagged Fraud     0   1\n",
       "Actual Fraud           \n",
       "0              4984  16\n",
       "1                28  22"
      ]
     },
     "execution_count": 33,
     "metadata": {},
     "output_type": "execute_result"
    }
   ],
   "source": [
    "pd.crosstab(df.Class, df.flag_as_fraud, rownames=['Actual Fraud'], colnames=['Flagged Fraud'])"
   ]
  },
  {
   "cell_type": "markdown",
   "metadata": {},
   "source": [
    "**With this rule, 22 out of 50 fraud cases are detected, 28 are not detected, and 16 false positives are identified.**"
   ]
  },
  {
   "cell_type": "markdown",
   "metadata": {},
   "source": [
    "### Using ML classification to catch fraud\n",
    "\n",
    "In this exercise you'll see what happens when you use a simple machine learning model on our credit card data instead.\n",
    "\n",
    "Do you think you can beat those results? Remember, you've predicted *22 out of 50* fraud cases, and had *16 false positives*.\n",
    "\n",
    "So with that in mind, let's implement a **Logistic Regression** model. If you have taken the class on supervised learning in Python, you should be familiar with this model. If not, you might want to refresh that at this point. But don't worry, you'll be guided through the structure of the machine learning model.\n",
    "\n",
    "The `X` and `y` variables are available in your workspace.\n",
    "\n",
    "**Instructions**\n",
    "\n",
    "* Split `X` and `y` into training and test data, keeping 30% of the data for testing.\n",
    "* Fit your model to your training data.\n",
    "* Obtain the model predicted labels by running `model.predict` on `X_test`.\n",
    "* Obtain a classification comparing `y_test` with `predicted`, and use the given confusion matrix to check your results."
   ]
  },
  {
   "cell_type": "code",
   "execution_count": 34,
   "metadata": {
    "tags": []
   },
   "outputs": [],
   "source": [
    "# Create the training and testing sets\n",
    "X_train, X_test, y_train, y_test = train_test_split(X, y, test_size=0.3, random_state=0)"
   ]
  },
  {
   "cell_type": "code",
   "execution_count": 35,
   "metadata": {
    "tags": []
   },
   "outputs": [
    {
     "data": {
      "text/plain": [
       "LogisticRegression(solver='liblinear')"
      ]
     },
     "execution_count": 35,
     "metadata": {},
     "output_type": "execute_result"
    }
   ],
   "source": [
    "# Fit a logistic regression model to our data\n",
    "model = LogisticRegression(solver='liblinear')\n",
    "model.fit(X_train, y_train)"
   ]
  },
  {
   "cell_type": "code",
   "execution_count": 36,
   "metadata": {
    "tags": []
   },
   "outputs": [],
   "source": [
    "# Obtain model predictions\n",
    "predicted = model.predict(X_test)"
   ]
  },
  {
   "cell_type": "code",
   "execution_count": 37,
   "metadata": {
    "tags": []
   },
   "outputs": [
    {
     "name": "stdout",
     "output_type": "stream",
     "text": [
      "Classification report:\n",
      "               precision    recall  f1-score   support\n",
      "\n",
      "           0       1.00      1.00      1.00      1505\n",
      "           1       0.89      0.80      0.84        10\n",
      "\n",
      "    accuracy                           1.00      1515\n",
      "   macro avg       0.94      0.90      0.92      1515\n",
      "weighted avg       1.00      1.00      1.00      1515\n",
      "\n",
      "Confusion matrix:\n",
      " [[1504    1]\n",
      " [   2    8]]\n"
     ]
    }
   ],
   "source": [
    "# Print the classifcation report and confusion matrix\n",
    "print('Classification report:\\n', classification_report(y_test, predicted))\n",
    "conf_mat = confusion_matrix(y_true=y_test, y_pred=predicted)\n",
    "print('Confusion matrix:\\n', conf_mat)"
   ]
  },
  {
   "cell_type": "markdown",
   "metadata": {},
   "source": [
    "**Do you think these results are better than the rules based model? We are getting far fewer false positives, so that's an improvement. Also, we're catching a higher percentage of fraud cases, so that is also better than before. Do you understand why we have fewer observations to look at in the confusion matrix? Remember we are using only our test data to calculate the model results on. We're comparing the crosstab on the full dataset from the last exercise, with a confusion matrix of only 30% of the total dataset, so that's where that difference comes from. In the next chapter, we'll dive deeper into understanding these model performance metrics. Let's now explore whether we can improve the prediction results even further with resampling methods.**"
   ]
  },
  {
   "cell_type": "markdown",
   "metadata": {},
   "source": [
    "### Logistic regression with SMOTE\n",
    "\n",
    "In this exercise, you're going to take the Logistic Regression model from the previous exercise, and combine that with a **SMOTE resampling method**. We'll show you how to do that efficiently by using a pipeline that combines the resampling method with the model in one go. First, you need to define the pipeline that you're going to use.\n",
    "\n",
    "**Instructions**\n",
    "\n",
    "* Import the `Pipeline` module from `imblearn`, this has been done for you.\n",
    "* Then define what you want to put into the pipeline, assign the `SMOTE` method with `borderline2` to `resampling`, and assign `LogisticRegression()` to the `model`.\n",
    "* Combine two steps in the `Pipeline()` function. You need to state you want to combine `resampling` with the `model` in the respective place in the argument. I show you how to do this."
   ]
  },
  {
   "cell_type": "code",
   "execution_count": 38,
   "metadata": {
    "tags": []
   },
   "outputs": [],
   "source": [
    "# Define which resampling method and which ML model to use in the pipeline\n",
    "# resampling = SMOTE(kind='borderline2')  # has been changed to BorderlineSMOTE\n",
    "resampling = BorderlineSMOTE()\n",
    "model = LogisticRegression(solver='liblinear')"
   ]
  },
  {
   "cell_type": "code",
   "execution_count": 39,
   "metadata": {
    "tags": []
   },
   "outputs": [],
   "source": [
    "pipeline = Pipeline([('SMOTE', resampling), ('Logistic Regression', model)])"
   ]
  },
  {
   "cell_type": "markdown",
   "metadata": {},
   "source": [
    "### Pipelining\n",
    "\n",
    "Now that you have our pipeline defined, aka **combining a logistic regression with a SMOTE method**, let's run it on the data. You can treat the pipeline as if it were a **single machine learning model**. Our data X and y are already defined, and the pipeline is defined in the previous exercise. Are you curious to find out what the model results are? Let's give it a try!\n",
    "\n",
    "**Instructions**\n",
    "\n",
    "* Split the data 'X'and 'y' into the training and test set. Set aside 30% of the data for a test set, and set the `random_state` to zero.\n",
    "* Fit your pipeline onto your training data and obtain the predictions by running the `pipeline.predict()` function on our `X_test` dataset."
   ]
  },
  {
   "cell_type": "code",
   "execution_count": 40,
   "metadata": {
    "tags": []
   },
   "outputs": [],
   "source": [
    "# Split your data X and y, into a training and a test set and fit the pipeline onto the training data\n",
    "X_train, X_test, y_train, y_test = train_test_split(X, y, test_size=0.3, random_state=0)"
   ]
  },
  {
   "cell_type": "code",
   "execution_count": 41,
   "metadata": {
    "tags": []
   },
   "outputs": [],
   "source": [
    "pipeline.fit(X_train, y_train) \n",
    "predicted = pipeline.predict(X_test)"
   ]
  },
  {
   "cell_type": "code",
   "execution_count": 42,
   "metadata": {
    "tags": []
   },
   "outputs": [
    {
     "name": "stdout",
     "output_type": "stream",
     "text": [
      "Classifcation report:\n",
      "               precision    recall  f1-score   support\n",
      "\n",
      "           0       1.00      1.00      1.00      1505\n",
      "           1       0.62      1.00      0.77        10\n",
      "\n",
      "    accuracy                           1.00      1515\n",
      "   macro avg       0.81      1.00      0.88      1515\n",
      "weighted avg       1.00      1.00      1.00      1515\n",
      "\n",
      "Confusion matrix:\n",
      " [[1499    6]\n",
      " [   0   10]]\n"
     ]
    }
   ],
   "source": [
    "# Obtain the results from the classification report and confusion matrix \n",
    "print('Classifcation report:\\n', classification_report(y_test, predicted))\n",
    "conf_mat = confusion_matrix(y_true=y_test, y_pred=predicted)\n",
    "print('Confusion matrix:\\n', conf_mat)"
   ]
  },
  {
   "cell_type": "markdown",
   "metadata": {},
   "source": [
    "**As you can see, the SMOTE slightly improves our results. We now manage to find all cases of fraud, but we have a slightly higher number of false positives, albeit only 7 cases. Remember, resampling doesn't necessarily lead to better results. When the fraud cases are very spread and scattered over the data, using SMOTE can introduce a bit of bias. Nearest neighbors aren't necessarily also fraud cases, so the synthetic samples might 'confuse' the model slightly. In the next chapters, we'll learn how to also adjust our machine learning models to better detect the minority fraud cases.**"
   ]
  },
  {
   "cell_type": "markdown",
   "metadata": {},
   "source": [
    "# Fraud detection using labeled data\n",
    "\n",
    "Learn how to flag fraudulent transactions with supervised learning. Use classifiers, adjust and compare them to find the most efficient fraud detection model."
   ]
  },
  {
   "cell_type": "markdown",
   "metadata": {},
   "source": [
    "## Review classification methods\n",
    "\n",
    "* Classification:\n",
    "    * The problem of identifying to which class a new observation belongs, on the basis of a training set of data containing observations whose class is known\n",
    "    * Goal: use known fraud cases to train a model to recognize new cases\n",
    "    * Classes are sometimes called targets, labels or categories\n",
    "    * Spam detection in email service providers can be identified as a classification problem\n",
    "        * Binary classification since there are only 2 classes, spam and not spam\n",
    "    * Fraud detection is also a binary classification prpoblem\n",
    "    * Patient diagnosis\n",
    "    * Classification problems normall have categorical output like yes/no, 1/0 or True/False\n",
    "    * Variable to predict: $$y\\in0,1$$\n",
    "        * 0: negative calss ('majority' normal cases)\n",
    "        * 1: positive class ('minority' fraud cases)"
   ]
  },
  {
   "cell_type": "markdown",
   "metadata": {},
   "source": [
    "#### Logistic Regression\n",
    "\n",
    "* Logistic Regression is one of the most used ML algorithms in binary classification\n",
    "* ![logistic regression](https://raw.githubusercontent.com/trenton3983/DataCamp/master/Images/fraud_detection/logistic_regression.JPG)\n",
    "* Can be adjusted reasonably well to work on imbalanced data...useful for fraud detection"
   ]
  },
  {
   "cell_type": "markdown",
   "metadata": {},
   "source": [
    "#### Neural Network\n",
    "\n",
    "* ![neural network](https://raw.githubusercontent.com/trenton3983/DataCamp/master/Images/fraud_detection/neural_network.JPG)\n",
    "* Can be used as classifiers for fraud detection\n",
    "* Capable of fitting highly non-linear models to the data\n",
    "* More complex to implement than other classifiers - not demonstrated here"
   ]
  },
  {
   "cell_type": "markdown",
   "metadata": {},
   "source": [
    "#### Decision Trees\n",
    "\n",
    "* ![decision tree](https://raw.githubusercontent.com/trenton3983/DataCamp/master/Images/fraud_detection/decision_tree.JPG)\n",
    "* Commonly used for fraud detection\n",
    "* Transparent results, easily interpreted by analysts\n",
    "* Decision trees are prone to overfit the data"
   ]
  },
  {
   "cell_type": "markdown",
   "metadata": {},
   "source": [
    "#### Random Forests\n",
    "\n",
    "* ![random forest](https://raw.githubusercontent.com/trenton3983/DataCamp/master/Images/fraud_detection/random_forest.JPG)\n",
    "* **Random Forests are a more robust option than a single decision tree**\n",
    "    * Construct a multitude of decision trees when training the model and outputting the class that is the mode or mean predicted class of the individual trees\n",
    "    * A random forest consists of a collection of trees on a random subset of features\n",
    "    * Final predictions are the combined results of those trees\n",
    "    * Random forests can handle complex data and are not prone to overfit\n",
    "    * They are interpretable by looking at feature importance, and can be adjusted to work well on highly imbalanced data\n",
    "    * Their drawback is they're computationally complex\n",
    "    * Very popular for fraud detection\n",
    "    * A Random Forest model will be optimized in the exercises\n",
    "    \n",
    "**Implementation:**\n",
    "\n",
    "```python\n",
    "from sklearn.ensemble import RandomForestClassifier\n",
    "model = RandomForestClassifier()\n",
    "model.fit(X_train, y_train)\n",
    "predicted = model.predict(X_test)\n",
    "print(f'Accuracy Score:\\n{accuracy_score(y_test, predicted)}')\n",
    "```"
   ]
  },
  {
   "cell_type": "markdown",
   "metadata": {},
   "source": [
    "### Natural hit rate\n",
    "\n",
    "In this exercise, you'll again use credit card transaction data. The features and labels are similar to the data in the previous chapter, and the **data is heavily imbalanced**. We've given you features `X` and labels `y` to work with already, which are both numpy arrays.\n",
    "\n",
    "First you need to explore how prevalent fraud is in the dataset, to understand what the **\"natural accuracy\"** is, if we were to predict everything as non-fraud. It's is important to understand which level of \"accuracy\" you need to \"beat\" in order to get a **better prediction than by doing nothing**. In the following exercises, you'll create our first random forest classifier for fraud detection. That will serve as the **\"baseline\"** model that you're going to try to improve in the upcoming exercises.\n",
    "\n",
    "**Instructions**\n",
    "\n",
    "* Count the total number of observations by taking the length of your labels `y`.\n",
    "* Count the non-fraud cases in our data by using list comprehension on `y`; remember `y` is a NumPy array so `.value_counts()` cannot be used in this case.\n",
    "* Calculate the natural accuracy by dividing the non-fraud cases over the total observations.\n",
    "* Print the percentage."
   ]
  },
  {
   "cell_type": "code",
   "execution_count": 43,
   "metadata": {
    "tags": []
   },
   "outputs": [
    {
     "data": {
      "text/html": [
       "<div>\n",
       "<style scoped>\n",
       "    .dataframe tbody tr th:only-of-type {\n",
       "        vertical-align: middle;\n",
       "    }\n",
       "\n",
       "    .dataframe tbody tr th {\n",
       "        vertical-align: top;\n",
       "    }\n",
       "\n",
       "    .dataframe thead th {\n",
       "        text-align: right;\n",
       "    }\n",
       "</style>\n",
       "<table border=\"1\" class=\"dataframe\">\n",
       "  <thead>\n",
       "    <tr style=\"text-align: right;\">\n",
       "      <th></th>\n",
       "      <th>Unnamed: 0</th>\n",
       "      <th>V1</th>\n",
       "      <th>V2</th>\n",
       "      <th>V3</th>\n",
       "      <th>V4</th>\n",
       "      <th>V5</th>\n",
       "      <th>V6</th>\n",
       "      <th>V7</th>\n",
       "      <th>V8</th>\n",
       "      <th>V9</th>\n",
       "      <th>V10</th>\n",
       "      <th>V11</th>\n",
       "      <th>V12</th>\n",
       "      <th>V13</th>\n",
       "      <th>V14</th>\n",
       "      <th>V15</th>\n",
       "      <th>V16</th>\n",
       "      <th>V17</th>\n",
       "      <th>V18</th>\n",
       "      <th>V19</th>\n",
       "      <th>V20</th>\n",
       "      <th>V21</th>\n",
       "      <th>V22</th>\n",
       "      <th>V23</th>\n",
       "      <th>V24</th>\n",
       "      <th>V25</th>\n",
       "      <th>V26</th>\n",
       "      <th>V27</th>\n",
       "      <th>V28</th>\n",
       "      <th>Amount</th>\n",
       "      <th>Class</th>\n",
       "    </tr>\n",
       "  </thead>\n",
       "  <tbody>\n",
       "    <tr>\n",
       "      <th>0</th>\n",
       "      <td>221547</td>\n",
       "      <td>-1.191668</td>\n",
       "      <td>0.428409</td>\n",
       "      <td>1.640028</td>\n",
       "      <td>-1.848859</td>\n",
       "      <td>-0.870903</td>\n",
       "      <td>-0.204849</td>\n",
       "      <td>-0.385675</td>\n",
       "      <td>0.352793</td>\n",
       "      <td>-1.098301</td>\n",
       "      <td>-0.334597</td>\n",
       "      <td>-0.679089</td>\n",
       "      <td>-0.039671</td>\n",
       "      <td>1.372661</td>\n",
       "      <td>-0.732001</td>\n",
       "      <td>-0.344528</td>\n",
       "      <td>1.024751</td>\n",
       "      <td>0.380209</td>\n",
       "      <td>-1.087349</td>\n",
       "      <td>0.364507</td>\n",
       "      <td>0.051924</td>\n",
       "      <td>0.507173</td>\n",
       "      <td>1.292565</td>\n",
       "      <td>-0.467752</td>\n",
       "      <td>1.244887</td>\n",
       "      <td>0.697707</td>\n",
       "      <td>0.059375</td>\n",
       "      <td>-0.319964</td>\n",
       "      <td>-0.017444</td>\n",
       "      <td>27.44</td>\n",
       "      <td>0</td>\n",
       "    </tr>\n",
       "    <tr>\n",
       "      <th>1</th>\n",
       "      <td>184524</td>\n",
       "      <td>1.966614</td>\n",
       "      <td>-0.450087</td>\n",
       "      <td>-1.228586</td>\n",
       "      <td>0.142873</td>\n",
       "      <td>-0.150627</td>\n",
       "      <td>-0.543590</td>\n",
       "      <td>-0.076217</td>\n",
       "      <td>-0.108390</td>\n",
       "      <td>0.973310</td>\n",
       "      <td>-0.029903</td>\n",
       "      <td>0.279973</td>\n",
       "      <td>0.885685</td>\n",
       "      <td>-0.583912</td>\n",
       "      <td>0.322019</td>\n",
       "      <td>-1.065335</td>\n",
       "      <td>-0.340285</td>\n",
       "      <td>-0.385399</td>\n",
       "      <td>0.216554</td>\n",
       "      <td>0.675646</td>\n",
       "      <td>-0.190851</td>\n",
       "      <td>0.124055</td>\n",
       "      <td>0.564916</td>\n",
       "      <td>-0.039331</td>\n",
       "      <td>-0.283904</td>\n",
       "      <td>0.186400</td>\n",
       "      <td>0.192932</td>\n",
       "      <td>-0.039155</td>\n",
       "      <td>-0.071314</td>\n",
       "      <td>35.95</td>\n",
       "      <td>0</td>\n",
       "    </tr>\n",
       "    <tr>\n",
       "      <th>2</th>\n",
       "      <td>91201</td>\n",
       "      <td>1.528452</td>\n",
       "      <td>-1.296191</td>\n",
       "      <td>-0.890677</td>\n",
       "      <td>-2.504028</td>\n",
       "      <td>0.803202</td>\n",
       "      <td>3.350793</td>\n",
       "      <td>-1.633016</td>\n",
       "      <td>0.815350</td>\n",
       "      <td>-1.884692</td>\n",
       "      <td>1.465259</td>\n",
       "      <td>-0.188235</td>\n",
       "      <td>-0.976779</td>\n",
       "      <td>0.560550</td>\n",
       "      <td>-0.250847</td>\n",
       "      <td>0.936115</td>\n",
       "      <td>0.136409</td>\n",
       "      <td>-0.078251</td>\n",
       "      <td>0.355086</td>\n",
       "      <td>0.127756</td>\n",
       "      <td>-0.163982</td>\n",
       "      <td>-0.412088</td>\n",
       "      <td>-1.017485</td>\n",
       "      <td>0.129566</td>\n",
       "      <td>0.948048</td>\n",
       "      <td>0.287826</td>\n",
       "      <td>-0.396592</td>\n",
       "      <td>0.042997</td>\n",
       "      <td>0.025853</td>\n",
       "      <td>28.40</td>\n",
       "      <td>0</td>\n",
       "    </tr>\n",
       "    <tr>\n",
       "      <th>3</th>\n",
       "      <td>26115</td>\n",
       "      <td>-0.774614</td>\n",
       "      <td>1.100916</td>\n",
       "      <td>0.679080</td>\n",
       "      <td>1.034016</td>\n",
       "      <td>0.168633</td>\n",
       "      <td>0.874582</td>\n",
       "      <td>0.209454</td>\n",
       "      <td>0.770550</td>\n",
       "      <td>-0.558106</td>\n",
       "      <td>-0.165442</td>\n",
       "      <td>0.017562</td>\n",
       "      <td>0.285377</td>\n",
       "      <td>-0.818739</td>\n",
       "      <td>0.637991</td>\n",
       "      <td>-0.370124</td>\n",
       "      <td>-0.605148</td>\n",
       "      <td>0.275686</td>\n",
       "      <td>0.246362</td>\n",
       "      <td>1.331927</td>\n",
       "      <td>0.080978</td>\n",
       "      <td>0.011158</td>\n",
       "      <td>0.146017</td>\n",
       "      <td>-0.130401</td>\n",
       "      <td>-0.848815</td>\n",
       "      <td>0.005698</td>\n",
       "      <td>-0.183295</td>\n",
       "      <td>0.282940</td>\n",
       "      <td>0.123856</td>\n",
       "      <td>43.20</td>\n",
       "      <td>0</td>\n",
       "    </tr>\n",
       "    <tr>\n",
       "      <th>4</th>\n",
       "      <td>201292</td>\n",
       "      <td>-1.075860</td>\n",
       "      <td>1.361160</td>\n",
       "      <td>1.496972</td>\n",
       "      <td>2.242604</td>\n",
       "      <td>1.314751</td>\n",
       "      <td>0.272787</td>\n",
       "      <td>1.005246</td>\n",
       "      <td>0.132932</td>\n",
       "      <td>-1.558317</td>\n",
       "      <td>0.484216</td>\n",
       "      <td>-1.967998</td>\n",
       "      <td>-1.818338</td>\n",
       "      <td>-2.036184</td>\n",
       "      <td>0.346962</td>\n",
       "      <td>-1.161316</td>\n",
       "      <td>1.017093</td>\n",
       "      <td>-0.926787</td>\n",
       "      <td>0.183965</td>\n",
       "      <td>-2.102868</td>\n",
       "      <td>-0.354008</td>\n",
       "      <td>0.254485</td>\n",
       "      <td>0.530692</td>\n",
       "      <td>-0.651119</td>\n",
       "      <td>0.626389</td>\n",
       "      <td>1.040212</td>\n",
       "      <td>0.249501</td>\n",
       "      <td>-0.146745</td>\n",
       "      <td>0.029714</td>\n",
       "      <td>10.59</td>\n",
       "      <td>0</td>\n",
       "    </tr>\n",
       "  </tbody>\n",
       "</table>\n",
       "</div>"
      ],
      "text/plain": [
       "   Unnamed: 0        V1        V2        V3        V4        V5        V6  \\\n",
       "0      221547 -1.191668  0.428409  1.640028 -1.848859 -0.870903 -0.204849   \n",
       "1      184524  1.966614 -0.450087 -1.228586  0.142873 -0.150627 -0.543590   \n",
       "2       91201  1.528452 -1.296191 -0.890677 -2.504028  0.803202  3.350793   \n",
       "3       26115 -0.774614  1.100916  0.679080  1.034016  0.168633  0.874582   \n",
       "4      201292 -1.075860  1.361160  1.496972  2.242604  1.314751  0.272787   \n",
       "\n",
       "         V7        V8        V9       V10       V11       V12       V13  \\\n",
       "0 -0.385675  0.352793 -1.098301 -0.334597 -0.679089 -0.039671  1.372661   \n",
       "1 -0.076217 -0.108390  0.973310 -0.029903  0.279973  0.885685 -0.583912   \n",
       "2 -1.633016  0.815350 -1.884692  1.465259 -0.188235 -0.976779  0.560550   \n",
       "3  0.209454  0.770550 -0.558106 -0.165442  0.017562  0.285377 -0.818739   \n",
       "4  1.005246  0.132932 -1.558317  0.484216 -1.967998 -1.818338 -2.036184   \n",
       "\n",
       "        V14       V15       V16       V17       V18       V19       V20  \\\n",
       "0 -0.732001 -0.344528  1.024751  0.380209 -1.087349  0.364507  0.051924   \n",
       "1  0.322019 -1.065335 -0.340285 -0.385399  0.216554  0.675646 -0.190851   \n",
       "2 -0.250847  0.936115  0.136409 -0.078251  0.355086  0.127756 -0.163982   \n",
       "3  0.637991 -0.370124 -0.605148  0.275686  0.246362  1.331927  0.080978   \n",
       "4  0.346962 -1.161316  1.017093 -0.926787  0.183965 -2.102868 -0.354008   \n",
       "\n",
       "        V21       V22       V23       V24       V25       V26       V27  \\\n",
       "0  0.507173  1.292565 -0.467752  1.244887  0.697707  0.059375 -0.319964   \n",
       "1  0.124055  0.564916 -0.039331 -0.283904  0.186400  0.192932 -0.039155   \n",
       "2 -0.412088 -1.017485  0.129566  0.948048  0.287826 -0.396592  0.042997   \n",
       "3  0.011158  0.146017 -0.130401 -0.848815  0.005698 -0.183295  0.282940   \n",
       "4  0.254485  0.530692 -0.651119  0.626389  1.040212  0.249501 -0.146745   \n",
       "\n",
       "        V28  Amount  Class  \n",
       "0 -0.017444   27.44      0  \n",
       "1 -0.071314   35.95      0  \n",
       "2  0.025853   28.40      0  \n",
       "3  0.123856   43.20      0  \n",
       "4  0.029714   10.59      0  "
      ]
     },
     "execution_count": 43,
     "metadata": {},
     "output_type": "execute_result"
    }
   ],
   "source": [
    "df2 = pd.read_csv(cc2_file)\n",
    "df2.head()"
   ]
  },
  {
   "cell_type": "code",
   "execution_count": 44,
   "metadata": {
    "tags": []
   },
   "outputs": [
    {
     "name": "stdout",
     "output_type": "stream",
     "text": [
      "X shape: (7300, 28)\n",
      "y shape: (7300,)\n"
     ]
    }
   ],
   "source": [
    "X, y = prep_data(df2)\n",
    "print(f'X shape: {X.shape}\\ny shape: {y.shape}')"
   ]
  },
  {
   "cell_type": "code",
   "execution_count": 45,
   "metadata": {
    "tags": []
   },
   "outputs": [
    {
     "data": {
      "text/plain": [
       "array([ 4.28408570e-01,  1.64002800e+00, -1.84885886e+00, -8.70902974e-01,\n",
       "       -2.04848888e-01, -3.85675453e-01,  3.52792552e-01, -1.09830131e+00,\n",
       "       -3.34596757e-01, -6.79088729e-01, -3.96709268e-02,  1.37266082e+00,\n",
       "       -7.32000706e-01, -3.44528134e-01,  1.02475103e+00,  3.80208554e-01,\n",
       "       -1.08734881e+00,  3.64507163e-01,  5.19236276e-02,  5.07173439e-01,\n",
       "        1.29256539e+00, -4.67752261e-01,  1.24488683e+00,  6.97706854e-01,\n",
       "        5.93750372e-02, -3.19964326e-01, -1.74444289e-02,  2.74400000e+01])"
      ]
     },
     "execution_count": 45,
     "metadata": {},
     "output_type": "execute_result"
    }
   ],
   "source": [
    "X[0, :]"
   ]
  },
  {
   "cell_type": "code",
   "execution_count": 46,
   "metadata": {
    "tags": []
   },
   "outputs": [
    {
     "data": {
      "text/plain": [
       "0    7000\n",
       "1     300\n",
       "Name: Class, dtype: int64"
      ]
     },
     "execution_count": 46,
     "metadata": {},
     "output_type": "execute_result"
    }
   ],
   "source": [
    "df2.Class.value_counts()"
   ]
  },
  {
   "cell_type": "code",
   "execution_count": 47,
   "metadata": {
    "tags": []
   },
   "outputs": [
    {
     "data": {
      "text/plain": [
       "7300"
      ]
     },
     "execution_count": 47,
     "metadata": {},
     "output_type": "execute_result"
    }
   ],
   "source": [
    "# Count the total number of observations from the length of y\n",
    "total_obs = len(y)\n",
    "total_obs"
   ]
  },
  {
   "cell_type": "code",
   "execution_count": 48,
   "metadata": {
    "tags": []
   },
   "outputs": [
    {
     "data": {
      "text/plain": [
       "7000"
      ]
     },
     "execution_count": 48,
     "metadata": {},
     "output_type": "execute_result"
    }
   ],
   "source": [
    "# Count the total number of non-fraudulent observations \n",
    "non_fraud = [i for i in y if i == 0]\n",
    "count_non_fraud = non_fraud.count(0)\n",
    "count_non_fraud"
   ]
  },
  {
   "cell_type": "code",
   "execution_count": 49,
   "metadata": {
    "tags": []
   },
   "outputs": [
    {
     "name": "stdout",
     "output_type": "stream",
     "text": [
      "95.89%\n"
     ]
    }
   ],
   "source": [
    "percentage = count_non_fraud/total_obs * 100\n",
    "print(f'{percentage:0.2f}%')"
   ]
  },
  {
   "cell_type": "markdown",
   "metadata": {},
   "source": [
    "**This tells us that by doing nothing, we would be correct in 95.9% of the cases. So now you understand, that if we get an accuracy of less than this number, our model does not actually add any value in predicting how many cases are correct. Let's see how a random forest does in predicting fraud in our data.**"
   ]
  },
  {
   "cell_type": "markdown",
   "metadata": {},
   "source": [
    "### Random Forest Classifier - part 1\n",
    "\n",
    "Let's now create a first **random forest classifier** for fraud detection. Hopefully you can do better than the baseline accuracy you've just calculated, which was roughly **96%**. This model will serve as the **\"baseline\" model** that you're going to try to improve in the upcoming exercises. Let's start first with **splitting the data into a test and training set**, and **defining the Random Forest model**. The data available are features `X` and labels `y`.\n",
    "\n",
    "**Instructions**\n",
    "\n",
    "* Import the random forest classifier from `sklearn`.\n",
    "* Split your features `X` and labels `y` into a training and test set. Set aside a test set of 30%.\n",
    "* Assign the random forest classifier to `model` and keep `random_state` at 5. We need to set a random state here in order to be able to compare results across different models."
   ]
  },
  {
   "cell_type": "markdown",
   "metadata": {},
   "source": [
    "#### X_train, X_test, y_train, y_test"
   ]
  },
  {
   "cell_type": "code",
   "execution_count": 50,
   "metadata": {
    "tags": []
   },
   "outputs": [],
   "source": [
    "# Split your data into training and test set\n",
    "X_train, X_test, y_train, y_test = train_test_split(X, y, test_size=0.3, random_state=0)"
   ]
  },
  {
   "cell_type": "code",
   "execution_count": 51,
   "metadata": {
    "tags": []
   },
   "outputs": [],
   "source": [
    "# Define the model as the random forest\n",
    "model = RandomForestClassifier(random_state=5, n_estimators=20)"
   ]
  },
  {
   "cell_type": "markdown",
   "metadata": {},
   "source": [
    "### Random Forest Classifier - part 2\n",
    "\n",
    "Let's see how our Random Forest model performs **without doing anything special to it**. The `model` from the previous exercise is available, and you've already split your data in `X_train, y_train, X_test, y_test`.\n",
    "\n",
    "**Instructions 1/3**\n",
    "\n",
    "* Fit the earlier defined `model` to our training data and obtain predictions by getting the model predictions on `X_test`."
   ]
  },
  {
   "cell_type": "code",
   "execution_count": 52,
   "metadata": {
    "tags": []
   },
   "outputs": [
    {
     "data": {
      "text/plain": [
       "RandomForestClassifier(n_estimators=20, random_state=5)"
      ]
     },
     "execution_count": 52,
     "metadata": {},
     "output_type": "execute_result"
    }
   ],
   "source": [
    "# Fit the model to our training set\n",
    "model.fit(X_train, y_train)"
   ]
  },
  {
   "cell_type": "code",
   "execution_count": 53,
   "metadata": {
    "tags": []
   },
   "outputs": [],
   "source": [
    "# Obtain predictions from the test data \n",
    "predicted = model.predict(X_test)"
   ]
  },
  {
   "cell_type": "markdown",
   "metadata": {},
   "source": [
    "**Instructions 2/3**\n",
    "\n",
    "* Obtain and print the accuracy score by comparing the actual labels `y_test` with our predicted labels `predicted`."
   ]
  },
  {
   "cell_type": "code",
   "execution_count": 54,
   "metadata": {
    "tags": []
   },
   "outputs": [
    {
     "name": "stdout",
     "output_type": "stream",
     "text": [
      "Accuracy Score:\n",
      "0.991\n"
     ]
    }
   ],
   "source": [
    "print(f'Accuracy Score:\\n{accuracy_score(y_test, predicted):0.3f}')"
   ]
  },
  {
   "cell_type": "markdown",
   "metadata": {},
   "source": [
    "**Instructions 3/3**\n",
    "\n",
    "What is a benefit of using Random Forests versus Decision Trees?\n",
    "\n",
    "**Possible Answers**\n",
    "\n",
    "* ~~Random Forests always have a higher accuracy than Decision Trees.~~\n",
    "* **Random Forests do not tend to overfit, whereas Decision Trees do.**\n",
    "* ~~Random Forests are computationally more efficient than Decision Trees.~~\n",
    "* ~~You can obtain \"feature importance\" from Random Forest, which makes it more transparent.~~\n",
    "\n",
    "**Random Forest prevents overfitting most of the time, by creating random subsets of the features and building smaller trees using these subsets. Afterwards, it combines the subtrees of subsamples of features, so it does not tend to overfit to your entire feature set the way \"deep\" Decisions Trees do.**"
   ]
  },
  {
   "cell_type": "markdown",
   "metadata": {},
   "source": [
    "## Perfomance evaluation\n",
    "\n",
    "* Performance metrics for fraud detection models\n",
    "* There are other performace metrics that are more informative and reliable than accuracy"
   ]
  },
  {
   "cell_type": "markdown",
   "metadata": {},
   "source": [
    "#### Accuracy\n",
    "\n",
    "![accuracy](https://raw.githubusercontent.com/trenton3983/DataCamp/master/Images/fraud_detection/accuracy.JPG)\n",
    "* Accuracy isn't a reliable performance metric when working with highly imbalanced data (such as fraud detection)\n",
    "* By doing nothing, aka predicting everything is the majority class (right image), a higher accuracy is obtained than by trying to build a predictive model (left image)"
   ]
  },
  {
   "cell_type": "markdown",
   "metadata": {},
   "source": [
    "#### Confusion Matrix\n",
    "\n",
    "![advanced confusion matrix](https://raw.githubusercontent.com/trenton3983/DataCamp/master/Images/fraud_detection/confusion_matrix_advanced.JPG)\n",
    "![confusion matrix](https://raw.githubusercontent.com/trenton3983/DataCamp/master/Images/fraud_detection/confusion_matrix.JPG)\n",
    "* [Confusion Matrix](https://en.wikipedia.org/wiki/Confusion_matrix)\n",
    "* False Positives (FP) / False Negatives (FN)\n",
    "    * FN: predicts the person is not pregnant, but actually is\n",
    "        * Cases of fraud not caught by the model\n",
    "    * FP: predicts the person is pregnant, but actually is not\n",
    "        * Cases of 'false alarm'\n",
    "    * the business case determines whether FN or FP cases are more important\n",
    "        * a credit card company might want to catch as much fraud as possible and reduce false negatives, as fraudulent transactions can be incredibly costly\n",
    "            * a false alarm just means a transaction is blocked\n",
    "        * an insurance company can't handle many false alarms, as it means getting a team of investigators involved for each positive prediction\n",
    "        \n",
    "* True Positives / True Negatives are the cases predicted correctly (e.g. fraud / non-fraud)"
   ]
  },
  {
   "cell_type": "markdown",
   "metadata": {},
   "source": [
    "#### Precision Recall\n",
    "\n",
    "* Credit card company wants to optimize for recall\n",
    "* Insurance company wants to optimize for precision\n",
    "* Precision:\n",
    "    * $$Precision=\\frac{\\#\\space True\\space Positives}{\\#\\space True\\space Positives+\\#\\space False\\space Positives}$$\n",
    "    * Fraction of actual fraud cases out of all predicted fraud cases\n",
    "        * true positives relative to the sum of true positives and false positives\n",
    "* Recall:\n",
    "    * $$Recall=\\frac{\\#\\space True\\space Positives}{\\#\\space True\\space Positives+\\#\\space False\\space Negatives}$$\n",
    "    * Fraction of predicted fraud cases out of all actual fraud cases\n",
    "        * true positives relative to the sum of true positives and false negative\n",
    "* Precision and recall are typically inversely related\n",
    "    * As precision increases, recall falls and vice-versa\n",
    "    * ![precision recall inverse relation](https://raw.githubusercontent.com/trenton3983/DataCamp/master/Images/fraud_detection/precision_recall_inverse.JPG)"
   ]
  },
  {
   "cell_type": "markdown",
   "metadata": {},
   "source": [
    "#### F-Score\n",
    "\n",
    "* Weighs both precision and recall into on measure\n",
    "\n",
    "\\begin{align}\n",
    "F-measure = \\frac{2\\times{Precision}\\times{Recall}}{Precision\\times{Recall}} \\\\ \n",
    "\\\\\n",
    "= \\frac{2\\times{TP}}{2\\times{TP}+FP+FN}\n",
    "\\end{align}\n",
    "\n",
    "* is a performance metric that takes into account a balance between Precision and Recall"
   ]
  },
  {
   "cell_type": "markdown",
   "metadata": {},
   "source": [
    "#### Obtaining performance metrics from sklean\n",
    "\n",
    "```python\n",
    "# import the methods\n",
    "from sklearn.metrics import precision_recall_curve, average_precision_score\n",
    "\n",
    "# Calculate average precision and the PR curve\n",
    "average_precision = average_precision_score(y_test, predicted)\n",
    "\n",
    "# Obtain precision and recall\n",
    "precision, recall = precision_recall_curve(y_test, predicted)\n",
    "```"
   ]
  },
  {
   "cell_type": "markdown",
   "metadata": {},
   "source": [
    "#### Receiver Operating Characteristic (ROC) curve to compare algorithms\n",
    "\n",
    "* Created by plotting the true positive rate against the false positive rate at various threshold settings\n",
    "* ![roc curve](https://raw.githubusercontent.com/trenton3983/DataCamp/master/Images/fraud_detection/roc_curve.JPG)\n",
    "* Useful for comparing performance of different algorithms\n",
    "\n",
    "```python\n",
    "# Obtain model probabilities\n",
    "probs = model.predict_proba(X_test)\n",
    "\n",
    "# Print ROC_AUC score using probabilities\n",
    "print(metrics.roc_auc_score(y_test, probs[:, 1]))\n",
    "```"
   ]
  },
  {
   "cell_type": "markdown",
   "metadata": {},
   "source": [
    "#### Confusion matrix and classification report\n",
    "\n",
    "```python\n",
    "from sklearn.metrics import classification_report, confusion_matrix\n",
    "\n",
    "# Obtain predictions\n",
    "predicted = model.predict(X_test)\n",
    "\n",
    "# Print classification report using predictions\n",
    "print(classification_report(y_test, predicted))\n",
    "\n",
    "# Print confusion matrix using predictions\n",
    "print(confusion_matrix(y_test, predicted))\n",
    "```"
   ]
  },
  {
   "cell_type": "markdown",
   "metadata": {},
   "source": [
    "### Performance metrics for the RF model\n",
    "\n",
    "In the previous exercises you obtained an accuracy score for your random forest model. This time, we know **accuracy can be misleading** in the case of fraud detection. With highly imbalanced fraud data, the AUROC curve is a more reliable performance metric, used to compare different classifiers. Moreover, the *classification report* tells you about the precision and recall of your model, whilst the *confusion matrix* actually shows how many fraud cases you can predict correctly. So let's get these performance metrics.\n",
    "\n",
    "You'll continue working on the same random forest model from the previous exercise. Your model, defined as `model = RandomForestClassifier(random_state=5)` has been fitted to your training data already, and `X_train, y_train, X_test, y_test` are available.\n",
    "\n",
    "**Instructions**\n",
    "\n",
    "* Import the classification report, confusion matrix and ROC score from `sklearn.metrics`.\n",
    "* Get the binary predictions from your trained random forest `model`.\n",
    "* Get the predicted probabilities by running the `predict_proba()` function.\n",
    "* Obtain classification report and confusion matrix by comparing `y_test` with `predicted`."
   ]
  },
  {
   "cell_type": "code",
   "execution_count": 55,
   "metadata": {
    "tags": []
   },
   "outputs": [],
   "source": [
    "# Obtain the predictions from our random forest model \n",
    "predicted = model.predict(X_test)"
   ]
  },
  {
   "cell_type": "code",
   "execution_count": 56,
   "metadata": {
    "tags": []
   },
   "outputs": [],
   "source": [
    "# Predict probabilities\n",
    "probs = model.predict_proba(X_test)"
   ]
  },
  {
   "cell_type": "code",
   "execution_count": 57,
   "metadata": {
    "tags": []
   },
   "outputs": [
    {
     "name": "stdout",
     "output_type": "stream",
     "text": [
      "ROC Score:\n",
      "0.9419896444670147\n",
      "\n",
      "Classification Report:\n",
      "              precision    recall  f1-score   support\n",
      "\n",
      "           0       0.99      1.00      1.00      2099\n",
      "           1       0.97      0.80      0.88        91\n",
      "\n",
      "    accuracy                           0.99      2190\n",
      "   macro avg       0.98      0.90      0.94      2190\n",
      "weighted avg       0.99      0.99      0.99      2190\n",
      "\n",
      "\n",
      "Confusion Matrix:\n",
      "[[2097    2]\n",
      " [  18   73]]\n"
     ]
    }
   ],
   "source": [
    "# Print the ROC curve, classification report and confusion matrix\n",
    "print('ROC Score:')\n",
    "print(roc_auc_score(y_test, probs[:,1]))\n",
    "print('\\nClassification Report:')\n",
    "print(classification_report(y_test, predicted))\n",
    "print('\\nConfusion Matrix:')\n",
    "print(confusion_matrix(y_test, predicted))"
   ]
  },
  {
   "cell_type": "markdown",
   "metadata": {},
   "source": [
    "**You have now obtained more meaningful performance metrics that tell us how well the model performs, given the highly imbalanced data that you're working with. The model predicts 76 cases of fraud, out of which 73 are actual fraud. You have only 3 false positives. This is really good, and as a result you have a very high precision score. You do however, miss 18 cases of actual fraud. Recall is therefore not as good as precision.**"
   ]
  },
  {
   "cell_type": "markdown",
   "metadata": {},
   "source": [
    "### Plotting the Precision vs. Recall Curve\n",
    "\n",
    "You can also plot a **Precision-Recall curve**, to investigate the trade-off between the two in your model. In this curve **Precision and Recall are inversely related**; as Precision increases, Recall falls and vice-versa. A balance between these two needs to be achieved in your model, otherwise you might end up with many false positives, or not enough actual fraud cases caught. To achieve this and to compare performance, the precision-recall curves come in handy.\n",
    "\n",
    "Your Random Forest Classifier is available as `model`, and the predictions as `predicted`. You can simply obtain the average precision score and the PR curve from the sklearn package. The function `plot_pr_curve()` plots the results for you. Let's give it a try.\n",
    "\n",
    "**Instructions 1/3**\n",
    "\n",
    "* Calculate the average precision by running the function on the actual labels `y_test` and your predicted labels `predicted`."
   ]
  },
  {
   "cell_type": "code",
   "execution_count": 58,
   "metadata": {
    "tags": []
   },
   "outputs": [
    {
     "data": {
      "text/plain": [
       "0.7890250388880526"
      ]
     },
     "execution_count": 58,
     "metadata": {},
     "output_type": "execute_result"
    }
   ],
   "source": [
    "# Calculate average precision and the PR curve\n",
    "average_precision = average_precision_score(y_test, predicted)\n",
    "average_precision"
   ]
  },
  {
   "cell_type": "markdown",
   "metadata": {},
   "source": [
    "**Instructions 2/3**\n",
    "\n",
    "* Run the `precision_recall_curve()` function on the same arguments `y_test` and `predicted` and plot the curve (this last thing has been done for you)."
   ]
  },
  {
   "cell_type": "code",
   "execution_count": 59,
   "metadata": {
    "tags": []
   },
   "outputs": [
    {
     "name": "stdout",
     "output_type": "stream",
     "text": [
      "Precision: [0.04155251 0.97333333 1.        ]\n",
      "Recall: [1.        0.8021978 0.       ]\n"
     ]
    }
   ],
   "source": [
    "# Obtain precision and recall \n",
    "precision, recall, _ = precision_recall_curve(y_test, predicted)\n",
    "print(f'Precision: {precision}\\nRecall: {recall}')"
   ]
  },
  {
   "cell_type": "markdown",
   "metadata": {},
   "source": [
    "#### def plot_pr_curve"
   ]
  },
  {
   "cell_type": "code",
   "execution_count": 60,
   "metadata": {
    "tags": []
   },
   "outputs": [],
   "source": [
    "def plot_pr_curve(recall, precision, average_precision):\n",
    "    \"\"\"\n",
    "    https://scikit-learn.org/stable/auto_examples/model_selection/plot_precision_recall.html\n",
    "    \"\"\"\n",
    "    from inspect import signature\n",
    "    plt.figure()\n",
    "    step_kwargs = ({'step': 'post'}\n",
    "                   if 'step' in signature(plt.fill_between).parameters\n",
    "                   else {})\n",
    "\n",
    "    plt.step(recall, precision, color='b', alpha=0.2, where='post')\n",
    "    plt.fill_between(recall, precision, alpha=0.2, color='b', **step_kwargs)\n",
    "\n",
    "    plt.xlabel('Recall')\n",
    "    plt.ylabel('Precision')\n",
    "    plt.ylim([0.0, 1.0])\n",
    "    plt.xlim([0.0, 1.0])\n",
    "    plt.title(f'2-class Precision-Recall curve: AP={average_precision:0.2f}')\n",
    "    return plt.show()"
   ]
  },
  {
   "cell_type": "code",
   "execution_count": 61,
   "metadata": {
    "tags": []
   },
   "outputs": [
    {
     "data": {
      "image/png": "[encoded data removed]",
      "text/plain": [
       "<Figure size 432x288 with 1 Axes>"
      ]
     },
     "metadata": {
      "needs_background": "light"
     },
     "output_type": "display_data"
    }
   ],
   "source": [
    "# Plot the recall precision tradeoff\n",
    "plot_pr_curve(recall, precision, average_precision)"
   ]
  },
  {
   "cell_type": "markdown",
   "metadata": {},
   "source": [
    "**Instructions 3/3**\n",
    "\n",
    "What's the benefit of the performance metric ROC curve (AUROC) versus Precision and Recall?\n",
    "\n",
    "**Possible Answers**\n",
    "\n",
    "* **The AUROC answers the question: \"How well can this classifier be expected to perform in general, at a variety of different baseline probabilities?\" but precision and recall don't.**\n",
    "* ~~The AUROC answers the question: \"How meaningful is a positive result from my classifier given the baseline probabilities of my problem?\" but precision and recall don't.~~\n",
    "* ~~Precision and Recall are not informative when the data is imbalanced.~~\n",
    "* ~~The AUROC curve allows you to visualize classifier performance and with Precision and Recall you cannot.~~\n",
    "\n",
    "**The ROC curve plots the true positives vs. false positives , for a classifier, as its discrimination threshold is varied. Since, a random method describes a horizontal curve through the unit interval, it has an AUC of 0.5. Minimally, classifiers should perform better than this, and the extent to which they score higher than one another (meaning the area under the ROC curve is larger), they have better expected performance.**"
   ]
  },
  {
   "cell_type": "markdown",
   "metadata": {},
   "source": [
    "## Adjusting the algorithm weights\n",
    "\n",
    "* Adjust model parameter to optimize for fraud detection.\n",
    "* When training a model, try different options and settings to get the best recall-precision trade-off\n",
    "* sklearn has two simple options to tweak the model for heavily imbalanced data\n",
    "    * `class_weight`:\n",
    "        * `balanced` mode: `model = RandomForestClassifier(class_weight='balanced')`\n",
    "            * uses the values of y to automatically adjust weights inversely proportional to class frequencies in the the input data\n",
    "            * this option is available for other classifiers\n",
    "                * `model = LogisticRegression(class_weight='balanced')`\n",
    "                * `model = SVC(kernel='linear', class_weight='balanced', probability=True)`\n",
    "        * `balanced_subsample` mode: `model = RandomForestClassifier(class_weight='balanced_subsample')`\n",
    "            * is the same as the `balanced` option, except weights are calculated again at each iteration of growing a tree in a the random forest\n",
    "            * this option is only applicable for the Random Forest model\n",
    "        * manual input\n",
    "            * adjust weights to any ratio, not just value counts relative to sample\n",
    "            * `class_weight={0:1,1:4}`\n",
    "            * this is a good option to slightly upsample the minority class"
   ]
  },
  {
   "cell_type": "markdown",
   "metadata": {},
   "source": [
    "#### Hyperparameter tuning\n",
    "\n",
    "* Random Forest takes many other options to optimize the model\n",
    "\n",
    "```python\n",
    "model = RandomForestClassifier(n_estimators=10, \n",
    "                               criterion=’gini’, \n",
    "                               max_depth=None, \n",
    "                               min_samples_split=2, \n",
    "                               min_samples_leaf=1, \n",
    "                               max_features=’auto’, \n",
    "                               n_jobs=-1, class_weight=None)\n",
    "```\n",
    "\n",
    "* the shape and size of the trees in a random forest are adjusted with **leaf size** and **tree depth**\n",
    "* `n_estimators`: one of the most important setting is the number of trees in the forest\n",
    "* `max_features`: the number of features considered for splitting at each leaf node\n",
    "* `criterion`: change the way the data is split at each node (default is `gini` coefficient)"
   ]
  },
  {
   "cell_type": "markdown",
   "metadata": {},
   "source": [
    "#### GridSearchCV for hyperparameter tuning\n",
    "\n",
    "* [sklearn.model_selection.GridSearchCV](https://scikit-learn.org/stable/modules/generated/sklearn.model_selection.GridSearchCV.html)\n",
    "* `from sklearn.model_selection import GridSearchCV`\n",
    "* `GridSearchCV evaluates all combinations of parameters defined in the parameter grid\n",
    "* Random Forest Parameter Grid:\n",
    "\n",
    "```python\n",
    "# Create the parameter grid \n",
    "param_grid = {'max_depth': [80, 90, 100, 110],\n",
    "              'max_features': [2, 3],\n",
    "              'min_samples_leaf': [3, 4, 5],\n",
    "              'min_samples_split': [8, 10, 12],\n",
    "              'n_estimators': [100, 200, 300, 1000]}\n",
    "\n",
    "# Define which model to use\n",
    "model = RandomForestRegressor()\n",
    "\n",
    "# Instantiate the grid search model\n",
    "grid_search_model = GridSearchCV(estimator = model, \n",
    "                                 param_grid = param_grid, \n",
    "                                 cv = 5,\n",
    "                                 n_jobs = -1, \n",
    "                                 scoring='f1')\n",
    "```\n",
    "\n",
    "* define the ML model to be used\n",
    "* put the model into `GridSearchCV`\n",
    "* pass in `param_grid`\n",
    "* frequency of cross-validation\n",
    "* define a scoring metric to evaluate the models\n",
    "    * the default option is accuracy which isn't optimal for fraud detection\n",
    "    * use `precision`, `recall` or `f1`\n",
    "\n",
    "```python\n",
    "# Fit the grid search to the data\n",
    "grid_search_model.fit(X_train, y_train)\n",
    "\n",
    "# Get the optimal parameters \n",
    "grid_search_model.best_params_\n",
    "\n",
    "{'bootstrap': True,\n",
    " 'max_depth': 80,\n",
    " 'max_features': 3,\n",
    " 'min_samples_leaf': 5,\n",
    " 'min_samples_split': 12,\n",
    " 'n_estimators': 100}\n",
    "```\n",
    "\n",
    "* once `GridSearchCV` and `model` are fit to the data, obtain the parameters belonging to the optimal model by using the `best_params_` attribute\n",
    "* `GridSearchCV` is computationally heavy\n",
    "    * Can require many hours, depending on the amount of data and number of parameters in the grid\n",
    "    * __**Save the Results**__\n",
    "\n",
    "```python\n",
    "# Get the best_estimator results\n",
    "grid_search.best_estimator_\n",
    "grid_search.best_score_\n",
    "```\n",
    "\n",
    "* `best_score_`: mean cross-validated score of the `best_estimator_`, which depends on the `scoring` option"
   ]
  },
  {
   "cell_type": "markdown",
   "metadata": {},
   "source": [
    "### Model adjustments\n",
    "\n",
    "A simple way to adjust the random forest model to deal with highly imbalanced fraud data, is to use the **`class_weights` option** when defining the `sklearn` model. However, as you will see, it is a bit of a blunt force mechanism and might not work for your very special case.\n",
    "\n",
    "In this exercise you'll explore the ``weight = \"balanced_subsample\"`` mode the Random Forest model from the earlier exercise. You already have split your data in a training and test set, i.e `X_train`, `X_test`, `y_train`, `y_test` are available. The metrics function have already been imported.\n",
    "\n",
    "**Instructions**\n",
    "\n",
    "* Set the `class_weight` argument of your classifier to `balanced_subsample`.\n",
    "* Fit your model to your training set.\n",
    "* Obtain predictions and probabilities from X_test.\n",
    "* Obtain the `roc_auc_score`, the classification report and confusion matrix."
   ]
  },
  {
   "cell_type": "code",
   "execution_count": 62,
   "metadata": {
    "tags": []
   },
   "outputs": [
    {
     "name": "stdout",
     "output_type": "stream",
     "text": [
      "ROC Score:\n",
      "0.9703966828788172\n",
      "\n",
      "Classification Report:\n",
      "              precision    recall  f1-score   support\n",
      "\n",
      "           0       0.99      1.00      1.00      2099\n",
      "           1       0.99      0.80      0.88        91\n",
      "\n",
      "    accuracy                           0.99      2190\n",
      "   macro avg       0.99      0.90      0.94      2190\n",
      "weighted avg       0.99      0.99      0.99      2190\n",
      "\n",
      "\n",
      "Confusion Matrix:\n",
      "[[2098    1]\n",
      " [  18   73]]\n"
     ]
    }
   ],
   "source": [
    "# Define the model with balanced subsample\n",
    "model = RandomForestClassifier(class_weight='balanced_subsample', random_state=5, n_estimators=100)\n",
    "\n",
    "# Fit your training model to your training set\n",
    "model.fit(X_train, y_train)\n",
    "\n",
    "# Obtain the predicted values and probabilities from the model \n",
    "predicted = model.predict(X_test)\n",
    "probs = model.predict_proba(X_test)\n",
    "\n",
    "# Print the ROC curve, classification report and confusion matrix\n",
    "print('ROC Score:')\n",
    "print(roc_auc_score(y_test, probs[:,1]))\n",
    "print('\\nClassification Report:')\n",
    "print(classification_report(y_test, predicted))\n",
    "print('\\nConfusion Matrix:')\n",
    "print(confusion_matrix(y_test, predicted))"
   ]
  },
  {
   "cell_type": "markdown",
   "metadata": {},
   "source": [
    "**You can see that the model results don't improve drastically. We now have 3 less false positives, but now 19 in stead of 18 false negatives, i.e. cases of fraud we are not catching. If we mostly care about catching fraud, and not so much about the false positives, this does actually not improve our model at all, albeit a simple option to try. In the next exercises you'll see how to more smartly tweak your model to focus on reducing false negatives and catch more fraud.**"
   ]
  },
  {
   "cell_type": "markdown",
   "metadata": {},
   "source": [
    "### Adjusting RF for fraud detection\n",
    "\n",
    "In this exercise you're going to dive into the options for the random forest classifier, as we'll **assign weights** and **tweak the shape** of the decision trees in the forest. You'll **define weights manually**, to be able to off-set that imbalance slightly. In our case we have 300 fraud to 7000 non-fraud cases, so by setting the weight ratio to 1:12, we get to a 1/3 fraud to 2/3 non-fraud ratio, which is good enough for training the model on.\n",
    "\n",
    "The data in this exercise has already been split into training and test set, so you just need to focus on defining your model. You can then use the function `get_model_results()` as a short cut. This function fits the model to your training data, predicts and obtains performance metrics similar to the steps you did in the previous exercises.\n",
    "\n",
    "**Instructions**\n",
    "\n",
    "* Change the `weight` option to set the ratio to 1 to 12 for the non-fraud and fraud cases, and set the split criterion to 'entropy'.\n",
    "* Set the maximum depth to 10.\n",
    "* Set the minimal samples in leaf nodes to 10.\n",
    "* Set the number of trees to use in the model to 20."
   ]
  },
  {
   "cell_type": "markdown",
   "metadata": {},
   "source": [
    "#### def get_model_results"
   ]
  },
  {
   "cell_type": "code",
   "execution_count": 63,
   "metadata": {
    "tags": []
   },
   "outputs": [],
   "source": [
    "def get_model_results(X_train: np.ndarray, y_train: np.ndarray,\n",
    "                      X_test: np.ndarray, y_test: np.ndarray, model):\n",
    "    \"\"\"\n",
    "    model: sklearn model (e.g. RandomForestClassifier)\n",
    "    \"\"\"\n",
    "    # Fit your training model to your training set\n",
    "    model.fit(X_train, y_train)\n",
    "\n",
    "    # Obtain the predicted values and probabilities from the model \n",
    "    predicted = model.predict(X_test)\n",
    "    \n",
    "    try:\n",
    "        probs = model.predict_proba(X_test)\n",
    "        print('ROC Score:')\n",
    "        print(roc_auc_score(y_test, probs[:,1]))\n",
    "    except AttributeError:\n",
    "        pass\n",
    "\n",
    "    # Print the ROC curve, classification report and confusion matrix\n",
    "    print('\\nClassification Report:')\n",
    "    print(classification_report(y_test, predicted))\n",
    "    print('\\nConfusion Matrix:')\n",
    "    print(confusion_matrix(y_test, predicted))"
   ]
  },
  {
   "cell_type": "code",
   "execution_count": 64,
   "metadata": {
    "tags": []
   },
   "outputs": [
    {
     "name": "stdout",
     "output_type": "stream",
     "text": [
      "ROC Score:\n",
      "0.9609651901219315\n",
      "\n",
      "Classification Report:\n",
      "              precision    recall  f1-score   support\n",
      "\n",
      "           0       0.99      1.00      1.00      2099\n",
      "           1       0.97      0.85      0.91        91\n",
      "\n",
      "    accuracy                           0.99      2190\n",
      "   macro avg       0.98      0.92      0.95      2190\n",
      "weighted avg       0.99      0.99      0.99      2190\n",
      "\n",
      "\n",
      "Confusion Matrix:\n",
      "[[2097    2]\n",
      " [  14   77]]\n"
     ]
    }
   ],
   "source": [
    "# Change the model options\n",
    "model = RandomForestClassifier(bootstrap=True,\n",
    "                               class_weight={0:1, 1:12},\n",
    "                               criterion='entropy',\n",
    "                               # Change depth of model\n",
    "                               max_depth=10,\n",
    "                               # Change the number of samples in leaf nodes\n",
    "                               min_samples_leaf=10, \n",
    "                               # Change the number of trees to use\n",
    "                               n_estimators=20,\n",
    "                               n_jobs=-1,\n",
    "                               random_state=5)\n",
    "\n",
    "# Run the function get_model_results\n",
    "get_model_results(X_train, y_train, X_test, y_test, model)"
   ]
  },
  {
   "cell_type": "markdown",
   "metadata": {},
   "source": [
    "**By smartly defining more options in the model, you can obtain better predictions. You have effectively reduced the number of false negatives, i.e. you are catching more cases of fraud, whilst keeping the number of false positives low. In this exercise you've manually changed the options of the model. There is a smarter way of doing it, by using `GridSearchCV`, which you'll see in the next exercise!**"
   ]
  },
  {
   "cell_type": "markdown",
   "metadata": {},
   "source": [
    "### Parameter optimization with GridSearchCV\n",
    "\n",
    "In this exercise you're going to **tweak our model in a less \"random\" way**, but use `GridSearchCV` to do the work for you.\n",
    "\n",
    "With `GridSearchCV` you can define **which performance metric to score** the options on. Since for fraud detection we are mostly interested in catching as many fraud cases as possible, you can optimize your model settings to get the best possible Recall score. If you also cared about reducing the number of false positives, you could optimize on F1-score, this gives you that nice Precision-Recall trade-off.\n",
    "\n",
    "`GridSearchCV` has already been imported from `sklearn.model_selection`, so let's give it a try!\n",
    "\n",
    "**Instructions**\n",
    "\n",
    "* Define in the parameter grid that you want to try 1 and 30 trees, and that you want to try the `gini` and `entropy` split criterion.\n",
    "* Define the model to be simple `RandomForestClassifier`, you want to keep the random_state at 5 to be able to compare models.\n",
    "* Set the `scoring` option such that it optimizes for recall.\n",
    "* Fit the model to the training data `X_train` and `y_train` and obtain the best parameters for the model."
   ]
  },
  {
   "cell_type": "code",
   "execution_count": 65,
   "metadata": {
    "tags": []
   },
   "outputs": [
    {
     "data": {
      "text/plain": [
       "{'criterion': 'gini',\n",
       " 'max_depth': 8,\n",
       " 'max_features': 'log2',\n",
       " 'n_estimators': 30}"
      ]
     },
     "execution_count": 65,
     "metadata": {},
     "output_type": "execute_result"
    }
   ],
   "source": [
    "# Define the parameter sets to test\n",
    "param_grid = {'n_estimators': [1, 30],\n",
    "              'max_features': ['auto', 'log2'], \n",
    "              'max_depth': [4, 8, 10, 12],\n",
    "              'criterion': ['gini', 'entropy']}\n",
    "\n",
    "# Define the model to use\n",
    "model = RandomForestClassifier(random_state=5)\n",
    "\n",
    "# Combine the parameter sets with the defined model\n",
    "CV_model = GridSearchCV(estimator=model, param_grid=param_grid, cv=5, scoring='recall', n_jobs=-1)\n",
    "\n",
    "# Fit the model to our training data and obtain best parameters\n",
    "CV_model.fit(X_train, y_train)\n",
    "CV_model.best_params_"
   ]
  },
  {
   "cell_type": "markdown",
   "metadata": {},
   "source": [
    "### Model results with GridSearchCV\n",
    "\n",
    "You discovered that the **best parameters for your model** are that the split criterion should be set to `'gini'`, the number of estimators (trees) should be 30, the maximum depth of the model should be 8 and the maximum features should be set to `\"log2\"`.\n",
    "\n",
    "Let's give this a try and see how well our model performs. You can use the `get_model_results()` function again to save time.\n",
    "\n",
    "**Instructions**\n",
    "\n",
    "* Input the optimal settings into the model definition.\n",
    "* Fit the model, obtain predictions and get the performance parameters with `get_model_results()`."
   ]
  },
  {
   "cell_type": "code",
   "execution_count": 66,
   "metadata": {
    "tags": []
   },
   "outputs": [
    {
     "name": "stdout",
     "output_type": "stream",
     "text": [
      "ROC Score:\n",
      "0.9749697658225529\n",
      "\n",
      "Classification Report:\n",
      "              precision    recall  f1-score   support\n",
      "\n",
      "           0       0.99      1.00      1.00      2099\n",
      "           1       0.95      0.84      0.89        91\n",
      "\n",
      "    accuracy                           0.99      2190\n",
      "   macro avg       0.97      0.92      0.94      2190\n",
      "weighted avg       0.99      0.99      0.99      2190\n",
      "\n",
      "\n",
      "Confusion Matrix:\n",
      "[[2095    4]\n",
      " [  15   76]]\n"
     ]
    }
   ],
   "source": [
    "# Input the optimal parameters in the model\n",
    "model = RandomForestClassifier(class_weight={0:1,1:12},\n",
    "                               criterion='gini',\n",
    "                               max_depth=8,\n",
    "                               max_features='log2', \n",
    "                               min_samples_leaf=10,\n",
    "                               n_estimators=30,\n",
    "                               n_jobs=-1,\n",
    "                               random_state=5)\n",
    "\n",
    "# Get results from your model\n",
    "get_model_results(X_train, y_train, X_test, y_test, model)"
   ]
  },
  {
   "cell_type": "markdown",
   "metadata": {},
   "source": [
    "**The model has been improved even further. The number of false positives has now been slightly reduced even further, which means we are catching more cases of fraud. However, you see that the number of false positives actually went up. That is that Precision-Recall trade-off in action. To decide which final model is best, you need to take into account how bad it is not to catch fraudsters, versus how many false positives the fraud analytics team can deal with. Ultimately, this final decision should be made by you and the fraud team together.**"
   ]
  },
  {
   "cell_type": "markdown",
   "metadata": {},
   "source": [
    "## Ensemble methods\n",
    "\n",
    "![ensemble](https://raw.githubusercontent.com/trenton3983/DataCamp/master/Images/fraud_detection/ensemble.JPG)\n",
    "* Ensemble methods are techniques that create multiple machine learning models and then combine them to produce a final result\n",
    "* Usually produce more accurate predictions than a single model\n",
    "* The goal of an ML problem is to find a single model that will best predict our wanted outcome\n",
    "    * Use ensemble methods rather than making one model and hoping it's best, most accurate predictor\n",
    "* Ensemble methods take a myriad of models into account and average them to produce one final model\n",
    "    * Ensures the predictions are robust\n",
    "    * Less likely to be the result of overfitting\n",
    "    * Can improve prediction performance\n",
    "        * Especially by combining models with different recall and precision scores\n",
    "    * Are a winning formula at Kaggle competitions\n",
    "* The Random Forest classifier is an ensemble of Decision Trees\n",
    "    * **Bootstrap Aggregation** or **Bagging Ensemble** method\n",
    "    * In a Random Forest, models are trained on random subsamples of data and the results are aggregated by taking the average prediction of all the trees"
   ]
  },
  {
   "cell_type": "markdown",
   "metadata": {},
   "source": [
    "#### Stacking Ensemble Methods\n",
    "\n",
    "![stacking ensemble](https://raw.githubusercontent.com/trenton3983/DataCamp/master/Images/fraud_detection/ensemble_stacking.JPG)\n",
    "* Multiple models are combined via a \"voting\" rule on the model outcome\n",
    "* The base level models are each trained based on the complete training set\n",
    "    * Unlike the Bagging method, models are not trained on a subsample of the data\n",
    "* Algorithms of different types can be combined"
   ]
  },
  {
   "cell_type": "markdown",
   "metadata": {},
   "source": [
    "#### Voting Classifier\n",
    "\n",
    "* available in sklearn\n",
    "    * easy way of implementing an ensemble model\n",
    "\n",
    "```python\n",
    "from sklearn.ensemble import VotingClassifier\n",
    "\n",
    "# Define Models\n",
    "clf1 = LogisticRegression(random_state=1)\n",
    "clf2 = RandomForestClassifier(random_state=1)\n",
    "clf3 = GaussianNB()\n",
    "\n",
    "# Combine models into ensemble\n",
    "ensemble_model = VotingClassifier(estimators=[('lr', clf1), ('rf', clf2), ('gnb', clf3)], voting='hard')\n",
    "\n",
    "# Fit and predict as with other models\n",
    "ensemble_model.fit(X_train, y_train)\n",
    "ensemble_model.predict(X_test)\n",
    "```\n",
    "\n",
    "* the `voting='hard'` option uses the predicted class labels and takes the majority vote\n",
    "* the `voting='soft'` option takes the average probability by combining the predicted probabilities of the individual models\n",
    "* Weights can be assigned to the `VotingClassifer` with `weights=[2,1,1]`\n",
    "    * Useful when one model significantly outperforms the others"
   ]
  },
  {
   "cell_type": "markdown",
   "metadata": {},
   "source": [
    "#### Reliable Labels\n",
    "\n",
    "* In real life it's unlikely the data will have truly unbiased, reliable labels for the model\n",
    "* In credit card fraud you often will have reliable labels, in which case, use the methods learned so far\n",
    "* Most cases you'll need to rely on unsupervised learning techniques to detect fraud"
   ]
  },
  {
   "cell_type": "markdown",
   "metadata": {},
   "source": [
    "### Logistic Regression\n",
    "\n",
    "In this last lesson you'll **combine three algorithms** into one model with the **VotingClassifier**. This allows us to benefit from the different aspects from all models, and hopefully improve overall performance and detect more fraud. The first model, the Logistic Regression, has a slightly higher recall score than our optimal Random Forest model, but gives a lot more false positives. You'll also add a Decision Tree with balanced weights to it. The data is already split into a training and test set, i.e. `X_train`, `y_train`, `X_test`, `y_test` are available.\n",
    "\n",
    "In order to understand how the Voting Classifier can potentially improve your original model, you should check the standalone results of the Logistic Regression model first.\n",
    "\n",
    "**Instructions**\n",
    "\n",
    "* Define a LogisticRegression model with class weights that are 1:15 for the fraud cases.\n",
    "* Fit the model to the training set, and obtain the model predictions.\n",
    "* Print the classification report and confusion matrix."
   ]
  },
  {
   "cell_type": "code",
   "execution_count": 67,
   "metadata": {
    "tags": []
   },
   "outputs": [
    {
     "name": "stdout",
     "output_type": "stream",
     "text": [
      "ROC Score:\n",
      "0.9722054981702433\n",
      "\n",
      "Classification Report:\n",
      "              precision    recall  f1-score   support\n",
      "\n",
      "           0       0.99      0.98      0.99      2099\n",
      "           1       0.63      0.88      0.73        91\n",
      "\n",
      "    accuracy                           0.97      2190\n",
      "   macro avg       0.81      0.93      0.86      2190\n",
      "weighted avg       0.98      0.97      0.98      2190\n",
      "\n",
      "\n",
      "Confusion Matrix:\n",
      "[[2052   47]\n",
      " [  11   80]]\n"
     ]
    }
   ],
   "source": [
    "# Define the Logistic Regression model with weights\n",
    "model = LogisticRegression(class_weight={0:1, 1:15}, random_state=5, solver='liblinear')\n",
    "\n",
    "# Get the model results\n",
    "get_model_results(X_train, y_train, X_test, y_test, model)"
   ]
  },
  {
   "cell_type": "markdown",
   "metadata": {},
   "source": [
    "**As you can see the Logistic Regression has quite different performance from the Random Forest. More false positives, but also a better Recall. It will therefore will a useful addition to the Random Forest in an ensemble model.**"
   ]
  },
  {
   "cell_type": "markdown",
   "metadata": {},
   "source": [
    "### Voting Classifier\n",
    "\n",
    "Let's now **combine three machine learning models into one**, to improve our Random Forest fraud detection model from before. You'll combine our usual Random Forest model, with the Logistic Regression from the previous exercise, with a simple Decision Tree. You can use the short cut `get_model_results()` to see the immediate result of the ensemble model.\n",
    "\n",
    "**Instructions**\n",
    "\n",
    "* Import the Voting Classifier package.\n",
    "* Define the three models; use the Logistic Regression from before, the Random Forest from previous exercises and a Decision tree with balanced class weights.\n",
    "* Define the ensemble model by inputting the three classifiers with their respective labels."
   ]
  },
  {
   "cell_type": "code",
   "execution_count": 68,
   "metadata": {
    "tags": []
   },
   "outputs": [
    {
     "name": "stdout",
     "output_type": "stream",
     "text": [
      "\n",
      "Classification Report:\n",
      "              precision    recall  f1-score   support\n",
      "\n",
      "           0       0.99      1.00      0.99      2099\n",
      "           1       0.90      0.86      0.88        91\n",
      "\n",
      "    accuracy                           0.99      2190\n",
      "   macro avg       0.95      0.93      0.94      2190\n",
      "weighted avg       0.99      0.99      0.99      2190\n",
      "\n",
      "\n",
      "Confusion Matrix:\n",
      "[[2090    9]\n",
      " [  13   78]]\n"
     ]
    }
   ],
   "source": [
    "# Define the three classifiers to use in the ensemble\n",
    "clf1 = LogisticRegression(class_weight={0:1, 1:15},\n",
    "                          random_state=5,\n",
    "                          solver='liblinear')\n",
    "\n",
    "clf2 = RandomForestClassifier(class_weight={0:1, 1:12}, \n",
    "                              criterion='gini', \n",
    "                              max_depth=8, \n",
    "                              max_features='log2',\n",
    "                              min_samples_leaf=10, \n",
    "                              n_estimators=30, \n",
    "                              n_jobs=-1,\n",
    "                              random_state=5)\n",
    "\n",
    "clf3 = DecisionTreeClassifier(random_state=5,\n",
    "                              class_weight=\"balanced\")\n",
    "\n",
    "# Combine the classifiers in the ensemble model\n",
    "ensemble_model = VotingClassifier(estimators=[('lr', clf1), ('rf', clf2), ('dt', clf3)], voting='hard')\n",
    "\n",
    "# Get the results \n",
    "get_model_results(X_train, y_train, X_test, y_test, ensemble_model)"
   ]
  },
  {
   "cell_type": "markdown",
   "metadata": {},
   "source": [
    "**By combining the classifiers, you can take the best of multiple models. You've increased the cases of fraud you are catching from 76 to 78, and you only have 5 extra false positives in return. If you do care about catching as many fraud cases as you can, whilst keeping the false positives low, this is a pretty good trade-off. The Logistic Regression as a standalone was quite bad in terms of false positives, and the Random Forest was worse in terms of false negatives. By combining these together you indeed managed to improve performance.**"
   ]
  },
  {
   "cell_type": "markdown",
   "metadata": {},
   "source": [
    "### Adjusting weights within the Voting Classifier\n",
    "\n",
    "You've just seen that the Voting Classifier allows you to improve your fraud detection performance, by combining good aspects from multiple models. Now let's try to **adjust the weights** we give to these models. By increasing or decreasing weights you can play with **how much emphasis you give to a particular model** relative to the rest. This comes in handy when a certain model has overall better performance than the rest, but you still want to combine aspects of the others to further improve your results.\n",
    "\n",
    "For this exercise the data is already split into a training and test set, and `clf1`, `clf2` and `clf3` are available and defined as before, i.e. they are the Logistic Regression, the Random Forest model and the Decision Tree respectively.\n",
    "\n",
    "**Instructions**\n",
    "\n",
    "* Define an ensemble method where you over weigh the second classifier (`clf2`) with 4 to 1 to the rest of the classifiers.\n",
    "* Fit the model to the training and test set, and obtain the predictions `predicted` from the ensemble model.\n",
    "* Print the performance metrics, this is ready for you to run."
   ]
  },
  {
   "cell_type": "code",
   "execution_count": 69,
   "metadata": {
    "tags": []
   },
   "outputs": [
    {
     "name": "stdout",
     "output_type": "stream",
     "text": [
      "ROC Score:\n",
      "0.9739226947421326\n",
      "\n",
      "Classification Report:\n",
      "              precision    recall  f1-score   support\n",
      "\n",
      "           0       0.99      1.00      1.00      2099\n",
      "           1       0.94      0.85      0.89        91\n",
      "\n",
      "    accuracy                           0.99      2190\n",
      "   macro avg       0.97      0.92      0.94      2190\n",
      "weighted avg       0.99      0.99      0.99      2190\n",
      "\n",
      "\n",
      "Confusion Matrix:\n",
      "[[2094    5]\n",
      " [  14   77]]\n"
     ]
    }
   ],
   "source": [
    "# Define the ensemble model\n",
    "ensemble_model = VotingClassifier(estimators=[('lr', clf1), ('rf', clf2), ('gnb', clf3)], voting='soft', weights=[1, 4, 1], flatten_transform=True)\n",
    "\n",
    "# Get results \n",
    "get_model_results(X_train, y_train, X_test, y_test, ensemble_model)"
   ]
  },
  {
   "cell_type": "markdown",
   "metadata": {},
   "source": [
    "**The weight option allows you to play with the individual models to get the best final mix for your fraud detection model. Now that you have finalized fraud detection with supervised learning, let's have a look at how fraud detetion can be done when you don't have any labels to train on.**"
   ]
  },
  {
   "cell_type": "markdown",
   "metadata": {},
   "source": [
    "# Fraud detection using unlabeled data\n",
    "\n",
    "Use unsupervised learning techniques to detect fraud. Segment customers, use K-means clustering and other clustering algorithms to find suspicious occurrences in your data."
   ]
  },
  {
   "cell_type": "markdown",
   "metadata": {},
   "source": [
    "## Normal versus abnormal behavior\n",
    "\n",
    "* Explore fraud detection without reliable data labels\n",
    "* Unsupervised learning to detect suspicious behavior\n",
    "* Abnormal behavior isn't necessarily fraudulent\n",
    "* Challenging because it's difficult to validate"
   ]
  },
  {
   "cell_type": "markdown",
   "metadata": {},
   "source": [
    "#### What's normal behavior?\n",
    "\n",
    "* thoroughly describe the data:\n",
    "    * plot histograms\n",
    "    * check for outliers\n",
    "    * investigate correlations\n",
    "* Are there any known historic cases of fraud? What typifies those cases?\n",
    "* Investigate whether the data is homogeneous, or whether different types of clients display different behavior\n",
    "* Check patterns within subgroups of data: is your data homogeneous?\n",
    "* Verify data points are the same type:\n",
    "    * individuals\n",
    "    * groups\n",
    "    * companies\n",
    "    * governmental organizations\n",
    "* Do the data points differ on:\n",
    "    * spending patterns\n",
    "    * age\n",
    "    * location\n",
    "    * frequency\n",
    "* For credit card fraud, location can be an indication of fraud\n",
    "* This goes for e-commerce sites\n",
    "    * where's the IP address located and where is the product ordered to ship?\n",
    "* Create a separate model for each segment\n",
    "* How to aggregate the many model results back into one final list"
   ]
  },
  {
   "cell_type": "markdown",
   "metadata": {},
   "source": [
    "### Exploring the data\n",
    "\n",
    "In the next exercises, you will be looking at bank **payment transaction data**. The financial transactions are categorized by type of expense, as well as the amount spent. Moreover, you have some client characteristics available such as age group and gender. Some of the transactions are labeled as fraud; you'll treat these labels as given and will use those to validate the results.\n",
    "\n",
    "When using unsupervised learning techniques for fraud detection, you want to **distinguish normal from abnormal** (thus potentially fraudulent) behavior. As a fraud analyst to understand what is \"normal\", you need to have a good understanding of the data and its characteristics. Let's explore the data in this first exercise.\n",
    "\n",
    "**Instructions 1/3**\n",
    "\n",
    "* Obtain the shape of the dataframe `df` to inspect the size of our data and display the first rows to see which features are available."
   ]
  },
  {
   "cell_type": "code",
   "execution_count": 70,
   "metadata": {
    "tags": []
   },
   "outputs": [],
   "source": [
    "banksim_df = pd.read_csv(banksim_file)\n",
    "banksim_df.drop(['Unnamed: 0'], axis=1, inplace=True)\n",
    "banksim_adj_df = pd.read_csv(banksim_adj_file)\n",
    "banksim_adj_df.drop(['Unnamed: 0'], axis=1, inplace=True)"
   ]
  },
  {
   "cell_type": "code",
   "execution_count": 71,
   "metadata": {
    "tags": []
   },
   "outputs": [
    {
     "data": {
      "text/plain": [
       "(7200, 5)"
      ]
     },
     "execution_count": 71,
     "metadata": {},
     "output_type": "execute_result"
    }
   ],
   "source": [
    "banksim_df.shape"
   ]
  },
  {
   "cell_type": "code",
   "execution_count": 72,
   "metadata": {
    "tags": []
   },
   "outputs": [
    {
     "data": {
      "text/html": [
       "<div>\n",
       "<style scoped>\n",
       "    .dataframe tbody tr th:only-of-type {\n",
       "        vertical-align: middle;\n",
       "    }\n",
       "\n",
       "    .dataframe tbody tr th {\n",
       "        vertical-align: top;\n",
       "    }\n",
       "\n",
       "    .dataframe thead th {\n",
       "        text-align: right;\n",
       "    }\n",
       "</style>\n",
       "<table border=\"1\" class=\"dataframe\">\n",
       "  <thead>\n",
       "    <tr style=\"text-align: right;\">\n",
       "      <th></th>\n",
       "      <th>age</th>\n",
       "      <th>gender</th>\n",
       "      <th>category</th>\n",
       "      <th>amount</th>\n",
       "      <th>fraud</th>\n",
       "    </tr>\n",
       "  </thead>\n",
       "  <tbody>\n",
       "    <tr>\n",
       "      <th>0</th>\n",
       "      <td>3</td>\n",
       "      <td>F</td>\n",
       "      <td>es_transportation</td>\n",
       "      <td>49.71</td>\n",
       "      <td>0</td>\n",
       "    </tr>\n",
       "    <tr>\n",
       "      <th>1</th>\n",
       "      <td>4</td>\n",
       "      <td>F</td>\n",
       "      <td>es_health</td>\n",
       "      <td>39.29</td>\n",
       "      <td>0</td>\n",
       "    </tr>\n",
       "    <tr>\n",
       "      <th>2</th>\n",
       "      <td>3</td>\n",
       "      <td>F</td>\n",
       "      <td>es_transportation</td>\n",
       "      <td>18.76</td>\n",
       "      <td>0</td>\n",
       "    </tr>\n",
       "    <tr>\n",
       "      <th>3</th>\n",
       "      <td>4</td>\n",
       "      <td>M</td>\n",
       "      <td>es_transportation</td>\n",
       "      <td>13.95</td>\n",
       "      <td>0</td>\n",
       "    </tr>\n",
       "    <tr>\n",
       "      <th>4</th>\n",
       "      <td>2</td>\n",
       "      <td>M</td>\n",
       "      <td>es_transportation</td>\n",
       "      <td>49.87</td>\n",
       "      <td>0</td>\n",
       "    </tr>\n",
       "  </tbody>\n",
       "</table>\n",
       "</div>"
      ],
      "text/plain": [
       "  age gender           category  amount  fraud\n",
       "0   3      F  es_transportation   49.71      0\n",
       "1   4      F          es_health   39.29      0\n",
       "2   3      F  es_transportation   18.76      0\n",
       "3   4      M  es_transportation   13.95      0\n",
       "4   2      M  es_transportation   49.87      0"
      ]
     },
     "execution_count": 72,
     "metadata": {},
     "output_type": "execute_result"
    }
   ],
   "source": [
    "banksim_df.head()"
   ]
  },
  {
   "cell_type": "code",
   "execution_count": 73,
   "metadata": {
    "tags": []
   },
   "outputs": [
    {
     "data": {
      "text/plain": [
       "(7189, 18)"
      ]
     },
     "execution_count": 73,
     "metadata": {},
     "output_type": "execute_result"
    }
   ],
   "source": [
    "banksim_adj_df.shape"
   ]
  },
  {
   "cell_type": "code",
   "execution_count": 74,
   "metadata": {
    "tags": []
   },
   "outputs": [
    {
     "data": {
      "text/html": [
       "<div>\n",
       "<style scoped>\n",
       "    .dataframe tbody tr th:only-of-type {\n",
       "        vertical-align: middle;\n",
       "    }\n",
       "\n",
       "    .dataframe tbody tr th {\n",
       "        vertical-align: top;\n",
       "    }\n",
       "\n",
       "    .dataframe thead th {\n",
       "        text-align: right;\n",
       "    }\n",
       "</style>\n",
       "<table border=\"1\" class=\"dataframe\">\n",
       "  <thead>\n",
       "    <tr style=\"text-align: right;\">\n",
       "      <th></th>\n",
       "      <th>age</th>\n",
       "      <th>amount</th>\n",
       "      <th>fraud</th>\n",
       "      <th>M</th>\n",
       "      <th>es_barsandrestaurants</th>\n",
       "      <th>es_contents</th>\n",
       "      <th>es_fashion</th>\n",
       "      <th>es_food</th>\n",
       "      <th>es_health</th>\n",
       "      <th>es_home</th>\n",
       "      <th>es_hotelservices</th>\n",
       "      <th>es_hyper</th>\n",
       "      <th>es_leisure</th>\n",
       "      <th>es_otherservices</th>\n",
       "      <th>es_sportsandtoys</th>\n",
       "      <th>es_tech</th>\n",
       "      <th>es_transportation</th>\n",
       "      <th>es_travel</th>\n",
       "    </tr>\n",
       "  </thead>\n",
       "  <tbody>\n",
       "    <tr>\n",
       "      <th>0</th>\n",
       "      <td>3</td>\n",
       "      <td>49.71</td>\n",
       "      <td>0</td>\n",
       "      <td>0</td>\n",
       "      <td>0</td>\n",
       "      <td>0</td>\n",
       "      <td>0</td>\n",
       "      <td>0</td>\n",
       "      <td>0</td>\n",
       "      <td>0</td>\n",
       "      <td>0</td>\n",
       "      <td>0</td>\n",
       "      <td>0</td>\n",
       "      <td>0</td>\n",
       "      <td>0</td>\n",
       "      <td>0</td>\n",
       "      <td>1</td>\n",
       "      <td>0</td>\n",
       "    </tr>\n",
       "    <tr>\n",
       "      <th>1</th>\n",
       "      <td>4</td>\n",
       "      <td>39.29</td>\n",
       "      <td>0</td>\n",
       "      <td>0</td>\n",
       "      <td>0</td>\n",
       "      <td>0</td>\n",
       "      <td>0</td>\n",
       "      <td>0</td>\n",
       "      <td>1</td>\n",
       "      <td>0</td>\n",
       "      <td>0</td>\n",
       "      <td>0</td>\n",
       "      <td>0</td>\n",
       "      <td>0</td>\n",
       "      <td>0</td>\n",
       "      <td>0</td>\n",
       "      <td>0</td>\n",
       "      <td>0</td>\n",
       "    </tr>\n",
       "    <tr>\n",
       "      <th>2</th>\n",
       "      <td>3</td>\n",
       "      <td>18.76</td>\n",
       "      <td>0</td>\n",
       "      <td>0</td>\n",
       "      <td>0</td>\n",
       "      <td>0</td>\n",
       "      <td>0</td>\n",
       "      <td>0</td>\n",
       "      <td>0</td>\n",
       "      <td>0</td>\n",
       "      <td>0</td>\n",
       "      <td>0</td>\n",
       "      <td>0</td>\n",
       "      <td>0</td>\n",
       "      <td>0</td>\n",
       "      <td>0</td>\n",
       "      <td>1</td>\n",
       "      <td>0</td>\n",
       "    </tr>\n",
       "    <tr>\n",
       "      <th>3</th>\n",
       "      <td>4</td>\n",
       "      <td>13.95</td>\n",
       "      <td>0</td>\n",
       "      <td>1</td>\n",
       "      <td>0</td>\n",
       "      <td>0</td>\n",
       "      <td>0</td>\n",
       "      <td>0</td>\n",
       "      <td>0</td>\n",
       "      <td>0</td>\n",
       "      <td>0</td>\n",
       "      <td>0</td>\n",
       "      <td>0</td>\n",
       "      <td>0</td>\n",
       "      <td>0</td>\n",
       "      <td>0</td>\n",
       "      <td>1</td>\n",
       "      <td>0</td>\n",
       "    </tr>\n",
       "    <tr>\n",
       "      <th>4</th>\n",
       "      <td>2</td>\n",
       "      <td>49.87</td>\n",
       "      <td>0</td>\n",
       "      <td>1</td>\n",
       "      <td>0</td>\n",
       "      <td>0</td>\n",
       "      <td>0</td>\n",
       "      <td>0</td>\n",
       "      <td>0</td>\n",
       "      <td>0</td>\n",
       "      <td>0</td>\n",
       "      <td>0</td>\n",
       "      <td>0</td>\n",
       "      <td>0</td>\n",
       "      <td>0</td>\n",
       "      <td>0</td>\n",
       "      <td>1</td>\n",
       "      <td>0</td>\n",
       "    </tr>\n",
       "  </tbody>\n",
       "</table>\n",
       "</div>"
      ],
      "text/plain": [
       "   age  amount  fraud  M  es_barsandrestaurants  es_contents  es_fashion  \\\n",
       "0    3   49.71      0  0                      0            0           0   \n",
       "1    4   39.29      0  0                      0            0           0   \n",
       "2    3   18.76      0  0                      0            0           0   \n",
       "3    4   13.95      0  1                      0            0           0   \n",
       "4    2   49.87      0  1                      0            0           0   \n",
       "\n",
       "   es_food  es_health  es_home  es_hotelservices  es_hyper  es_leisure  \\\n",
       "0        0          0        0                 0         0           0   \n",
       "1        0          1        0                 0         0           0   \n",
       "2        0          0        0                 0         0           0   \n",
       "3        0          0        0                 0         0           0   \n",
       "4        0          0        0                 0         0           0   \n",
       "\n",
       "   es_otherservices  es_sportsandtoys  es_tech  es_transportation  es_travel  \n",
       "0                 0                 0        0                  1          0  \n",
       "1                 0                 0        0                  0          0  \n",
       "2                 0                 0        0                  1          0  \n",
       "3                 0                 0        0                  1          0  \n",
       "4                 0                 0        0                  1          0  "
      ]
     },
     "execution_count": 74,
     "metadata": {},
     "output_type": "execute_result"
    }
   ],
   "source": [
    "banksim_adj_df.head()"
   ]
  },
  {
   "cell_type": "markdown",
   "metadata": {},
   "source": [
    "**Instructions 2/3**\n",
    "\n",
    "* Group the data by transaction category and take the mean of the data."
   ]
  },
  {
   "cell_type": "code",
   "execution_count": 75,
   "metadata": {
    "tags": []
   },
   "outputs": [
    {
     "data": {
      "text/html": [
       "<div>\n",
       "<style scoped>\n",
       "    .dataframe tbody tr th:only-of-type {\n",
       "        vertical-align: middle;\n",
       "    }\n",
       "\n",
       "    .dataframe tbody tr th {\n",
       "        vertical-align: top;\n",
       "    }\n",
       "\n",
       "    .dataframe thead th {\n",
       "        text-align: right;\n",
       "    }\n",
       "</style>\n",
       "<table border=\"1\" class=\"dataframe\">\n",
       "  <thead>\n",
       "    <tr style=\"text-align: right;\">\n",
       "      <th></th>\n",
       "      <th>amount</th>\n",
       "      <th>fraud</th>\n",
       "    </tr>\n",
       "    <tr>\n",
       "      <th>category</th>\n",
       "      <th></th>\n",
       "      <th></th>\n",
       "    </tr>\n",
       "  </thead>\n",
       "  <tbody>\n",
       "    <tr>\n",
       "      <th>es_barsandrestaurants</th>\n",
       "      <td>43.841793</td>\n",
       "      <td>0.022472</td>\n",
       "    </tr>\n",
       "    <tr>\n",
       "      <th>es_contents</th>\n",
       "      <td>55.170000</td>\n",
       "      <td>0.000000</td>\n",
       "    </tr>\n",
       "    <tr>\n",
       "      <th>es_fashion</th>\n",
       "      <td>59.780769</td>\n",
       "      <td>0.020619</td>\n",
       "    </tr>\n",
       "    <tr>\n",
       "      <th>es_food</th>\n",
       "      <td>35.216050</td>\n",
       "      <td>0.000000</td>\n",
       "    </tr>\n",
       "    <tr>\n",
       "      <th>es_health</th>\n",
       "      <td>126.604704</td>\n",
       "      <td>0.242798</td>\n",
       "    </tr>\n",
       "    <tr>\n",
       "      <th>es_home</th>\n",
       "      <td>120.688317</td>\n",
       "      <td>0.208333</td>\n",
       "    </tr>\n",
       "    <tr>\n",
       "      <th>es_hotelservices</th>\n",
       "      <td>172.756245</td>\n",
       "      <td>0.548387</td>\n",
       "    </tr>\n",
       "    <tr>\n",
       "      <th>es_hyper</th>\n",
       "      <td>46.788180</td>\n",
       "      <td>0.125000</td>\n",
       "    </tr>\n",
       "    <tr>\n",
       "      <th>es_leisure</th>\n",
       "      <td>229.757600</td>\n",
       "      <td>1.000000</td>\n",
       "    </tr>\n",
       "    <tr>\n",
       "      <th>es_otherservices</th>\n",
       "      <td>149.648960</td>\n",
       "      <td>0.600000</td>\n",
       "    </tr>\n",
       "    <tr>\n",
       "      <th>es_sportsandtoys</th>\n",
       "      <td>157.251737</td>\n",
       "      <td>0.657895</td>\n",
       "    </tr>\n",
       "    <tr>\n",
       "      <th>es_tech</th>\n",
       "      <td>132.852862</td>\n",
       "      <td>0.179487</td>\n",
       "    </tr>\n",
       "    <tr>\n",
       "      <th>es_transportation</th>\n",
       "      <td>27.422014</td>\n",
       "      <td>0.000000</td>\n",
       "    </tr>\n",
       "    <tr>\n",
       "      <th>es_travel</th>\n",
       "      <td>231.818656</td>\n",
       "      <td>0.944444</td>\n",
       "    </tr>\n",
       "    <tr>\n",
       "      <th>es_wellnessandbeauty</th>\n",
       "      <td>66.167078</td>\n",
       "      <td>0.060606</td>\n",
       "    </tr>\n",
       "  </tbody>\n",
       "</table>\n",
       "</div>"
      ],
      "text/plain": [
       "                           amount     fraud\n",
       "category                                   \n",
       "es_barsandrestaurants   43.841793  0.022472\n",
       "es_contents             55.170000  0.000000\n",
       "es_fashion              59.780769  0.020619\n",
       "es_food                 35.216050  0.000000\n",
       "es_health              126.604704  0.242798\n",
       "es_home                120.688317  0.208333\n",
       "es_hotelservices       172.756245  0.548387\n",
       "es_hyper                46.788180  0.125000\n",
       "es_leisure             229.757600  1.000000\n",
       "es_otherservices       149.648960  0.600000\n",
       "es_sportsandtoys       157.251737  0.657895\n",
       "es_tech                132.852862  0.179487\n",
       "es_transportation       27.422014  0.000000\n",
       "es_travel              231.818656  0.944444\n",
       "es_wellnessandbeauty    66.167078  0.060606"
      ]
     },
     "execution_count": 75,
     "metadata": {},
     "output_type": "execute_result"
    }
   ],
   "source": [
    "banksim_df.groupby(['category']).mean()"
   ]
  },
  {
   "cell_type": "markdown",
   "metadata": {},
   "source": [
    "**Instructions 3/3**\n",
    "\n",
    "Based on these results, can you already say something about fraud in our data?\n",
    "\n",
    "**Possible Answers**\n",
    "\n",
    "* ~~No, I don't have enough information.~~\n",
    "* **Yes, the majority of fraud is observed in travel, leisure and sports related transactions.**"
   ]
  },
  {
   "cell_type": "markdown",
   "metadata": {},
   "source": [
    "### Customer segmentation\n",
    "\n",
    "In this exercise you're going to check whether there are any **obvious patterns** for the clients in this data, thus whether you need to segment your data into groups, or whether the data is rather homogenous.\n",
    "\n",
    "You unfortunately don't have a lot client information available; you can't for example distinguish between the wealth levels of different clients. However, there is data on **age ** available, so let's see whether there is any significant difference between behavior of age groups.\n",
    "\n",
    "**Instructions 1/3**\n",
    "\n",
    "* Group the dataframe `df` by the category `age` and get the means for each age group."
   ]
  },
  {
   "cell_type": "code",
   "execution_count": 76,
   "metadata": {
    "tags": []
   },
   "outputs": [
    {
     "data": {
      "text/html": [
       "<div>\n",
       "<style scoped>\n",
       "    .dataframe tbody tr th:only-of-type {\n",
       "        vertical-align: middle;\n",
       "    }\n",
       "\n",
       "    .dataframe tbody tr th {\n",
       "        vertical-align: top;\n",
       "    }\n",
       "\n",
       "    .dataframe thead th {\n",
       "        text-align: right;\n",
       "    }\n",
       "</style>\n",
       "<table border=\"1\" class=\"dataframe\">\n",
       "  <thead>\n",
       "    <tr style=\"text-align: right;\">\n",
       "      <th></th>\n",
       "      <th>amount</th>\n",
       "      <th>fraud</th>\n",
       "    </tr>\n",
       "    <tr>\n",
       "      <th>age</th>\n",
       "      <th></th>\n",
       "      <th></th>\n",
       "    </tr>\n",
       "  </thead>\n",
       "  <tbody>\n",
       "    <tr>\n",
       "      <th>0</th>\n",
       "      <td>49.468935</td>\n",
       "      <td>0.050000</td>\n",
       "    </tr>\n",
       "    <tr>\n",
       "      <th>1</th>\n",
       "      <td>35.622829</td>\n",
       "      <td>0.026648</td>\n",
       "    </tr>\n",
       "    <tr>\n",
       "      <th>2</th>\n",
       "      <td>37.228665</td>\n",
       "      <td>0.028718</td>\n",
       "    </tr>\n",
       "    <tr>\n",
       "      <th>3</th>\n",
       "      <td>37.279338</td>\n",
       "      <td>0.023283</td>\n",
       "    </tr>\n",
       "    <tr>\n",
       "      <th>4</th>\n",
       "      <td>36.197985</td>\n",
       "      <td>0.035966</td>\n",
       "    </tr>\n",
       "    <tr>\n",
       "      <th>5</th>\n",
       "      <td>37.547521</td>\n",
       "      <td>0.023990</td>\n",
       "    </tr>\n",
       "    <tr>\n",
       "      <th>6</th>\n",
       "      <td>36.700852</td>\n",
       "      <td>0.022293</td>\n",
       "    </tr>\n",
       "    <tr>\n",
       "      <th>U</th>\n",
       "      <td>39.117000</td>\n",
       "      <td>0.000000</td>\n",
       "    </tr>\n",
       "  </tbody>\n",
       "</table>\n",
       "</div>"
      ],
      "text/plain": [
       "        amount     fraud\n",
       "age                     \n",
       "0    49.468935  0.050000\n",
       "1    35.622829  0.026648\n",
       "2    37.228665  0.028718\n",
       "3    37.279338  0.023283\n",
       "4    36.197985  0.035966\n",
       "5    37.547521  0.023990\n",
       "6    36.700852  0.022293\n",
       "U    39.117000  0.000000"
      ]
     },
     "execution_count": 76,
     "metadata": {},
     "output_type": "execute_result"
    }
   ],
   "source": [
    "banksim_df.groupby(['age']).mean()"
   ]
  },
  {
   "cell_type": "markdown",
   "metadata": {},
   "source": [
    "**Instructions 2/3**\n",
    "\n",
    "* Count the values of each age group."
   ]
  },
  {
   "cell_type": "code",
   "execution_count": 77,
   "metadata": {
    "tags": []
   },
   "outputs": [
    {
     "data": {
      "text/plain": [
       "2    2333\n",
       "3    1718\n",
       "4    1279\n",
       "5     792\n",
       "1     713\n",
       "6     314\n",
       "0      40\n",
       "U      11\n",
       "Name: age, dtype: int64"
      ]
     },
     "execution_count": 77,
     "metadata": {},
     "output_type": "execute_result"
    }
   ],
   "source": [
    "banksim_df.age.value_counts()"
   ]
  },
  {
   "cell_type": "markdown",
   "metadata": {},
   "source": [
    "**Instructions 3/3**\n",
    "\n",
    "Based on the results you see, does it make sense to divide your data into age segments before running a fraud detection algorithm?\n",
    "\n",
    "**Possible Answers**\n",
    "\n",
    "* **No, the age groups who are the largest are relatively similar.**\n",
    "* ~~Yes, the age group \"0\" is very different and I would split that one out.~~\n",
    "\n",
    "**The average amount spent as well as fraud occurrence is rather similar across groups. Age group '0' stands out but since there are only 40 cases, it does not make sense to split these out in a separate group and run a separate model on them.**"
   ]
  },
  {
   "cell_type": "markdown",
   "metadata": {},
   "source": [
    "### Using statistics to define normal behavior\n",
    "\n",
    "In the previous exercises we saw that fraud is **more prevalent in certain transaction categories**, but that there is no obvious way to segment our data into for example age groups. This time, let's investigate the **average amounts spent** in normal transactions versus fraud transactions. This gives you an idea of how fraudulent transactions **differ structurally** from normal transactions.\n",
    "\n",
    "**Instructions**\n",
    "\n",
    "* Create two new dataframes from fraud and non-fraud observations. Locate the data in `df` with `.loc` and assign the condition \"where fraud is 1\" and \"where fraud is 0\" for creation of the new dataframes.\n",
    "* Plot the `amount` column of the newly created dataframes in the histogram plot functions and assign the labels `fraud` and `nonfraud` respectively to the plots."
   ]
  },
  {
   "cell_type": "code",
   "execution_count": 78,
   "metadata": {
    "tags": []
   },
   "outputs": [],
   "source": [
    "# Create two dataframes with fraud and non-fraud data \n",
    "df_fraud = banksim_df[banksim_df.fraud == 1] \n",
    "df_non_fraud = banksim_df[banksim_df.fraud == 0]"
   ]
  },
  {
   "cell_type": "code",
   "execution_count": 79,
   "metadata": {
    "tags": []
   },
   "outputs": [
    {
     "data": {
      "image/png": "[encoded data removed]",
      "text/plain": [
       "<Figure size 432x288 with 1 Axes>"
      ]
     },
     "metadata": {
      "needs_background": "light"
     },
     "output_type": "display_data"
    }
   ],
   "source": [
    "# Plot histograms of the amounts in fraud and non-fraud data \n",
    "plt.hist(df_fraud.amount, alpha=0.5, label='fraud')\n",
    "plt.hist(df_non_fraud.amount, alpha=0.5, label='nonfraud')\n",
    "plt.xlabel('amount')\n",
    "plt.legend()\n",
    "plt.show()"
   ]
  },
  {
   "cell_type": "markdown",
   "metadata": {},
   "source": [
    "**As the number fraud observations is much smaller, it is difficult to see the full distribution. Nonetheless, you can see that the fraudulent transactions tend to be on the larger side relative to normal observations. This is good news, as it helps us later in detecting fraud from non-fraud. In the next chapter you're going to implement a clustering model to distinguish between normal and abnormal transactions, when the fraud labels are no longer available.**"
   ]
  },
  {
   "cell_type": "markdown",
   "metadata": {},
   "source": [
    "## Clustering methods to detect fraud"
   ]
  },
  {
   "cell_type": "markdown",
   "metadata": {},
   "source": [
    "#### K-means clustering\n",
    "\n",
    "![k-means](https://raw.githubusercontent.com/trenton3983/DataCamp/master/Images/fraud_detection/k-means.JPG)\n",
    "\n",
    "* The objective of any clustering model is to detect patterns in the data\n",
    "* More specifically, to group the data into distinct clusters made of data points that are very similar to each other, but distinct from the points in the other clusters.\n",
    "* **The objective of k-means is to minimize the sum of all distances between the data samples and their associated cluster centroids**\n",
    "    * The score is the inverse of that minimization, so the score should be close to 0.\n",
    "* **Using the distance to cluster centroids**\n",
    "    * Training samples are shown as dots and cluster centroids are shown as crosses\n",
    "    * Attempt to cluster the data in image A\n",
    "        * Start by putting in an initial guess for two cluster centroids, as in B\n",
    "        * Predefine the number of clusters at the start\n",
    "        * Then calculate the distances of each sample in the data to the closest centroid\n",
    "        * Figure C shows the data split into the two clusters\n",
    "        * Based on the initial clusters, the location of the centroids can be redefined (fig D) to minimize the sum of all distances in the two clusters.\n",
    "        * Repeat the step of reassigning points that are nearest to the centroid (fig E) until it converges to the point where no sample gets reassigned to another cluster (fig F)\n",
    "        * ![clustering](https://raw.githubusercontent.com/trenton3983/DataCamp/master/Images/fraud_detection/clustering.JPG)"
   ]
  },
  {
   "cell_type": "markdown",
   "metadata": {},
   "source": [
    "#### K-means clustering in Python\n",
    "\n",
    "* It's of utmost importance to scale the data before doing K-means clustering, or any algorithm that uses distances\n",
    "* Without scaling, features on a larger scale will weight more heavily in the algorithm.  All features should weigh equally at the initial stage\n",
    "* fix `random_state` so models can be compared\n",
    "\n",
    "```python\n",
    "# Import the packages\n",
    "from sklearn.preprocessing import MinMaxScaler\n",
    "from sklearn.cluster import KMeans\n",
    "\n",
    "# Transform and scale your data\n",
    "X = np.array(df).astype(np.float)\n",
    "scaler = MinMaxScaler()\n",
    "X_scaled = scaler.fit_transform(X)\n",
    "\n",
    "# Define the k-means model and fit to the data\n",
    "kmeans = KMeans(n_clusters=6, random_state=42).fit(X_scaled)\n",
    "```"
   ]
  },
  {
   "cell_type": "markdown",
   "metadata": {},
   "source": [
    "#### The right amount of clusters\n",
    "\n",
    "* The drawback of K-means clustering is the need to assign the number of clusters beforehand\n",
    "* There are multiple ways to check what the right number of clusters should be\n",
    "    * Silhouette method\n",
    "    * Elbow curve\n",
    "* By running a k-means model on clusters varying from 1 to 10 and generate an **elbow curve** by saving the scores for each model under \"score\".\n",
    "* Plot the scores against the number of clusters\n",
    "\n",
    "    \n",
    "```python\n",
    "clust = range(1, 10) \n",
    "kmeans = [KMeans(n_clusters=i) for i in clust]\n",
    "\n",
    "score = [kmeans[i].fit(X_scaled).score(X_scaled) for i in range(len(kmeans))]\n",
    "\n",
    "plt.plot(clust,score)\n",
    "plt.xlabel('Number of Clusters')\n",
    "plt.ylabel('Score')\n",
    "plt.title('Elbow Curve')\n",
    "plt.show()\n",
    "```\n",
    "\n",
    "![elbow curve](https://raw.githubusercontent.com/trenton3983/DataCamp/master/Images/fraud_detection/elbow.JPG)\n",
    "\n",
    "* The slight elbow at 3 means that 3 clusters could be optimal, but it's not very pronounced"
   ]
  },
  {
   "cell_type": "markdown",
   "metadata": {},
   "source": [
    "### Scaling the data\n",
    "\n",
    "For ML algorithms using distance based metrics, it is **crucial to always scale your data**, as features using different scales will distort your results. K-means uses the Euclidean distance to assess distance to cluster centroids, therefore you first need to scale your data before continuing to implement the algorithm. Let's do that first.\n",
    "\n",
    "Available is the dataframe `df` from the previous exercise, with some minor data preparation done so it is ready for you to use with `sklearn`. The fraud labels are separately stored under labels, you can use those to check the results later.\n",
    "\n",
    "**Instructions**\n",
    "\n",
    "* Import the ``MinMaxScaler``.\n",
    "* Transform your dataframe `df` into a numpy array `X` by taking only the values of `df` and make sure you have all `float` values.\n",
    "* Apply the defined scaler onto `X` to obtain scaled values of `X_scaled` to force all your features to a 0-1 scale."
   ]
  },
  {
   "cell_type": "code",
   "execution_count": 80,
   "metadata": {
    "tags": []
   },
   "outputs": [],
   "source": [
    "labels = banksim_adj_df.fraud"
   ]
  },
  {
   "cell_type": "code",
   "execution_count": 81,
   "metadata": {
    "tags": []
   },
   "outputs": [],
   "source": [
    "cols = ['age', 'amount', 'M', 'es_barsandrestaurants', 'es_contents',\n",
    "        'es_fashion', 'es_food', 'es_health', 'es_home', 'es_hotelservices',\n",
    "        'es_hyper', 'es_leisure', 'es_otherservices', 'es_sportsandtoys',\n",
    "        'es_tech', 'es_transportation', 'es_travel']"
   ]
  },
  {
   "cell_type": "code",
   "execution_count": 82,
   "metadata": {
    "tags": []
   },
   "outputs": [],
   "source": [
    "# Take the float values of df for X\n",
    "X = banksim_adj_df[cols].values.astype(np.float)"
   ]
  },
  {
   "cell_type": "code",
   "execution_count": 83,
   "metadata": {
    "tags": []
   },
   "outputs": [
    {
     "data": {
      "text/plain": [
       "(7189, 17)"
      ]
     },
     "execution_count": 83,
     "metadata": {},
     "output_type": "execute_result"
    }
   ],
   "source": [
    "X.shape"
   ]
  },
  {
   "cell_type": "code",
   "execution_count": 84,
   "metadata": {
    "tags": []
   },
   "outputs": [],
   "source": [
    "# Define the scaler and apply to the data\n",
    "scaler = MinMaxScaler()\n",
    "X_scaled = scaler.fit_transform(X)"
   ]
  },
  {
   "cell_type": "markdown",
   "metadata": {},
   "source": [
    "### K-mean clustering\n",
    "\n",
    "A very commonly used clustering algorithm is **K-means clustering**. For fraud detection, K-means clustering is straightforward to implement and relatively powerful in predicting suspicious cases. It is a good algorithm to start with when working on fraud detection problems. However, fraud data is oftentimes very large, especially when you are working with transaction data. **MiniBatch K-means** is an **efficient way** to implement K-means on a large dataset, which you will use in this exercise.\n",
    "\n",
    "The scaled data from the previous exercise, `X_scaled` is available. Let's give it a try.\n",
    "\n",
    "**Instructions**\n",
    "\n",
    "* Import `MiniBatchKMeans` from `sklearn`.\n",
    "* Initialize the minibatch kmeans model with 8 clusters.\n",
    "* Fit the model to your scaled data."
   ]
  },
  {
   "cell_type": "code",
   "execution_count": 85,
   "metadata": {
    "tags": []
   },
   "outputs": [
    {
     "data": {
      "text/plain": [
       "MiniBatchKMeans(random_state=0)"
      ]
     },
     "execution_count": 85,
     "metadata": {},
     "output_type": "execute_result"
    }
   ],
   "source": [
    "# Define the model \n",
    "kmeans = MiniBatchKMeans(n_clusters=8, random_state=0)\n",
    "\n",
    "# Fit the model to the scaled data\n",
    "kmeans.fit(X_scaled)"
   ]
  },
  {
   "cell_type": "markdown",
   "metadata": {},
   "source": [
    "**You have now fitted your MiniBatch K-means model to the data. In the upcoming exercises you're going to explore whether this model is any good at flagging fraud. But before doing that, you still need to figure our what the right number of clusters to use is. Let's do that in the next exercise.**"
   ]
  },
  {
   "cell_type": "markdown",
   "metadata": {},
   "source": [
    "### Elbow method\n",
    "\n",
    "In the previous exercise you've implemented MiniBatch K-means with 8 clusters, without actually checking what the right amount of clusters should be. For our first fraud detection approach, it is important to **get the number of clusters right**, especially when you want to use the outliers of those clusters as fraud predictions. To decide which amount of clusters you're going to use, let's apply the **Elbow method** and see what the optimal number of clusters should be based on this method.\n",
    "\n",
    "`X_scaled` is again available for you to use and `MiniBatchKMeans` has been imported from `sklearn`.\n",
    "\n",
    "**Instructions**\n",
    "\n",
    "* Define the range to be between 1 and 10 clusters.\n",
    "* Run MiniBatch K-means on all the clusters in the range using list comprehension.\n",
    "* Fit each model on the scaled data and obtain the scores from the scaled data.\n",
    "* Plot the cluster numbers and their respective scores."
   ]
  },
  {
   "cell_type": "code",
   "execution_count": 86,
   "metadata": {
    "tags": []
   },
   "outputs": [],
   "source": [
    "# Define the range of clusters to try\n",
    "clustno = range(1, 10)\n",
    "\n",
    "# Run MiniBatch Kmeans over the number of clusters\n",
    "kmeans = [MiniBatchKMeans(n_clusters=i) for i in clustno]\n",
    "\n",
    "# Obtain the score for each model\n",
    "score = [kmeans[i].fit(X_scaled).score(X_scaled) for i in range(len(kmeans))]"
   ]
  },
  {
   "cell_type": "code",
   "execution_count": 87,
   "metadata": {
    "tags": []
   },
   "outputs": [
    {
     "data": {
      "image/png": "[encoded data removed]",
      "text/plain": [
       "<Figure size 432x288 with 1 Axes>"
      ]
     },
     "metadata": {
      "needs_background": "light"
     },
     "output_type": "display_data"
    }
   ],
   "source": [
    "# Plot the models and their respective score \n",
    "plt.plot(clustno, score)\n",
    "plt.xlabel('Number of Clusters')\n",
    "plt.ylabel('Score')\n",
    "plt.title('Elbow Curve')\n",
    "plt.show()"
   ]
  },
  {
   "cell_type": "markdown",
   "metadata": {},
   "source": [
    "**Now you can see that the optimal number of clusters should probably be at around 3 clusters, as that is where the elbow is in the curve. We'll use this in the next exercise as our baseline model, and see how well this does in detecting fraud**"
   ]
  },
  {
   "cell_type": "markdown",
   "metadata": {},
   "source": [
    "## Assigning fraud vs. non-fraud\n",
    "\n",
    "* ![clusters](https://raw.githubusercontent.com/trenton3983/DataCamp/master/Images/fraud_detection/clusters_1.JPG)\n",
    "* Take the outliers of each cluster, and flag those as fraud.\n",
    "* ![clusters](https://raw.githubusercontent.com/trenton3983/DataCamp/master/Images/fraud_detection/clusters_2.JPG)\n",
    "1. Collect and store the cluster centroids in memory\n",
    "    * Starting point to decide what's normal and not\n",
    "1. Calculate the distance of each point in the dataset, to their own cluster centroid\n",
    "* ![clusters](https://raw.githubusercontent.com/trenton3983/DataCamp/master/Images/fraud_detection/clusters_3.JPG)\n",
    "    * Euclidean distance is depicted by the circles in this case\n",
    "    * Define a cut-off point for the distances to define what's an outlier\n",
    "        * Done based on the distributions of the distances collected\n",
    "        * i.e. everything with a distance larger than the top 95th percentile, should be considered an outlier\n",
    "        * the tail of the distribution of distances\n",
    "        * anything outside the yellow circles is an outlier\n",
    "        * ![clusters](https://raw.githubusercontent.com/trenton3983/DataCamp/master/Images/fraud_detection/clusters_4.JPG)\n",
    "        * these are definitely outliers and can be described as abnormal or suspicious\n",
    "            * doesn't necessarily mean they are fraudulent"
   ]
  },
  {
   "cell_type": "markdown",
   "metadata": {},
   "source": [
    "#### Flagging Fraud Based on Distance to Centroid\n",
    "\n",
    "```python\n",
    "# Run the kmeans model on scaled data\n",
    "kmeans = KMeans(n_clusters=6, random_state=42,n_jobs=-1).fit(X_scaled)\n",
    "\n",
    "# Get the cluster number for each datapoint\n",
    "X_clusters = kmeans.predict(X_scaled)\n",
    "\n",
    "# Save the cluster centroids\n",
    "X_clusters_centers = kmeans.cluster_centers_\n",
    "\n",
    "# Calculate the distance to the cluster centroid for each point\n",
    "dist = [np.linalg.norm(x-y) for x,y in zip(X_scaled, X_clusters_centers[X_clusters])]\n",
    "\n",
    "# Create predictions based on distance\n",
    "km_y_pred = np.array(dist)\n",
    "km_y_pred[dist>=np.percentile(dist, 93)] = 1\n",
    "km_y_pred[dist<np.percentile(dist, 93)] = 0\n",
    "```\n",
    "\n",
    "* `np.linalg.norm`: returns the vector norm, the vector of distance for each datapoint to their assigned cluster\n",
    "* use the percentiles of the distances to determine which samples are outliers"
   ]
  },
  {
   "cell_type": "markdown",
   "metadata": {},
   "source": [
    "#### Validating the Model Results\n",
    "\n",
    "* without fraud labels, the usual performance metrics can't be run\n",
    "    * check with the fraud analyst\n",
    "    * investigate and describe cases that are flagged in more detail\n",
    "        * is it fraudulent or just a rare case of legit data\n",
    "        * avoid rare, legit cases by deleting certain features or removing the cases from the data\n",
    "    * if there are past cases of fraud, see if the model can predict them using historic data"
   ]
  },
  {
   "cell_type": "markdown",
   "metadata": {},
   "source": [
    "### Detecting outliers\n",
    "\n",
    "In the next exercises, you're going to use the K-means algorithm to predict fraud, and compare those predictions to the actual labels that are saved, to sense check our results.\n",
    "\n",
    "The fraudulent transactions are typically flagged as the observations that are furthest aways from the cluster centroid. You'll learn how to do this and how to determine the cut-off in this exercise. In the next one, you'll check the results.\n",
    "\n",
    "Available are the scaled observations X_scaled, as well as the labels stored under the variable y.\n",
    "\n",
    "**Instructions**\n",
    "\n",
    "* Split the scaled data and labels y into a train and test set.\n",
    "* Define the MiniBatch K-means model with 3 clusters, and fit to the training data.\n",
    "* Get the cluster predictions from your test data and obtain the cluster centroids.\n",
    "* Define the boundary between fraud and non fraud to be at 95% of distance distribution and higher."
   ]
  },
  {
   "cell_type": "code",
   "execution_count": 88,
   "metadata": {
    "tags": []
   },
   "outputs": [],
   "source": [
    "# Split the data into training and test set\n",
    "X_train, X_test, y_train, y_test = train_test_split(X_scaled, labels, test_size=0.3, random_state=0)\n",
    "\n",
    "# Define K-means model \n",
    "kmeans = MiniBatchKMeans(n_clusters=3, random_state=42).fit(X_train)\n",
    "\n",
    "# Obtain predictions and calculate distance from cluster centroid\n",
    "X_test_clusters = kmeans.predict(X_test)\n",
    "X_test_clusters_centers = kmeans.cluster_centers_\n",
    "dist = [np.linalg.norm(x-y) for x, y in zip(X_test, X_test_clusters_centers[X_test_clusters])]\n",
    "\n",
    "# Create fraud predictions based on outliers on clusters \n",
    "km_y_pred = np.array(dist)\n",
    "km_y_pred[dist >= np.percentile(dist, 95)] = 1\n",
    "km_y_pred[dist < np.percentile(dist, 95)] = 0"
   ]
  },
  {
   "cell_type": "markdown",
   "metadata": {},
   "source": [
    "### Checking model results\n",
    "\n",
    "In the previous exercise you've flagged all observations to be fraud, if they are in the top 5th percentile in distance from the cluster centroid. I.e. these are the very outliers of the three clusters. For this exercise you have the scaled data and labels already split into training and test set, so y_test is available. The predictions from the previous exercise, km_y_pred, are also available. Let's create some performance metrics and see how well you did.\n",
    "\n",
    "**Instructions 1/3**\n",
    "\n",
    "* Obtain the area under the ROC curve from your test labels and predicted labels."
   ]
  },
  {
   "cell_type": "code",
   "execution_count": 89,
   "metadata": {
    "tags": []
   },
   "outputs": [],
   "source": [
    "def plot_confusion_matrix(cm, classes=['Not Fraud', 'Fraud'],\n",
    "                          normalize=False,\n",
    "                          title='Fraud Confusion matrix',\n",
    "                          cmap=plt.cm.Blues):\n",
    "    \"\"\"\n",
    "    This function prints and plots the confusion matrix.\n",
    "    Normalization can be applied by setting `normalize=True`.\n",
    "    From:\n",
    "        http://scikit-learn.org/stable/auto_examples/model_selection/plot_confusion_matrix.html#sphx-glr-auto-\n",
    "        examples-model-selection-plot-confusion-matrix-py\n",
    "    \"\"\"\n",
    "    if normalize:\n",
    "        cm = cm.astype('float') / cm.sum(axis=1)[:, np.newaxis]\n",
    "        print(\"Normalized confusion matrix\")\n",
    "    else:\n",
    "        print('Confusion matrix, without normalization')\n",
    "\n",
    "    # print(cm)\n",
    "\n",
    "    plt.imshow(cm, interpolation='nearest', cmap=cmap)\n",
    "    plt.title(title)\n",
    "    plt.colorbar()\n",
    "    tick_marks = np.arange(len(classes))\n",
    "    plt.xticks(tick_marks, classes, rotation=45)\n",
    "    plt.yticks(tick_marks, classes)\n",
    "\n",
    "    fmt = '.2f' if normalize else 'd'\n",
    "    thresh = cm.max() / 2.\n",
    "    for i, j in product(range(cm.shape[0]), range(cm.shape[1])):\n",
    "        plt.text(j, i, format(cm[i, j], fmt),\n",
    "                 horizontalalignment=\"center\",\n",
    "                 color=\"white\" if cm[i, j] > thresh else \"black\")\n",
    "\n",
    "    plt.tight_layout()\n",
    "    plt.ylabel('True label')\n",
    "    plt.xlabel('Predicted label')\n",
    "    plt.show()"
   ]
  },
  {
   "cell_type": "code",
   "execution_count": 90,
   "metadata": {
    "tags": []
   },
   "outputs": [
    {
     "data": {
      "text/plain": [
       "0.8109115999408585"
      ]
     },
     "execution_count": 90,
     "metadata": {},
     "output_type": "execute_result"
    }
   ],
   "source": [
    "# Obtain the ROC score\n",
    "roc_auc_score(y_test, km_y_pred)"
   ]
  },
  {
   "cell_type": "markdown",
   "metadata": {},
   "source": [
    "**Instructions 2/3**\n",
    "\n",
    "* Obtain the confusion matrix from the test labels and predicted labels and plot the results."
   ]
  },
  {
   "cell_type": "code",
   "execution_count": 91,
   "metadata": {
    "tags": []
   },
   "outputs": [
    {
     "name": "stdout",
     "output_type": "stream",
     "text": [
      "Confusion matrix, without normalization\n"
     ]
    },
    {
     "data": {
      "image/png": "[encoded data removed]",
      "text/plain": [
       "<Figure size 432x288 with 2 Axes>"
      ]
     },
     "metadata": {
      "needs_background": "light"
     },
     "output_type": "display_data"
    }
   ],
   "source": [
    "# Create a confusion matrix\n",
    "km_cm = confusion_matrix(y_test, km_y_pred)\n",
    "\n",
    "# Plot the confusion matrix in a figure to visualize results \n",
    "plot_confusion_matrix(km_cm)"
   ]
  },
  {
   "cell_type": "markdown",
   "metadata": {},
   "source": [
    "**Instructions 3/3**\n",
    "\n",
    "If you were to decrease the percentile used as a cutoff point in the previous exercise to 93% instead of 95%, what would that do to your prediction results?\n",
    "\n",
    "**Possible Answers**\n",
    "\n",
    "* **The number of fraud cases caught increases, but false positives also increase.**\n",
    "* ~~The number of fraud cases caught decreases, and false positives decrease.~~\n",
    "* ~~The number of fraud cases caught increases, but false positives would decrease.~~\n",
    "* ~~Nothing would happen to the amount of fraud cases caught.~~"
   ]
  },
  {
   "cell_type": "markdown",
   "metadata": {},
   "source": [
    "## Alternate clustering methods for fraud detection\n",
    "\n",
    "* In addition to K-means, there are many different clustering methods, which can be used for fraud detection\n",
    "* ![clustering methods](https://raw.githubusercontent.com/trenton3983/DataCamp/master/Images/fraud_detection/clustering_methods.JPG)\n",
    "* K-means works well when the data is clustered in normal, round shapes\n",
    "* There are methods to flag fraud other the cluster outliers\n",
    "* ![clustering outlier](https://raw.githubusercontent.com/trenton3983/DataCamp/master/Images/fraud_detection/cluster_outlier.JPG)\n",
    "    * Small clusters can be an indication of fraud\n",
    "    * This approach can be used when fraudulent behavior has commonalities, which cause clustering\n",
    "    * The fraudulent data would cluster in tiny groups, rather than be the outliers of larger clusters\n",
    "* ![typical data](https://raw.githubusercontent.com/trenton3983/DataCamp/master/Images/fraud_detection/typical_data.JPG)\n",
    "    * In this case there are 3 obvious clusters\n",
    "    * The smallest dots are outliers and outside of what can be described as normal behavior\n",
    "    * There are also small to medium clusters closely connected to the red cluster\n",
    "    * Visualizing the data with something like [PCA](https://en.wikipedia.org/wiki/Principal_component_analysis) can be quite helpful"
   ]
  },
  {
   "cell_type": "markdown",
   "metadata": {},
   "source": [
    "#### DBSCAN: Density-Based Spatial Clustering of Applications with Noise\n",
    "\n",
    "* [DBscan](https://en.wikipedia.org/wiki/DBSCAN)\n",
    "* DBSCAN vs. K-means\n",
    "    * The number of clusters does not need to be predefined\n",
    "        * The algorithm finds core samples of high density and expands clusters from them\n",
    "        * Works well on data containing clusters of similar density\n",
    "    * This type of algorithm can be used to identify fraud as very small clusters\n",
    "    * Maximum allowed distance between points in a cluster must be assigned\n",
    "    * Minimal number of data points in clusters must be assigned\n",
    "    * Better performance on weirdly shaped data\n",
    "    * Computationally heavier then MiniBatch K-means"
   ]
  },
  {
   "cell_type": "markdown",
   "metadata": {},
   "source": [
    "#### Implementation of DBSCAN\n",
    "\n",
    "```python\n",
    "from sklearn.cluster import DBSCAN\n",
    "db = DBSCAN(eps=0.5, min_samples=10, n_jobs=-1).fit(X_scaled)\n",
    "\n",
    "# Get the cluster labels (aka numbers)\n",
    "pred_labels = db.labels_\n",
    "\n",
    "# Count the total number of clusters\n",
    "n_clusters_ = len(set(pred_labels)) - (1 if -1 in pred_labels else 0)\n",
    "\n",
    "# Print model results\n",
    "print(f'Estimated number of clusters: {n_clusters_}')\n",
    ">>> Estimated number of clusters: 31\n",
    "    \n",
    "# Print model results\n",
    "print(f'Silhouette Coefficient: {metrics.silhouette_score(X_scaled, pred_labels):0.3f}')\n",
    ">>> Silhouette Coefficient: 0.359\n",
    "    \n",
    "# Get sample counts in each cluster \n",
    "counts = np.bincount(pred_labels[pred_labels>=0])\n",
    "print(counts)\n",
    ">>> [ 763, 496, 840, 355 1086, 676, 63, 306, 560, 134, 28, 18, 262, 128,\n",
    "     332, 22, 22, 13, 31, 38, 36, 28, 14, 12, 30, 10, 11, 10, 21, 10, 5]\n",
    "```\n",
    "\n",
    "* start by defining the epsilon `eps`\n",
    "    * Distance between data points allowed from which the cluster expands\n",
    "* define minimum samples in the clusters\n",
    "* conventional DBSCAN can't produce the optimal value of epsilon, so it requires sophisticated DBSCAN modifications to automatically determine the optimal epsilon value\n",
    "* Fit DBSCAN to **scaled data**\n",
    "* Use `labels_` method to get the assigned cluster label for each data point\n",
    "* The cluster count can also be determine by counting the unique cluster labels from the cluster `label_` predictions\n",
    "* Can have performance metrics such as **average silhouette score**\n",
    "* The size of each cluster can be calculated with `np.bincount`\n",
    "    * counts the number of occurrences of non-negative values in a `numpy` array\n",
    "* sort `counts` and decide how many of the smaller clusters to flag as fraud\n",
    "    * selecting the clusters to flag, is a trial-and-error step and depends on the number of cases the fraud team can manage"
   ]
  },
  {
   "cell_type": "markdown",
   "metadata": {},
   "source": [
    "### DB scan\n",
    "\n",
    "In this exercise you're going to explore using a **density based clustering** method (DBSCAN) to detect fraud. The advantage of DBSCAN is that you **do not need to define the number of clusters** beforehand. Also, DBSCAN can handle weirdly shaped data (i.e. non-convex) much better than K-means can. This time, you are not going to take the outliers of the clusters and use that for fraud, but take the **smallest clusters** in the data and label those as fraud. You again have the scaled dataset, i.e. X_scaled available. Let's give it a try!\n",
    "\n",
    "**Instructions**\n",
    "\n",
    "* Import `DBSCAN`.\n",
    "* Initialize a DBSCAN model setting the maximum distance between two samples to 0.9 and the minimum observations in the clusters to 10, and fit the model to the scaled data.\n",
    "* Obtain the predicted labels, these are the cluster numbers assigned to an observation.\n",
    "* Print the number of clusters and the rest of the performance metrics."
   ]
  },
  {
   "cell_type": "code",
   "execution_count": 92,
   "metadata": {
    "tags": []
   },
   "outputs": [],
   "source": [
    "# Initialize and fit the DBscan model\n",
    "db = DBSCAN(eps=0.9, min_samples=10, n_jobs=-1).fit(X_scaled)\n",
    "\n",
    "# Obtain the predicted labels and calculate number of clusters\n",
    "pred_labels = db.labels_\n",
    "n_clusters = len(set(pred_labels)) - (1 if -1 in labels else 0)"
   ]
  },
  {
   "cell_type": "code",
   "execution_count": 93,
   "metadata": {
    "tags": []
   },
   "outputs": [
    {
     "name": "stdout",
     "output_type": "stream",
     "text": [
      "Estimated number of clusters: 23\n",
      "Homogeneity: 0.612\n",
      "Silhouette Coefficient: 0.713\n"
     ]
    }
   ],
   "source": [
    "# Print performance metrics for DBscan\n",
    "print(f'Estimated number of clusters: {n_clusters}')\n",
    "print(f'Homogeneity: {homogeneity_score(labels, pred_labels):0.3f}')\n",
    "print(f'Silhouette Coefficient: {silhouette_score(X_scaled, pred_labels):0.3f}')"
   ]
  },
  {
   "cell_type": "markdown",
   "metadata": {},
   "source": [
    "**The number of clusters is much higher than with K-means. For fraud detection this is for now OK, as we are only interested in the smallest clusters, since those are considered as abnormal. Now have a look at those clusters and decide which one to flag as fraud.**"
   ]
  },
  {
   "cell_type": "markdown",
   "metadata": {},
   "source": [
    "### Assessing smallest clusters\n",
    "\n",
    "In this exercise you're going to have a look at the clusters that came out of DBscan, and flag certain clusters as fraud:\n",
    "\n",
    "* you first need to figure out how big the clusters are, and **filter out the smallest**\n",
    "* then, you're going to take the smallest ones and **flag those as fraud**\n",
    "* last, you'll **check with the original labels** whether this does actually do a good job in detecting fraud.\n",
    "\n",
    "Available are the DBscan model predictions, so `n_clusters` is available as well as the cluster labels, which are saved under `pred_labels`. Let's give it a try!\n",
    "\n",
    "**Instructions 1/3**\n",
    "\n",
    "* Count the samples within each cluster by running a bincount on the predicted cluster numbers under `pred_labels` and print the results."
   ]
  },
  {
   "cell_type": "code",
   "execution_count": 94,
   "metadata": {
    "tags": []
   },
   "outputs": [
    {
     "name": "stdout",
     "output_type": "stream",
     "text": [
      "[3252  145 2714   55  174  119  122   98   54   15   76   15   43   25\n",
      "   51   47   42   15   25   20   19   10]\n"
     ]
    }
   ],
   "source": [
    "# Count observations in each cluster number\n",
    "counts = np.bincount(pred_labels[pred_labels >= 0])\n",
    "\n",
    "# Print the result\n",
    "print(counts)"
   ]
  },
  {
   "cell_type": "markdown",
   "metadata": {},
   "source": [
    "**Instructions 2/3**\n",
    "\n",
    "* Sort the sample `counts` and take the top 3 smallest clusters, and print the results."
   ]
  },
  {
   "cell_type": "code",
   "execution_count": 95,
   "metadata": {
    "tags": []
   },
   "outputs": [],
   "source": [
    "# Sort the sample counts of the clusters and take the top 3 smallest clusters\n",
    "smallest_clusters = np.argsort(counts)[:3]"
   ]
  },
  {
   "cell_type": "code",
   "execution_count": 96,
   "metadata": {
    "tags": []
   },
   "outputs": [
    {
     "name": "stdout",
     "output_type": "stream",
     "text": [
      "The smallest clusters are clusters: [21 17  9]\n"
     ]
    }
   ],
   "source": [
    "# Print the results \n",
    "print(f'The smallest clusters are clusters: {smallest_clusters}')"
   ]
  },
  {
   "cell_type": "markdown",
   "metadata": {},
   "source": [
    "**Instructions 3/3**\n",
    "\n",
    "* Within `counts`, select the smallest clusters only, to print the number of samples in the three smallest clusters."
   ]
  },
  {
   "cell_type": "code",
   "execution_count": 97,
   "metadata": {
    "tags": []
   },
   "outputs": [
    {
     "name": "stdout",
     "output_type": "stream",
     "text": [
      "Their counts are: [10 15 15]\n"
     ]
    }
   ],
   "source": [
    "# Print the counts of the smallest clusters only\n",
    "print(f'Their counts are: {counts[smallest_clusters]}')"
   ]
  },
  {
   "cell_type": "markdown",
   "metadata": {},
   "source": [
    "**So now we know which smallest clusters you could flag as fraud. If you were to take more of the smallest clusters, you cast your net wider and catch more fraud, but most likely also more false positives. It is up to the fraud analyst to find the right amount of cases to flag and to investigate. In the next exercise you'll check the results with the actual labels.**"
   ]
  },
  {
   "cell_type": "markdown",
   "metadata": {},
   "source": [
    "### Results verification\n",
    "\n",
    "In this exercise you're going to **check the results** of your DBscan fraud detection model. In reality, you often don't have reliable labels and this where a fraud analyst can help you validate the results. He/She can check your results and see whether the cases you flagged are indeed suspicious. You can also **check historically known cases** of fraud and see whether your model flags them.\n",
    "\n",
    "In this case, you'll **use the fraud labels** to check your model results. The predicted cluster numbers are available under `pred_labels` as well as the original fraud `labels`.\n",
    "\n",
    "**Instructions**\n",
    "\n",
    "* Create a dataframe combining the cluster numbers with the actual labels.\n",
    "* Create a condition that flags fraud for the three smallest clusters: clusters 21, 17 and 9.\n",
    "* Create a crosstab from the actual fraud labels with the newly created predicted fraud labels."
   ]
  },
  {
   "cell_type": "code",
   "execution_count": 98,
   "metadata": {
    "tags": []
   },
   "outputs": [],
   "source": [
    "# Create a dataframe of the predicted cluster numbers and fraud labels \n",
    "df = pd.DataFrame({'clusternr':pred_labels,'fraud':labels})\n",
    "\n",
    "# Create a condition flagging fraud for the smallest clusters \n",
    "df['predicted_fraud'] = np.where((df['clusternr'].isin([21, 17, 9])), 1 , 0)"
   ]
  },
  {
   "cell_type": "code",
   "execution_count": 99,
   "metadata": {
    "tags": []
   },
   "outputs": [
    {
     "name": "stdout",
     "output_type": "stream",
     "text": [
      "Flagged Fraud     0   1\n",
      "Actual Fraud           \n",
      "0              6973  16\n",
      "1               176  24\n"
     ]
    }
   ],
   "source": [
    "# Run a crosstab on the results \n",
    "print(pd.crosstab(df['fraud'], df['predicted_fraud'], rownames=['Actual Fraud'], colnames=['Flagged Fraud']))"
   ]
  },
  {
   "cell_type": "markdown",
   "metadata": {},
   "source": [
    "**How does this compare to the K-means model? The good thing is: our of all flagged cases, roughly 2/3 are actually fraud! Since you only take the three smallest clusters, by definition you flag less cases of fraud, so you catch less but also have less false positives. However, you are missing quite a lot of fraud cases. Increasing the amount of smallest clusters you flag could improve that, at the cost of more false positives of course. In the next chapter you'll learn how to further improve fraud detection models by including text analysis.**"
   ]
  },
  {
   "cell_type": "markdown",
   "metadata": {},
   "source": [
    "# Fraud detection using text\n",
    "\n",
    "Use text data, text mining and topic modeling to detect fraudulent behavior."
   ]
  },
  {
   "cell_type": "markdown",
   "metadata": {},
   "source": [
    "## Using text data\n",
    "\n",
    "* Types of useful text data:\n",
    "    1. Emails from employees and/or clients\n",
    "    1. Transaction descriptions\n",
    "    1. Employee notes\n",
    "    1. Insurance claim form description box\n",
    "    1. Recorded telephone conversations\n",
    "* Text mining techniques for fraud detection\n",
    "    1. Word search\n",
    "    1. Sentiment analysis\n",
    "    1. Word frequencies and topic analysis\n",
    "    1. Style\n",
    "* Word search for fraud detection\n",
    "    * Flagging suspicious words:\n",
    "        1. Simple, straightforward and easy to explain\n",
    "        1. Match results can be used as a filter on top of machine learning model\n",
    "        1. Match results can be used as a feature in a machine learning model"
   ]
  },
  {
   "cell_type": "markdown",
   "metadata": {},
   "source": [
    "#### Word counts to flag fraud with pandas\n",
    "\n",
    "```python\n",
    "# Using a string operator to find words\n",
    "df['email_body'].str.contains('money laundering')\n",
    "\n",
    " # Select data that matches \n",
    "df.loc[df['email_body'].str.contains('money laundering', na=False)]\n",
    "\n",
    " # Create a list of words to search for\n",
    "list_of_words = ['police', 'money laundering']\n",
    "df.loc[df['email_body'].str.contains('|'.join(list_of_words), na=False)]\n",
    "\n",
    " # Create a fraud flag \n",
    "df['flag'] = np.where((df['email_body'].str.contains('|'.join(list_of_words)) == True), 1, 0)\n",
    "```"
   ]
  },
  {
   "cell_type": "markdown",
   "metadata": {},
   "source": [
    "### Word search with dataframes\n",
    "\n",
    "In this exercise you're going to work with text data, containing emails from Enron employees. The **Enron scandal** is a famous fraud case. Enron employees covered up the bad financial position of the company, thereby keeping the stock price artificially high. Enron employees sold their own stock options, and when the truth came out, Enron investors were left with nothing. The goal is to find all emails that mention specific words, such as \"sell enron stock\".\n",
    "\n",
    "By using string operations on dataframes, you can easily sift through messy email data and create flags based on word-hits. The Enron email data has been put into a dataframe called `df` so let's search for suspicious terms. Feel free to explore `df` in the Console before getting started.\n",
    "\n",
    "**Instructions 1/2**\n",
    "\n",
    "* Check the head of `df` in the console and look for any emails mentioning 'sell enron stock'."
   ]
  },
  {
   "cell_type": "code",
   "execution_count": 100,
   "metadata": {
    "tags": []
   },
   "outputs": [],
   "source": [
    "df = pd.read_csv(enron_emails_clean_file)"
   ]
  },
  {
   "cell_type": "code",
   "execution_count": 101,
   "metadata": {
    "tags": []
   },
   "outputs": [],
   "source": [
    "mask = df['clean_content'].str.contains('sell enron stock', na=False)"
   ]
  },
  {
   "cell_type": "markdown",
   "metadata": {},
   "source": [
    "**Instructions 2/2**\n",
    "\n",
    "* Locate the data in `df` that meets the condition we created earlier."
   ]
  },
  {
   "cell_type": "code",
   "execution_count": 102,
   "metadata": {
    "tags": []
   },
   "outputs": [
    {
     "data": {
      "text/html": [
       "<div>\n",
       "<style scoped>\n",
       "    .dataframe tbody tr th:only-of-type {\n",
       "        vertical-align: middle;\n",
       "    }\n",
       "\n",
       "    .dataframe tbody tr th {\n",
       "        vertical-align: top;\n",
       "    }\n",
       "\n",
       "    .dataframe thead th {\n",
       "        text-align: right;\n",
       "    }\n",
       "</style>\n",
       "<table border=\"1\" class=\"dataframe\">\n",
       "  <thead>\n",
       "    <tr style=\"text-align: right;\">\n",
       "      <th></th>\n",
       "      <th>Message-ID</th>\n",
       "      <th>From</th>\n",
       "      <th>To</th>\n",
       "      <th>Date</th>\n",
       "      <th>content</th>\n",
       "      <th>clean_content</th>\n",
       "    </tr>\n",
       "  </thead>\n",
       "  <tbody>\n",
       "    <tr>\n",
       "      <th>154</th>\n",
       "      <td>&lt;6336501.1075841154311.JavaMail.evans@thyme&gt;</td>\n",
       "      <td>('sarah.palmer@enron.com')</td>\n",
       "      <td>('sarah.palmer@enron.com')</td>\n",
       "      <td>2002-02-01 14:53:35</td>\n",
       "      <td>\\nJoint Venture: A 1997 Enron Meeting Belies O...</td>\n",
       "      <td>joint venture enron meeting belies officers cl...</td>\n",
       "    </tr>\n",
       "  </tbody>\n",
       "</table>\n",
       "</div>"
      ],
      "text/plain": [
       "                                       Message-ID                        From  \\\n",
       "154  <6336501.1075841154311.JavaMail.evans@thyme>  ('sarah.palmer@enron.com')   \n",
       "\n",
       "                             To                 Date  \\\n",
       "154  ('sarah.palmer@enron.com')  2002-02-01 14:53:35   \n",
       "\n",
       "                                               content  \\\n",
       "154  \\nJoint Venture: A 1997 Enron Meeting Belies O...   \n",
       "\n",
       "                                         clean_content  \n",
       "154  joint venture enron meeting belies officers cl...  "
      ]
     },
     "execution_count": 102,
     "metadata": {},
     "output_type": "execute_result"
    }
   ],
   "source": [
    "# Select the data from df using the mask\n",
    "df[mask]"
   ]
  },
  {
   "cell_type": "markdown",
   "metadata": {},
   "source": [
    "**You see that searching for particular string values in a dataframe can be relatively easy, and allows you to include textual data into your model or analysis. You can use this word search as an additional flag, or as a feature in your fraud detection model. Let's look at how to filter the data using multiple search terms.**"
   ]
  },
  {
   "cell_type": "markdown",
   "metadata": {},
   "source": [
    "### Using list of terms\n",
    "\n",
    "Oftentimes you don't want to search on just one term. You probably can create a full **\"fraud dictionary\"** of terms that could potentially **flag fraudulent clients** and/or transactions. Fraud analysts often will have an idea what should be in such a dictionary. In this exercise you're going to **flag a multitude of terms**, and in the next exercise you'll create a new flag variable out of it. The 'flag' can be used either directly in a machine learning model as a feature, or as an additional filter on top of your machine learning model results. Let's first use a list of terms to filter our data on. The dataframe containing the cleaned emails is again available as `df`.\n",
    "\n",
    "**Instructions**\n",
    "\n",
    "* Create a list to search for including 'enron stock', 'sell stock', 'stock bonus', and 'sell enron stock'.\n",
    "* Join the string terms in the search conditions.\n",
    "* Filter data using the emails that match with the list defined under `searchfor`."
   ]
  },
  {
   "cell_type": "code",
   "execution_count": 103,
   "metadata": {
    "tags": []
   },
   "outputs": [
    {
     "data": {
      "text/html": [
       "<div>\n",
       "<style scoped>\n",
       "    .dataframe tbody tr th:only-of-type {\n",
       "        vertical-align: middle;\n",
       "    }\n",
       "\n",
       "    .dataframe tbody tr th {\n",
       "        vertical-align: top;\n",
       "    }\n",
       "\n",
       "    .dataframe thead th {\n",
       "        text-align: right;\n",
       "    }\n",
       "</style>\n",
       "<table border=\"1\" class=\"dataframe\">\n",
       "  <thead>\n",
       "    <tr style=\"text-align: right;\">\n",
       "      <th></th>\n",
       "      <th>Message-ID</th>\n",
       "      <th>From</th>\n",
       "      <th>To</th>\n",
       "      <th>Date</th>\n",
       "      <th>content</th>\n",
       "      <th>clean_content</th>\n",
       "    </tr>\n",
       "  </thead>\n",
       "  <tbody>\n",
       "    <tr>\n",
       "      <th>0</th>\n",
       "      <td>&lt;8345058.1075840404046.JavaMail.evans@thyme&gt;</td>\n",
       "      <td>('advdfeedback@investools.com')</td>\n",
       "      <td>('advdfeedback@investools.com')</td>\n",
       "      <td>2002-01-29 23:20:55</td>\n",
       "      <td>INVESTools Advisory\\nA Free Digest of Trusted ...</td>\n",
       "      <td>investools advisory free digest trusted invest...</td>\n",
       "    </tr>\n",
       "    <tr>\n",
       "      <th>1</th>\n",
       "      <td>&lt;1512159.1075863666797.JavaMail.evans@thyme&gt;</td>\n",
       "      <td>('richard.sanders@enron.com')</td>\n",
       "      <td>('richard.sanders@enron.com')</td>\n",
       "      <td>2000-09-20 19:07:00</td>\n",
       "      <td>----- Forwarded by Richard B Sanders/HOU/ECT o...</td>\n",
       "      <td>forwarded richard b sanders hou ect pm justin ...</td>\n",
       "    </tr>\n",
       "    <tr>\n",
       "      <th>2</th>\n",
       "      <td>&lt;26118676.1075862176383.JavaMail.evans@thyme&gt;</td>\n",
       "      <td>('m..love@enron.com')</td>\n",
       "      <td>('m..love@enron.com')</td>\n",
       "      <td>2001-10-30 16:15:17</td>\n",
       "      <td>hey you are not wearing your target purple shi...</td>\n",
       "      <td>hey wearing target purple shirt today mine wan...</td>\n",
       "    </tr>\n",
       "    <tr>\n",
       "      <th>3</th>\n",
       "      <td>&lt;10369289.1075860831062.JavaMail.evans@thyme&gt;</td>\n",
       "      <td>('leslie.milosevich@kp.org')</td>\n",
       "      <td>('leslie.milosevich@kp.org')</td>\n",
       "      <td>2002-01-30 17:54:18</td>\n",
       "      <td>Leslie Milosevich\\n1042 Santa Clara Avenue\\nAl...</td>\n",
       "      <td>leslie milosevich santa clara avenue alameda c...</td>\n",
       "    </tr>\n",
       "    <tr>\n",
       "      <th>4</th>\n",
       "      <td>&lt;26728895.1075860815046.JavaMail.evans@thyme&gt;</td>\n",
       "      <td>('rtwait@graphicaljazz.com')</td>\n",
       "      <td>('rtwait@graphicaljazz.com')</td>\n",
       "      <td>2002-01-30 19:36:01</td>\n",
       "      <td>Rini Twait\\n1010 E 5th Ave\\nLongmont, CO 80501...</td>\n",
       "      <td>rini twait e th ave longmont co rtwait graphic...</td>\n",
       "    </tr>\n",
       "  </tbody>\n",
       "</table>\n",
       "</div>"
      ],
      "text/plain": [
       "                                      Message-ID  \\\n",
       "0   <8345058.1075840404046.JavaMail.evans@thyme>   \n",
       "1   <1512159.1075863666797.JavaMail.evans@thyme>   \n",
       "2  <26118676.1075862176383.JavaMail.evans@thyme>   \n",
       "3  <10369289.1075860831062.JavaMail.evans@thyme>   \n",
       "4  <26728895.1075860815046.JavaMail.evans@thyme>   \n",
       "\n",
       "                              From                               To  \\\n",
       "0  ('advdfeedback@investools.com')  ('advdfeedback@investools.com')   \n",
       "1    ('richard.sanders@enron.com')    ('richard.sanders@enron.com')   \n",
       "2            ('m..love@enron.com')            ('m..love@enron.com')   \n",
       "3     ('leslie.milosevich@kp.org')     ('leslie.milosevich@kp.org')   \n",
       "4     ('rtwait@graphicaljazz.com')     ('rtwait@graphicaljazz.com')   \n",
       "\n",
       "                  Date                                            content  \\\n",
       "0  2002-01-29 23:20:55  INVESTools Advisory\\nA Free Digest of Trusted ...   \n",
       "1  2000-09-20 19:07:00  ----- Forwarded by Richard B Sanders/HOU/ECT o...   \n",
       "2  2001-10-30 16:15:17  hey you are not wearing your target purple shi...   \n",
       "3  2002-01-30 17:54:18  Leslie Milosevich\\n1042 Santa Clara Avenue\\nAl...   \n",
       "4  2002-01-30 19:36:01  Rini Twait\\n1010 E 5th Ave\\nLongmont, CO 80501...   \n",
       "\n",
       "                                       clean_content  \n",
       "0  investools advisory free digest trusted invest...  \n",
       "1  forwarded richard b sanders hou ect pm justin ...  \n",
       "2  hey wearing target purple shirt today mine wan...  \n",
       "3  leslie milosevich santa clara avenue alameda c...  \n",
       "4  rini twait e th ave longmont co rtwait graphic...  "
      ]
     },
     "execution_count": 103,
     "metadata": {},
     "output_type": "execute_result"
    }
   ],
   "source": [
    "# Create a list of terms to search for\n",
    "searchfor = ['enron stock', 'sell stock', 'stock bonus', 'sell enron stock']\n",
    "\n",
    "# Filter cleaned emails on searchfor list and select from df \n",
    "filtered_emails = df[df.clean_content.str.contains('|'.join(searchfor), na=False)]\n",
    "filtered_emails.head()"
   ]
  },
  {
   "cell_type": "markdown",
   "metadata": {},
   "source": [
    "**By joining the search terms with the 'or' sign, i.e. |, you can search on a multitude of terms in your dataset very easily. Let's now create a flag from this which you can use as a feature in a machine learning model.**"
   ]
  },
  {
   "cell_type": "markdown",
   "metadata": {},
   "source": [
    "### Creating a flag\n",
    "\n",
    "This time you are going to **create an actual flag** variable that gives a **1 when the emails get a hit** on the search terms of interest, and 0 otherwise. This is the last step you need to make in order to actually use the text data content as a feature in a machine learning model, or as an actual flag on top of model results. You can continue working with the dataframe `df` containing the emails, and the `searchfor` list is the one defined in the last exercise.\n",
    "\n",
    "**Instructions**\n",
    "\n",
    "* Use a numpy where condition to flag '1' where the cleaned email contains words on the `searchfor` list and 0 otherwise.\n",
    "* Join the words on the `searchfor` list with an \"or\" indicator.\n",
    "* Count the values of the newly created flag variable."
   ]
  },
  {
   "cell_type": "code",
   "execution_count": 104,
   "metadata": {
    "tags": []
   },
   "outputs": [
    {
     "name": "stdout",
     "output_type": "stream",
     "text": [
      "0    1776\n",
      "1     314\n",
      "Name: flag, dtype: int64\n"
     ]
    }
   ],
   "source": [
    "# Create flag variable where the emails match the searchfor terms\n",
    "df['flag'] = np.where((df['clean_content'].str.contains('|'.join(searchfor)) == True), 1, 0)\n",
    "\n",
    "# Count the values of the flag variable\n",
    "count = df['flag'].value_counts()\n",
    "print(count)"
   ]
  },
  {
   "cell_type": "markdown",
   "metadata": {},
   "source": [
    "**You have now managed to search for a list of strings in several lines of text data. These skills come in handy when you want to flag certain words based on what you discovered in your topic model, or when you know beforehand what you want to search for. In the next exercises you're going to learn how to clean text data and to create your own topic model to further look for indications of fraud in your text data.**"
   ]
  },
  {
   "cell_type": "markdown",
   "metadata": {},
   "source": [
    "## Text mining to detect fraud"
   ]
  },
  {
   "cell_type": "markdown",
   "metadata": {},
   "source": [
    "#### Cleaning your text data\n",
    "\n",
    "**Must dos when working with textual data:**\n",
    "\n",
    "1. Tokenization\n",
    "    * Split the text into sentences and the sentences in words\n",
    "    * transform everything to lowercase\n",
    "    * remove punctuation\n",
    "1. Remove all stopwords\n",
    "1. Lemmatize \n",
    "    * change from third person into first person\n",
    "    * change past and future tense verbs to present tense\n",
    "    * this makes it possible to combine all words that point to the same thing\n",
    "1. Stem the words\n",
    "    * reduce words to their root form\n",
    "    * e.g. walking and walked to walk\n",
    "\n",
    "* **Unprocessed Text**\n",
    "    * ![](https://raw.githubusercontent.com/trenton3983/DataCamp/master/Images/fraud_detection/text_df.JPG)\n",
    "* **Processed Text**\n",
    "    * ![](https://raw.githubusercontent.com/trenton3983/DataCamp/master/Images/fraud_detection/text_processed.JPG)"
   ]
  },
  {
   "cell_type": "markdown",
   "metadata": {},
   "source": [
    "#### Data Preprocessing I\n",
    "\n",
    "* Tokenizers divide strings into list of substrings\n",
    "* nltk word tokenizer can be used to find the words and punctuation in a string\n",
    "    * it splits the words on whitespace, and separated the punctuation out\n",
    "\n",
    "```python\n",
    "from nltk import word_tokenize\n",
    "from nltk.corpus import stopwords \n",
    "import string\n",
    "\n",
    "# 1. Tokenization\n",
    "text = df.apply(lambda row: word_tokenize(row[\"email_body\"]), axis=1)\n",
    "text = text.rstrip()  # remove whitespace\n",
    "# replace with lowercase\n",
    "# text = re.sub(r'[^a-zA-Z]', ' ', text)\n",
    "text = text.lower()\n",
    "\n",
    " # 2. Remove all stopwords and punctuation\n",
    "exclude = set(string.punctuation)\n",
    "stop = set(stopwords.words('english'))\n",
    "stop_free = \" \".join([word for word in text if((word not in stop) and (not word.isdigit()))])\n",
    "punc_free = ''.join(word for word in stop_free if word not in exclude)\n",
    "```"
   ]
  },
  {
   "cell_type": "markdown",
   "metadata": {},
   "source": [
    "#### Data Preprocessing II\n",
    "\n",
    "```python\n",
    "from nltk.stem.wordnet import WordNetLemmatizer\n",
    "from nltk.stem.porter import PorterStemmer\n",
    "\n",
    "# Lemmatize words\n",
    "lemma = WordNetLemmatizer()\n",
    "normalized = \" \".join(lemma.lemmatize(word) for word in punc_free.split())\n",
    "\n",
    "# Stem words\n",
    "porter= PorterStemmer()\n",
    "cleaned_text = \" \".join(porter.stem(token) for token in normalized.split())\n",
    "print (cleaned_text)\n",
    "\n",
    "['philip','going','street','curious','hear','perspective','may','wish',\n",
    "'offer','trading','floor','enron','stock','lower','joined','company',\n",
    "'business','school','imagine','quite','happy','people','day','relate',\n",
    "'somewhat','stock','around','fact','broke','day','ago','knowing',\n",
    "'imagine','letting','event','get','much','taken','similar',\n",
    "'problem','hope','everything','else','going','well','family','knee',\n",
    "'surgery','yet','give','call','chance','later']\n",
    "```"
   ]
  },
  {
   "cell_type": "markdown",
   "metadata": {},
   "source": [
    "### Removing stopwords\n",
    "\n",
    "In the following exercises you're going to **clean the Enron emails**, in order to be able to use the data in a topic model. Text cleaning can be challenging, so you'll learn some steps to do this well. The dataframe containing the emails `df` is available. In a first step you need to **define the list of stopwords and punctuations** that are to be removed in the next exercise from the text data. Let's give it a try.\n",
    "\n",
    "**Instructions**\n",
    "\n",
    "* Import the stopwords from `ntlk`.\n",
    "* Define 'english' words to use as stopwords under the variable `stop`.\n",
    "* Get the punctuation set from the `string` package and assign it to `exclude`."
   ]
  },
  {
   "cell_type": "code",
   "execution_count": 105,
   "metadata": {
    "tags": []
   },
   "outputs": [],
   "source": [
    "# Define stopwords to exclude\n",
    "stop = set(stopwords.words('english'))\n",
    "stop.update((\"to\", \"cc\", \"subject\", \"http\", \"from\", \"sent\", \"ect\", \"u\", \"fwd\", \"www\", \"com\", 'html'))\n",
    "\n",
    "# Define punctuations to exclude and lemmatizer\n",
    "exclude = set(string.punctuation)"
   ]
  },
  {
   "cell_type": "markdown",
   "metadata": {},
   "source": [
    "### Cleaning text data\n",
    "\n",
    "Now that you've defined the **stopwords and punctuations**, let's use these to clean our enron emails in the dataframe `df` further. The lists containing stopwords and punctuations are available under `stop` and `exclude` There are a few more steps to take before you have cleaned data, such as **\"lemmatization\"** of words, and **stemming the verbs**. The verbs in the email data are already stemmed, and the lemmatization is already done for you in this exercise.\n",
    "\n",
    "**Instructions 1/2**\n",
    "\n",
    "* Use the previously defined variables `stop` and `exclude` to finish of the function: Strip the words from whitespaces using `rstrip`, and exclude stopwords and punctuations. Finally lemmatize the words and assign that to `normalized`."
   ]
  },
  {
   "cell_type": "code",
   "execution_count": 106,
   "metadata": {
    "tags": []
   },
   "outputs": [],
   "source": [
    "# Import the lemmatizer from nltk\n",
    "lemma = WordNetLemmatizer()\n",
    "\n",
    "def clean(text, stop):\n",
    "    text = str(text).rstrip()\n",
    "    stop_free = \" \".join([i for i in text.lower().split() if((i not in stop) and (not i.isdigit()))])\n",
    "    punc_free = ''.join(i for i in stop_free if i not in exclude)\n",
    "    normalized = \" \".join(lemma.lemmatize(i) for i in punc_free.split())      \n",
    "    return normalized"
   ]
  },
  {
   "cell_type": "markdown",
   "metadata": {},
   "source": [
    "**Instructions 2/2**\n",
    "\n",
    "* Apply the function `clean(text,stop)` on each line of text data in our dataframe, and take the column `df['clean_content']` for this."
   ]
  },
  {
   "cell_type": "code",
   "execution_count": 107,
   "metadata": {
    "tags": []
   },
   "outputs": [],
   "source": [
    "# Clean the emails in df and print results\n",
    "text_clean=[]\n",
    "for text in df['clean_content']:\n",
    "    text_clean.append(clean(text, stop).split())    "
   ]
  },
  {
   "cell_type": "code",
   "execution_count": 108,
   "metadata": {
    "tags": []
   },
   "outputs": [
    {
     "data": {
      "text/plain": [
       "['investools',\n",
       " 'advisory',\n",
       " 'free',\n",
       " 'digest',\n",
       " 'trusted',\n",
       " 'investment',\n",
       " 'advice',\n",
       " 'unsubscribe',\n",
       " 'free',\n",
       " 'newsletter']"
      ]
     },
     "execution_count": 108,
     "metadata": {},
     "output_type": "execute_result"
    }
   ],
   "source": [
    "text_clean[0][:10]"
   ]
  },
  {
   "cell_type": "markdown",
   "metadata": {},
   "source": [
    "**Now that you have cleaned your data entirely with the necessary steps, including splitting the text into words, removing stopwords and punctuations, and lemmatizing your words. You are now ready to run a topic model on this data. In the following exercises you're going to explore how to do that.**"
   ]
  },
  {
   "cell_type": "markdown",
   "metadata": {},
   "source": [
    "## Topic modeling on fraud\n",
    "\n",
    "1. Discovering topics in text data\n",
    "1. \"What is the text about\"\n",
    "1. Conceptually similar to clustering data\n",
    "1. Compare topics of fraud cases to non-fraud cases and use as a feature or flag\n",
    "1. Or.. is there a particular topic in the data that seems to point to fraud?"
   ]
  },
  {
   "cell_type": "markdown",
   "metadata": {},
   "source": [
    "#### Latent Dirichlet Allocation (LDA)\n",
    "\n",
    "* With LDA you obtain:\n",
    "    * \"topics per text item\" model (i.e. probabilities)\n",
    "    * \"words per topic\" model\n",
    "* Creating your own topic model:\n",
    "    * Clean your data\n",
    "    * Create a bag of words with dictionary and corpus\n",
    "        * Dictionary contain words and word frequency from the entire text\n",
    "        * Corpus: word count for each line of text\n",
    "    * Feed dictionary and corpus into the LDA model\n",
    "* LDA:\n",
    "    * ![lda](https://raw.githubusercontent.com/trenton3983/DataCamp/master/Images/fraud_detection/lda.JPG)\n",
    "    1. [LDA2vec: Word Embeddings in Topic Models](https://www.datacamp.com/community/tutorials/lda2vec-topic-model)\n",
    "    1. see how each word in the dataset is associated with each topic\n",
    "    1. see how each text item in the data associates with topics (in the form of probabilities)\n",
    "        1. image on the right "
   ]
  },
  {
   "cell_type": "markdown",
   "metadata": {},
   "source": [
    "#### Bag of words: dictionary and corpus\n",
    "\n",
    "* use the `Dictionary` function in `corpora` to create a `dict` from the text data\n",
    "    * contains word counts\n",
    "* filter out words that appear in less than 5 emails and keep only the 50000 most frequent words\n",
    "    * this is a way of cleaning the outlier noise\n",
    "* create the corpus, which for each email, counts the number of words and the count for each word (`doc2bow`)\n",
    "* `doc2bow`\n",
    "    * Document to Bag of Words\n",
    "    * converts text data into bag-of-words format\n",
    "    * each row is now a list of words with the associated word count\n",
    "    \n",
    "```python\n",
    "from gensim import corpora\n",
    "\n",
    " # Create dictionary number of times a word appears\n",
    "dictionary = corpora.Dictionary(cleaned_emails)\n",
    "\n",
    "# Filter out (non)frequent words \n",
    "dictionary.filter_extremes(no_below=5, keep_n=50000)\n",
    "\n",
    "# Create corpus\n",
    "corpus = [dictionary.doc2bow(text) for text in cleaned_emails]\n",
    "```"
   ]
  },
  {
   "cell_type": "markdown",
   "metadata": {},
   "source": [
    "#### Latent Dirichlet Allocation (LDA) with gensim\n",
    "\n",
    "* Run the LDA model after cleaning the text date, and creating the dictionary and corpus\n",
    "* Pass the corpus and dictionary into the model\n",
    "* As with K-means, beforehand, pick the number of topics to obtain, even if there is uncertainty about what topics exist\n",
    "* The calculated LDA model, will contain the associated words for each topic, and topic scores per email\n",
    "* Use `print_topics` to obtain the top words from the topics\n",
    "\n",
    "```python\n",
    "import gensim\n",
    "\n",
    "# Define the LDA model\n",
    "ldamodel = gensim.models.ldamodel.LdaModel(corpus, num_topics = 3, \n",
    "id2word=dictionary, passes=15)\n",
    "\n",
    "# Print the three topics from the model with top words\n",
    "topics = ldamodel.print_topics(num_words=4)\n",
    "for topic in topics:\n",
    "    print(topic)\n",
    "\n",
    ">>> (0, '0.029*\"email\" + 0.016*\"send\" + 0.016*\"results\" + 0.016*\"invoice\"')\n",
    ">>> (1, '0.026*\"price\" + 0.026*\"work\" + 0.026*\"management\" + 0.026*\"sell\"')\n",
    ">>> (2, '0.029*\"distribute\" + 0.029*\"contact\" + 0.016*\"supply\" + 0.016*\"fast\"')\n",
    "```"
   ]
  },
  {
   "cell_type": "markdown",
   "metadata": {},
   "source": [
    "### Create dictionary and corpus\n",
    "\n",
    "In order to run an LDA topic model, you first need to **define your dictionary and corpus** first, as those need to go into the model. You're going to continue working on the cleaned text data that you've done in the previous exercises. That means that `text_clean` is available for you already to continue working with, and you'll use that to create your dictionary and corpus.\n",
    "\n",
    "This exercise will take a little longer to execute than usual.\n",
    "\n",
    "**Instructions**\n",
    "\n",
    "* Import the gensim package and corpora from gensim separately.\n",
    "* Define your dictionary by running the correct function on your clean data `text_clean`.\n",
    "* Define the corpus by running `doc2bow` on each piece of text in `text_clean`.\n",
    "* Print your results so you can see `dictionary` and `corpus` look like."
   ]
  },
  {
   "cell_type": "code",
   "execution_count": 109,
   "metadata": {
    "tags": []
   },
   "outputs": [],
   "source": [
    "# Define the dictionary\n",
    "dictionary = corpora.Dictionary(text_clean)\n",
    "\n",
    "# Define the corpus \n",
    "corpus = [dictionary.doc2bow(text) for text in text_clean]"
   ]
  },
  {
   "cell_type": "code",
   "execution_count": 110,
   "metadata": {
    "tags": []
   },
   "outputs": [
    {
     "name": "stdout",
     "output_type": "stream",
     "text": [
      "Dictionary(33980 unique tokens: ['account', 'accurate', 'acquiring', 'acre', 'address']...)\n"
     ]
    }
   ],
   "source": [
    "print(dictionary)"
   ]
  },
  {
   "cell_type": "code",
   "execution_count": 111,
   "metadata": {
    "tags": []
   },
   "outputs": [
    {
     "data": {
      "text/plain": [
       "[(0, 2),\n",
       " (1, 1),\n",
       " (2, 1),\n",
       " (3, 1),\n",
       " (4, 1),\n",
       " (5, 6),\n",
       " (6, 1),\n",
       " (7, 2),\n",
       " (8, 4),\n",
       " (9, 1)]"
      ]
     },
     "execution_count": 111,
     "metadata": {},
     "output_type": "execute_result"
    }
   ],
   "source": [
    "corpus[0][:10]"
   ]
  },
  {
   "cell_type": "markdown",
   "metadata": {},
   "source": [
    "**These are the two ingredients you need to run your topic model on the enron emails. You are now ready for the final step and create your first fraud detection topic model.**"
   ]
  },
  {
   "cell_type": "markdown",
   "metadata": {},
   "source": [
    "### LDA model\n",
    "\n",
    "Now it's time to **build the LDA model**. Using the `dictionary` and `corpus`, you are ready to discover which topics are present in the Enron emails. With a quick print of words assigned to the topics, you can do a first exploration about whether there are any obvious topics that jump out. Be mindful that the topic model is **heavy to calculate** so it will take a while to run. Let's give it a try!\n",
    "\n",
    "**Instructions**\n",
    "\n",
    "* Build the LDA model from gensim models, by inserting the `corpus` and `dictionary`.\n",
    "* Save the 5 topics by running `print_topics` on the model results, and select the top 5 words."
   ]
  },
  {
   "cell_type": "code",
   "execution_count": 112,
   "metadata": {
    "tags": []
   },
   "outputs": [
    {
     "name": "stdout",
     "output_type": "stream",
     "text": [
      "(0, '0.011*\"bakernet\" + 0.007*\"mailto\" + 0.006*\"email\" + 0.006*\"request\" + 0.005*\"enron\"')\n",
      "(1, '0.011*\"conference\" + 0.010*\"schedule\" + 0.010*\"amazon\" + 0.009*\"market\" + 0.007*\"gift\"')\n",
      "(2, '0.024*\"enron\" + 0.012*\"message\" + 0.011*\"original\" + 0.010*\"pm\" + 0.008*\"thanks\"')\n",
      "(3, '0.038*\"enron\" + 0.009*\"company\" + 0.006*\"development\" + 0.005*\"energy\" + 0.005*\"hou\"')\n",
      "(4, '0.032*\"image\" + 0.030*\"td\" + 0.022*\"net\" + 0.021*\"money\" + 0.020*\"tr\"')\n"
     ]
    }
   ],
   "source": [
    "# Define the LDA model\n",
    "ldamodel = gensim.models.ldamodel.LdaModel(corpus, num_topics=5, id2word=dictionary, passes=5)\n",
    "\n",
    "# Save the topics and top 5 words\n",
    "topics = ldamodel.print_topics(num_words=5)\n",
    "\n",
    "# Print the results\n",
    "for topic in topics:\n",
    "    print(topic)"
   ]
  },
  {
   "cell_type": "markdown",
   "metadata": {},
   "source": [
    "**You have now successfully created your first topic model on the Enron email data. However, the print of words doesn't really give you enough information to find a topic that might lead you to signs of fraud. You'll therefore need to closely inspect the model results in order to be able to detect anything that can be related to fraud in your data. You'll learn more about this in the next video.**"
   ]
  },
  {
   "cell_type": "markdown",
   "metadata": {},
   "source": [
    "## Flagging fraud based on topic"
   ]
  },
  {
   "cell_type": "markdown",
   "metadata": {},
   "source": [
    "#### Using your LDA model results for fraud detection\n",
    "\n",
    "1. Are there any suspicious topics? (no labels)\n",
    "    1. if you don't have labels, first check for the frequency of suspicious words within topics and check whether topics seem to describe the fraudulent behavior\n",
    "    1. for the Enron email data, a suspicious topic would be one where employees are discussing stock bonuses, selling stock, stock price, and perhaps mentions of accounting or weak financials\n",
    "    1. Defining suspicious topics does require some pre-knowledge about the fraudulent behavior\n",
    "    1. If the fraudulent topic is noticeable, flag all instances that have a high probability for this topic\n",
    "1. Are the topics in fraud and non-fraud cases similar? (with labels)\n",
    "    1. If there a previous cases of fraud, ran a topic model on the fraud text only, and on the non-fraud text\n",
    "    1. Check whether the results are similar\n",
    "        1. Whether the frequency of the topics are the same in fraud vs non-fraud\n",
    "1. Are fraud cases associated more with certain topics? (with labels)\n",
    "    1. Check whether fraud cases have a higher probability score for certain topics\n",
    "        1. If so, run a topic model on new data and create a flag directly on the instances that score high on those topics"
   ]
  },
  {
   "cell_type": "markdown",
   "metadata": {},
   "source": [
    "#### To understand topics, you need to visualize\n",
    "\n",
    "```python\n",
    "import pyLDAvis.gensim\n",
    "lda_display = pyLDAvis.gensim.prepare(ldamodel, corpus, dictionary, sort_topics=False)\n",
    "```\n",
    "\n",
    "![topics](https://raw.githubusercontent.com/trenton3983/DataCamp/master/Images/fraud_detection/topics2.jpg)\n",
    "\n",
    "* Each bubble on the left-hand side, represents a topic\n",
    "* The larger the bubble, the more prevalent that topic is\n",
    "* Click on each topic to get the details per topic in the right panel\n",
    "* The words are the most important keywords that form the selected topic.\n",
    "* A good topic model will have fairly big, non-overlapping bubbles, scattered throughout the chart\n",
    "* A model with too many topics, will typically have many overlaps, or small sized bubbles, clustered in one region\n",
    "* In the case of the model above, there is a slight overlap between topic 2 and 3, which may point to 1 topic too many"
   ]
  },
  {
   "cell_type": "code",
   "execution_count": 113,
   "metadata": {
    "tags": []
   },
   "outputs": [],
   "source": [
    "# if ipython is > 7.16.1 results in DeprecationWarning: `should_run_async` will not call `transform_cell` automatically in the future\n",
    "import pyLDAvis.gensim  "
   ]
  },
  {
   "cell_type": "code",
   "execution_count": 114,
   "metadata": {
    "tags": []
   },
   "outputs": [
    {
     "name": "stderr",
     "output_type": "stream",
     "text": [
      "/home/totrin/.local/lib/python3.8/site-packages/ipykernel/ipkernel.py:283: DeprecationWarning: `should_run_async` will not call `transform_cell` automatically in the future. Please pass the result to `transformed_cell` argument and any exception that happen during thetransform in `preprocessing_exc_tuple` in IPython 7.17 and above.\n",
      "  and should_run_async(code)\n"
     ]
    }
   ],
   "source": [
    "lda_display = pyLDAvis.gensim.prepare(ldamodel, corpus, dictionary, sort_topics=False)"
   ]
  },
  {
   "cell_type": "code",
   "execution_count": 115,
   "metadata": {
    "tags": []
   },
   "outputs": [
    {
     "name": "stderr",
     "output_type": "stream",
     "text": [
      "/home/totrin/.local/lib/python3.8/site-packages/ipykernel/ipkernel.py:283: DeprecationWarning: `should_run_async` will not call `transform_cell` automatically in the future. Please pass the result to `transformed_cell` argument and any exception that happen during thetransform in `preprocessing_exc_tuple` in IPython 7.17 and above.\n",
      "  and should_run_async(code)\n"
     ]
    },
    {
     "data": {
      "text/html": [
       "\n",
       "<link rel=\"stylesheet\" type=\"text/css\" href=\"https://cdn.jsdelivr.net/gh/bmabey/pyLDAvis@3.4.0/pyLDAvis/js/ldavis.v1.0.0.css\">\n",
       "\n",
       "\n",
       "<div id=\"ldavis_el507031400435951841609997169453\" style=\"background-color:white;\"></div>\n",
       "<script type=\"text/javascript\">\n",
       "\n",
       "var ldavis_el507031400435951841609997169453_data = {\"mdsDat\": {\"x\": [0.0726629242741948, 0.10041225436331315, 0.05671336433959473, 0.07873287098994247, -0.30852141396704524], \"y\": [-0.029205178960455457, -0.18521469530045723, 0.18806108887771575, 0.04696302196068896, -0.020604236577492066], \"topics\": [1, 2, 3, 4, 5], \"cluster\": [1, 1, 1, 1, 1], \"Freq\": [16.422749436902308, 2.97320198278967, 14.736110321674358, 61.69925831825987, 4.16867994037377]}, \"tinfo\": {\"Term\": [\"image\", \"money\", \"enron\", \"td\", \"net\", \"market\", \"message\", \"bakernet\", \"e\", \"original\", \"pm\", \"tr\", \"please\", \"service\", \"power\", \"width\", \"mail\", \"thanks\", \"time\", \"conference\", \"customer\", \"class\", \"price\", \"hou\", \"new\", \"know\", \"date\", \"california\", \"asset\", \"click\", \"bakernet\", \"adult\", \"pep\", \"auth\", \"labour\", \"srrs\", \"itcapps\", \"emaillink\", \"bwoertz\", \"aaaaaaaaaaaaaaaaaaaaaaaaaaaaaaaaaaaaaaaaaaaaaaaaaaaaaaaaaaaaaaaaaaaaaaaaaaaa\", \"alias\", \"discrimination\", \"enronoptions\", \"reviewer\", \"concur\", \"printing\", \"townsend\", \"perfmgmt\", \"expensexms\", \"diabetes\", \"reset\", \"maatman\", \"myreq\", \"requester\", \"adhoc\", \"clarissa\", \"homco\", \"kimat\", \"singla\", \"mcgee\", \"investools\", \"alert\", \"dbcaps\", \"fx\", \"feedback\", \"aaaaaaaaaaaaaaaa\", \"fare\", \"aw\", \"strike\", \"mailto\", \"union\", \"request\", \"expense\", \"select\", \"employment\", \"interconnection\", \"email\", \"click\", \"membership\", \"option\", \"worker\", \"date\", \"status\", \"employer\", \"june\", \"link\", \"see\", \"receive\", \"program\", \"u\", \"thank\", \"asp\", \"court\", \"id\", \"following\", \"name\", \"available\", \"employee\", \"process\", \"report\", \"make\", \"offer\", \"may\", \"enron\", \"one\", \"l\", \"new\", \"hourahead\", \"ancillary\", \"detected\", \"raquel\", \"westdesk\", \"parsing\", \"locate\", \"interchange\", \"amazon\", \"epe\", \"anc\", \"assign\", \"aunt\", \"quelnunes\", \"brochure\", \"coronado\", \"tepc\", \"gift\", \"euci\", \"dun\", \"svc\", \"curtailment\", \"wyndham\", \"txt\", \"uncle\", \"jc\", \"informative\", \"certificate\", \"unshipped\", \"toy\", \"reassigned\", \"wheel\", \"merry\", \"ref\", \"trans\", \"awarded\", \"preferred\", \"schedule\", \"seller\", \"shipping\", \"conference\", \"pdf\", \"variance\", \"hour\", \"download\", \"design\", \"order\", \"customer\", \"market\", \"asset\", \"mail\", \"start\", \"final\", \"service\", \"link\", \"visit\", \"management\", \"date\", \"status\", \"e\", \"power\", \"message\", \"time\", \"please\", \"price\", \"new\", \"wj\", \"laurel\", \"beth\", \"tyrell\", \"bergfelt\", \"eei\", \"tagline\", \"neumin\", \"reliantenergy\", \"enform\", \"coral\", \"fran\", \"kowalke\", \"bolt\", \"eix\", \"gregwhalley\", \"epenergy\", \"devon\", \"recipient\", \"sfs\", \"hereto\", \"estoppel\", \"powersrc\", \"pcg\", \"cherry\", \"hanagriff\", \"breese\", \"pnm\", \"baughman\", \"fagan\", \"wolfe\", \"pseg\", \"lindberg\", \"jason\", \"schoolcraft\", \"darrell\", \"kim\", \"original\", \"kimberly\", \"rfp\", \"kern\", \"lynn\", \"bradford\", \"stacey\", \"message\", \"intended\", \"williams\", \"doc\", \"thanks\", \"michelle\", \"let\", \"fw\", \"enronxgate\", \"know\", \"pm\", \"greg\", \"desk\", \"watson\", \"monday\", \"november\", \"attached\", \"thursday\", \"january\", \"mail\", \"john\", \"please\", \"team\", \"enron\", \"mark\", \"e\", \"like\", \"hou\", \"corp\", \"gas\", \"would\", \"going\", \"time\", \"may\", \"div\", \"donate\", \"enrononline\", \"declared\", \"scientech\", \"netted\", \"underhanded\", \"repair\", \"astronomical\", \"pocketbook\", \"wiped\", \"aggressively\", \"financially\", \"ceo\", \"sec\", \"ken\", \"bankrupt\", \"skadden\", \"ee\", \"partnership\", \"fastow\", \"writing\", \"afford\", \"devastated\", \"hurt\", \"buying\", \"andersen\", \"rebecca\", \"margin\", \"kean\", \"development\", \"mr\", \"investment\", \"million\", \"share\", \"classmate\", \"profit\", \"sold\", \"investor\", \"said\", \"crisis\", \"retirement\", \"company\", \"lay\", \"fund\", \"chairman\", \"skilling\", \"enron\", \"california\", \"saving\", \"consumer\", \"energy\", \"stock\", \"plan\", \"bankruptcy\", \"new\", \"made\", \"hou\", \"year\", \"business\", \"employee\", \"state\", \"market\", \"many\", \"york\", \"corp\", \"price\", \"gas\", \"would\", \"power\", \"time\", \"e\", \"please\", \"need\", \"trading\", \"one\", \"may\", \"width\", \"img\", \"src\", \"bodydefault\", \"wscc\", \"scoop\", \"height\", \"href\", \"ctr\", \"syncrasy\", \"td\", \"cellspacing\", \"cellpadding\", \"script\", \"coords\", \"rect\", \"stocklookup\", \"nbsp\", \"hp\", \"rk\", \"mapp\", \"valign\", \"ecar\", \"npcc\", \"std\", \"colspan\", \"align\", \"tr\", \"frcc\", \"linkbarseperator\", \"outage\", \"br\", \"table\", \"sw\", \"sp\", \"bgcolor\", \"image\", \"gif\", \"nc\", \"class\", \"border\", \"net\", \"money\", \"ne\", \"se\", \"clear\", \"font\", \"center\", \"click\", \"e\", \"right\"], \"Freq\": [672.0, 671.0, 12424.0, 567.0, 673.0, 1222.0, 1112.0, 772.0, 1673.0, 818.0, 1113.0, 375.0, 1615.0, 848.0, 946.0, 329.0, 671.0, 733.0, 1363.0, 299.0, 468.0, 310.0, 779.0, 1752.0, 1645.0, 774.0, 579.0, 731.0, 302.0, 423.0, 771.2607630323604, 162.6895328883563, 153.9287151303423, 66.88590965885673, 65.00080324848228, 59.00691350356803, 55.672741149111935, 55.67258512972009, 52.09799110916645, 293.67261942877417, 46.35600521424169, 38.99886440750254, 47.6437386736718, 32.32760593102909, 33.619379027685966, 32.25467529882076, 30.334795539395643, 29.646659361428778, 28.33747534398972, 53.14665225940148, 27.643286035293183, 28.344852531179942, 26.994276990757623, 26.9949811863911, 26.230001241198742, 26.219379272332116, 26.219379272332116, 26.219379272332116, 26.219379272332116, 26.204627006321832, 36.65168337609828, 237.64111379647778, 73.91635429254667, 69.08035192238204, 219.15986625229715, 32.088331218298634, 51.43933627114839, 47.23929002585809, 65.08903853968285, 472.1556327142428, 122.22769994393634, 445.431383123371, 116.16896094963745, 57.311661609371086, 64.49931897241972, 49.46809028951254, 452.5524455065424, 288.05052389463384, 90.84687028352518, 337.8495186640352, 139.01438292259223, 321.4246067044121, 157.26047972607557, 74.68307575149127, 181.9732429824357, 168.72598219332252, 286.56508434855004, 168.2343946067915, 150.07046520518793, 335.80396106773617, 187.14617133766637, 140.5591014040977, 130.08653164701377, 172.98974760159163, 179.36481802123265, 171.04464962668146, 197.10506622242198, 320.410801129664, 172.8179913348685, 205.67100310979677, 203.60599790714087, 160.60637883536216, 213.62107663992307, 385.55066825716676, 175.04987825243737, 161.13242562379003, 164.23297791428507, 58.566299616289236, 55.4325313944923, 28.886334574122476, 28.384089958036224, 27.610512631161342, 27.611679115085007, 22.537165631231854, 22.001256350181063, 129.41532072853127, 34.77138032842173, 21.381844225845963, 22.56679035318328, 14.157618435155783, 14.157618435155783, 36.23293277318687, 14.099469822285606, 14.099469822285606, 89.76989725549372, 48.43328584673922, 14.962922903305241, 14.347651491536872, 14.585104256950965, 21.204198190502442, 28.45883043059027, 14.324385939143127, 7.516172745844482, 7.8541668065666395, 44.88754420715816, 7.335593705766194, 14.619378119671453, 14.748592170011563, 14.704986435901748, 14.149266776697075, 43.75530360998439, 25.80405654060003, 27.078232580852113, 49.99873780852722, 131.13228734823667, 64.04458448698682, 51.2877330804064, 146.10903705574705, 68.74950883803093, 31.987535908364702, 82.89408525005065, 27.46892530108643, 38.63882113386195, 74.70576507688486, 79.25595014429587, 117.53032749982883, 64.18958271377046, 88.13458451044492, 56.410099887735385, 62.198816056024256, 83.03130284584607, 53.95576274713128, 48.3748181302826, 58.25071991059506, 58.63752231533527, 46.79744177131681, 71.51570637171396, 56.9873017835971, 57.88071853870305, 58.80309585279341, 54.525116832302366, 51.41240639358816, 48.38758838098618, 260.128036566617, 68.05461324861271, 95.61892202173897, 64.74843024913031, 64.7459178887653, 65.66836277964656, 53.9887361898662, 53.98789999763628, 67.62005057897296, 54.30031806290423, 48.634964358209125, 45.07667507691973, 44.23806507851931, 43.916028910769704, 43.20726329587177, 43.20726329587177, 43.65464884092866, 140.6129048761029, 192.82411205465553, 85.9621276769824, 39.79566332029115, 39.5226257470095, 44.005845793818395, 43.6257037252777, 54.1840003184151, 64.50283188875072, 54.59294372294732, 33.41515715687866, 34.1623989653785, 32.44519687222686, 102.0744471143033, 65.69241181952597, 55.60540224799017, 142.6479016370506, 85.67039118062272, 96.44862903227968, 207.27204572161847, 717.0906085266727, 120.92760793017798, 82.77209594027819, 55.58486067506611, 128.136402225913, 62.26631280039312, 78.03284594042962, 808.7668804006795, 188.26469257201725, 179.3463732602098, 200.00632981544513, 528.6610990608311, 102.86170128855593, 358.11811219308066, 139.7919532900872, 166.57876977110192, 489.2375337155024, 645.7584017287552, 271.12557623567653, 195.67654915098834, 118.99701790403716, 226.39561824015234, 201.5013507143301, 182.79604079246548, 222.4848115033115, 216.56693152885683, 307.93407713506184, 257.3748831088046, 514.151097985092, 232.25097676480095, 1550.4916363471912, 255.63956856223845, 395.03249546061977, 255.22627014749523, 352.43781675482927, 317.7432703514772, 264.00097628157096, 265.1833596620236, 196.64164362927056, 230.72340112407795, 207.23369438929976, 278.3777372813706, 287.6204550119174, 186.33620260263564, 290.4570028327183, 151.38406619476189, 146.7487504977853, 141.15575217864833, 145.76752661352393, 142.01199825892928, 142.00505944816197, 144.78094812186677, 148.50317652159174, 146.59513029684754, 166.81301888098434, 193.35886525441438, 295.1394644220318, 155.10184298301286, 90.83373010725981, 491.9092145875633, 248.55396818579632, 169.36374472949288, 169.52205417241038, 145.9463673321365, 143.08466236179564, 161.21815120186898, 223.155845470976, 189.0610482437096, 79.32948285367821, 93.90790051277409, 93.98021147566782, 1629.6640516933994, 695.372635890707, 411.832074873706, 1051.1217885795554, 559.4600899267607, 312.3179321016089, 297.6199466930464, 218.6985783909262, 384.4449372998223, 1167.843928582075, 215.08816306516417, 338.33527238826116, 2574.9056079364113, 512.2411341303832, 719.7290023104396, 247.77252818871924, 262.6147869983274, 10453.800652478987, 689.0574943066895, 322.1938242356908, 505.21005935870164, 1412.677236729484, 1181.9418177535001, 662.2480840183372, 382.27917287059677, 1356.849529707781, 675.834909182105, 1392.729961765273, 963.1555378639256, 768.0184360090307, 1126.228807055896, 594.5927146247534, 937.5261056148274, 450.4850846198564, 418.69072495042974, 1000.9454419291964, 628.9903323264887, 791.7265464091312, 909.7916472937684, 708.4498545139194, 916.0026750322087, 990.0918745264054, 842.7990452227001, 594.6747763593988, 567.9241083320632, 622.7765797582495, 602.2470150027968, 326.2665458143155, 162.8480264644303, 173.04620331883154, 86.17778665893933, 94.10449861733079, 102.98489205123654, 205.5134343210514, 146.8565347749967, 57.47427680264946, 57.47427680264946, 555.5830388229567, 71.65210906599346, 71.55790033151676, 166.73099846844877, 35.13346149328917, 35.13346149328917, 35.13345935257079, 121.71936326710707, 65.70726990257246, 64.12869988756182, 32.23049323798813, 45.10983423487914, 31.94816031297612, 31.94816031297612, 31.94816031297612, 36.94150795578581, 166.0501472690567, 361.28133444347884, 28.757393878638368, 28.75291763650533, 82.29649297813093, 183.91844957679635, 198.15369590709784, 65.6155786529109, 100.55151177982046, 40.140978551057536, 579.7029752080601, 157.17212575111625, 62.907004752280834, 235.12159035763824, 123.52112029900262, 407.34226416606896, 379.27131518395015, 100.77662116181081, 108.30713752526478, 120.63886563474858, 69.81404973180614, 100.00712709573062, 104.29700684946124, 92.8305314206416, 81.45403466677934], \"Total\": [672.0, 671.0, 12424.0, 567.0, 673.0, 1222.0, 1112.0, 772.0, 1673.0, 818.0, 1113.0, 375.0, 1615.0, 848.0, 946.0, 329.0, 671.0, 733.0, 1363.0, 299.0, 468.0, 310.0, 779.0, 1752.0, 1645.0, 774.0, 579.0, 731.0, 302.0, 423.0, 772.8347608366834, 163.89221059244136, 155.1631017981611, 67.7245922954053, 65.85812060374059, 59.79000042953707, 56.45261964591324, 56.452516746890126, 52.90360033475614, 298.2249619403695, 47.15252881334743, 39.8324298525086, 48.758380317484104, 33.12032921273344, 34.45275565356266, 33.07478761906674, 31.116673325408645, 30.443379423611923, 29.116079011113516, 54.64689586900313, 28.429430709390505, 29.152376382794362, 27.77193625057296, 27.774170670065974, 27.008925191533248, 27.00115408153288, 27.00115408153288, 27.00115408153288, 27.00115408153288, 27.000757113210295, 37.87303891189763, 250.8792760958755, 77.40579571258515, 72.48028005626426, 235.70321576600713, 33.22691312252543, 54.96546325909207, 50.44280801030511, 71.70943834968617, 622.247622592646, 145.70642193193302, 620.9773356512611, 140.44989041474346, 63.63847762115198, 72.97145112718263, 53.95945922124323, 690.0401816380031, 423.02239098562393, 111.93842523405058, 547.3702914730774, 196.49275378901467, 579.9535513022764, 240.8293081433476, 89.78811302550452, 303.24061437144536, 283.84635815833695, 615.8774319006054, 286.96566648969014, 255.01105391568854, 877.2198471958144, 364.3870759481337, 241.68779926666363, 217.65874628448583, 368.8973741071784, 400.9404911817724, 376.0128852510466, 520.7647897034755, 1448.7506247944104, 414.3543459892629, 659.898183144096, 664.5321654221812, 357.70347064495417, 1031.2365263505271, 12424.603818434618, 914.4577927813089, 543.9761170809503, 1645.407963147575, 59.68360500804119, 56.67863475701734, 29.948116548004062, 29.478121456819192, 28.68160816692929, 28.68619412663461, 23.59290287983866, 23.03891516614263, 135.87037162590673, 37.00677286587003, 22.873750754668826, 24.190608063629742, 15.203541205543754, 15.203541205543754, 38.9568949422258, 15.225462385199082, 15.225462385199082, 97.34188892132352, 52.70803118822826, 16.332729542371833, 15.741645607790328, 16.18046969132685, 23.524310632247285, 31.737426430900296, 16.153166291361515, 8.552115923443983, 8.941163908903873, 51.187199580028846, 8.369326944240978, 16.684048720647173, 16.965286686105287, 16.93080939419148, 16.305505210048782, 55.993816190343004, 31.517746241045348, 34.82519322578975, 72.5310607466858, 235.73616013470428, 99.90487675567648, 77.73214612213323, 299.1184518835005, 119.15482017183626, 44.46623678977988, 184.6608304786575, 41.59895218454502, 71.05113660375866, 297.2905819863284, 468.77841989035494, 1222.5797685359037, 302.00031844749134, 671.3271524039684, 226.33919030929252, 331.3950910872883, 848.80477863549, 283.84635815833695, 221.21808021787552, 510.9160333973659, 579.9535513022764, 240.8293081433476, 1673.3031737887502, 946.8126251081694, 1112.6919174729055, 1363.4498823244262, 1615.3932362463038, 779.4815004507292, 1645.407963147575, 261.42192698897685, 69.08288859720946, 97.0935104688574, 65.78379040897684, 65.7911248116563, 66.79226686963375, 54.97152611301297, 54.971235577761846, 68.92864105218887, 55.43630492147833, 49.69552107486285, 46.063798200652286, 45.22536935287264, 44.93291473984848, 44.231638455041825, 44.231638455041825, 44.69041887478574, 143.97277879235267, 197.5195363610765, 88.1224245608954, 40.81474154799998, 40.53686830350299, 45.157947005145765, 44.77812780015696, 55.69193789060519, 66.37063324925663, 56.19871350909724, 34.404778842273345, 35.18467217228268, 33.4279800964445, 105.19818099252957, 67.89672868717066, 57.500842834464734, 150.710755636593, 89.52770604030371, 101.1891370840909, 223.94151248602913, 818.9350899398695, 129.44471054928513, 87.32154701520088, 57.57307110911184, 141.40590533538753, 65.17246249677594, 83.48351931095394, 1112.6919174729055, 224.3362890737339, 212.57296012966054, 240.53850163501804, 733.4720134214434, 115.19305942329194, 491.48011786571294, 170.09279286247303, 210.0917920833853, 774.179748345834, 1113.5768873873303, 397.5755911796758, 277.11810430384355, 145.9255620573416, 345.7177446674031, 298.45394764176035, 270.3351774602282, 365.4348031804044, 369.2923418343738, 671.3271524039684, 503.34281791072374, 1615.3932362463038, 436.0481257565546, 12424.603818434618, 604.4846536301742, 1673.3031737887502, 677.6345991191424, 1752.9109858653321, 1416.8481277685237, 1072.3214674687415, 1294.4167329705106, 386.49554110261823, 1363.4498823244262, 1031.2365263505271, 279.08562531543384, 288.8840296370998, 187.21294875901546, 291.8351078432986, 152.13205940455973, 147.52747674937157, 141.90885473340896, 146.54592452344966, 142.776773846254, 142.77545036899397, 145.57671846519398, 149.32056770957627, 147.4213052859352, 167.77252961123057, 194.5667713597876, 297.09927216262065, 156.1475501048831, 91.50659172363473, 495.56799753700955, 250.40863206732686, 170.68705444505383, 170.95974405097581, 147.2277555921875, 144.36798185227545, 162.73639300044033, 225.27457256734832, 190.86549355633377, 80.11008681153136, 94.85452356468006, 94.93297248626831, 1653.838776426095, 704.8688409255386, 416.0804723916573, 1074.247820722183, 569.2492329566953, 316.2396922623874, 301.3604449636526, 221.04556204123713, 390.8991292343055, 1218.296865472894, 217.57414522741877, 346.0607450641676, 2775.1227931191415, 529.1783470369489, 754.3749989593158, 252.02722841371966, 267.62203850058324, 12424.603818434618, 731.6181225824209, 333.06056041681666, 540.874149387377, 1633.3926771928054, 1349.8331511659962, 737.6445986867832, 408.1117543050196, 1645.407963147575, 777.4509460497169, 1752.9109858653321, 1164.9626647691625, 907.5301817411673, 1448.7506247944104, 694.2723648119397, 1222.5797685359037, 503.5944040003988, 460.1283138867946, 1416.8481277685237, 779.4815004507292, 1072.3214674687415, 1294.4167329705106, 946.8126251081694, 1363.4498823244262, 1673.3031737887502, 1615.3932362463038, 774.2496319655578, 699.2477480050876, 914.4577927813089, 1031.2365263505271, 329.17455623420403, 164.8698007555896, 175.30751109442028, 87.38148537716856, 95.47860955830033, 104.83764885727429, 209.24434051965125, 149.69576090986095, 58.62895702227118, 58.62895702227118, 567.7026443415037, 73.4216546120635, 73.36132091268401, 171.79183333651102, 36.26721175882859, 36.26721175882859, 36.267271181983254, 125.71265619280031, 67.94388130211631, 66.32673949866859, 33.341908519708184, 46.668483913835736, 33.07221121183252, 33.07221121183252, 33.07221121183252, 38.26909695768681, 172.25864853067122, 375.15724114265544, 29.87761615410552, 29.877993634093457, 85.57349565281346, 193.76795925557946, 214.3395198199388, 69.06161256748096, 107.42230463196465, 41.803403563603005, 672.2588134009559, 172.64348070058418, 66.9018744323282, 310.1103975472789, 156.7920041749349, 673.5931210621675, 671.3495952530202, 123.42228851538569, 160.9293093550475, 216.67293559382088, 80.54659476956382, 249.83580521500093, 423.02239098562393, 1673.3031737887502, 489.9738886687445], \"Category\": [\"Default\", \"Default\", \"Default\", \"Default\", \"Default\", \"Default\", \"Default\", \"Default\", \"Default\", \"Default\", \"Default\", \"Default\", \"Default\", \"Default\", \"Default\", \"Default\", \"Default\", \"Default\", \"Default\", \"Default\", \"Default\", \"Default\", \"Default\", \"Default\", \"Default\", \"Default\", \"Default\", \"Default\", \"Default\", \"Default\", \"Topic1\", \"Topic1\", \"Topic1\", \"Topic1\", \"Topic1\", \"Topic1\", \"Topic1\", \"Topic1\", \"Topic1\", \"Topic1\", \"Topic1\", \"Topic1\", \"Topic1\", \"Topic1\", \"Topic1\", \"Topic1\", \"Topic1\", \"Topic1\", \"Topic1\", \"Topic1\", \"Topic1\", \"Topic1\", \"Topic1\", \"Topic1\", \"Topic1\", \"Topic1\", \"Topic1\", \"Topic1\", \"Topic1\", \"Topic1\", \"Topic1\", \"Topic1\", \"Topic1\", \"Topic1\", \"Topic1\", \"Topic1\", \"Topic1\", \"Topic1\", \"Topic1\", \"Topic1\", \"Topic1\", \"Topic1\", \"Topic1\", \"Topic1\", \"Topic1\", \"Topic1\", \"Topic1\", \"Topic1\", \"Topic1\", \"Topic1\", \"Topic1\", \"Topic1\", \"Topic1\", \"Topic1\", \"Topic1\", \"Topic1\", \"Topic1\", \"Topic1\", \"Topic1\", \"Topic1\", \"Topic1\", \"Topic1\", \"Topic1\", \"Topic1\", \"Topic1\", \"Topic1\", \"Topic1\", \"Topic1\", \"Topic1\", \"Topic1\", \"Topic1\", \"Topic1\", \"Topic1\", \"Topic1\", \"Topic1\", \"Topic1\", \"Topic1\", \"Topic2\", \"Topic2\", \"Topic2\", \"Topic2\", \"Topic2\", \"Topic2\", \"Topic2\", \"Topic2\", \"Topic2\", \"Topic2\", \"Topic2\", \"Topic2\", \"Topic2\", \"Topic2\", \"Topic2\", \"Topic2\", \"Topic2\", \"Topic2\", \"Topic2\", \"Topic2\", \"Topic2\", \"Topic2\", \"Topic2\", \"Topic2\", \"Topic2\", \"Topic2\", \"Topic2\", \"Topic2\", \"Topic2\", \"Topic2\", \"Topic2\", \"Topic2\", \"Topic2\", \"Topic2\", \"Topic2\", \"Topic2\", \"Topic2\", \"Topic2\", \"Topic2\", \"Topic2\", \"Topic2\", \"Topic2\", \"Topic2\", \"Topic2\", \"Topic2\", \"Topic2\", \"Topic2\", \"Topic2\", \"Topic2\", \"Topic2\", \"Topic2\", \"Topic2\", \"Topic2\", \"Topic2\", \"Topic2\", \"Topic2\", \"Topic2\", \"Topic2\", \"Topic2\", \"Topic2\", \"Topic2\", \"Topic2\", \"Topic2\", \"Topic2\", \"Topic2\", \"Topic2\", \"Topic3\", \"Topic3\", \"Topic3\", \"Topic3\", \"Topic3\", \"Topic3\", \"Topic3\", \"Topic3\", \"Topic3\", \"Topic3\", \"Topic3\", \"Topic3\", \"Topic3\", \"Topic3\", \"Topic3\", \"Topic3\", \"Topic3\", \"Topic3\", \"Topic3\", \"Topic3\", \"Topic3\", \"Topic3\", \"Topic3\", \"Topic3\", \"Topic3\", \"Topic3\", \"Topic3\", \"Topic3\", \"Topic3\", \"Topic3\", \"Topic3\", \"Topic3\", \"Topic3\", \"Topic3\", \"Topic3\", \"Topic3\", \"Topic3\", \"Topic3\", \"Topic3\", \"Topic3\", \"Topic3\", \"Topic3\", \"Topic3\", \"Topic3\", \"Topic3\", \"Topic3\", \"Topic3\", \"Topic3\", \"Topic3\", \"Topic3\", \"Topic3\", \"Topic3\", \"Topic3\", \"Topic3\", \"Topic3\", \"Topic3\", \"Topic3\", \"Topic3\", \"Topic3\", \"Topic3\", \"Topic3\", \"Topic3\", \"Topic3\", \"Topic3\", \"Topic3\", \"Topic3\", \"Topic3\", \"Topic3\", \"Topic3\", \"Topic3\", \"Topic3\", \"Topic3\", \"Topic3\", \"Topic3\", \"Topic3\", \"Topic3\", \"Topic3\", \"Topic3\", \"Topic4\", \"Topic4\", \"Topic4\", \"Topic4\", \"Topic4\", \"Topic4\", \"Topic4\", \"Topic4\", \"Topic4\", \"Topic4\", \"Topic4\", \"Topic4\", \"Topic4\", \"Topic4\", \"Topic4\", \"Topic4\", \"Topic4\", \"Topic4\", \"Topic4\", \"Topic4\", \"Topic4\", \"Topic4\", \"Topic4\", \"Topic4\", \"Topic4\", \"Topic4\", \"Topic4\", \"Topic4\", \"Topic4\", \"Topic4\", \"Topic4\", \"Topic4\", \"Topic4\", \"Topic4\", \"Topic4\", \"Topic4\", \"Topic4\", \"Topic4\", \"Topic4\", \"Topic4\", \"Topic4\", \"Topic4\", \"Topic4\", \"Topic4\", \"Topic4\", \"Topic4\", \"Topic4\", \"Topic4\", \"Topic4\", \"Topic4\", \"Topic4\", \"Topic4\", \"Topic4\", \"Topic4\", \"Topic4\", \"Topic4\", \"Topic4\", \"Topic4\", \"Topic4\", \"Topic4\", \"Topic4\", \"Topic4\", \"Topic4\", \"Topic4\", \"Topic4\", \"Topic4\", \"Topic4\", \"Topic4\", \"Topic4\", \"Topic4\", \"Topic4\", \"Topic4\", \"Topic4\", \"Topic4\", \"Topic4\", \"Topic4\", \"Topic4\", \"Topic5\", \"Topic5\", \"Topic5\", \"Topic5\", \"Topic5\", \"Topic5\", \"Topic5\", \"Topic5\", \"Topic5\", \"Topic5\", \"Topic5\", \"Topic5\", \"Topic5\", \"Topic5\", \"Topic5\", \"Topic5\", \"Topic5\", \"Topic5\", \"Topic5\", \"Topic5\", \"Topic5\", \"Topic5\", \"Topic5\", \"Topic5\", \"Topic5\", \"Topic5\", \"Topic5\", \"Topic5\", \"Topic5\", \"Topic5\", \"Topic5\", \"Topic5\", \"Topic5\", \"Topic5\", \"Topic5\", \"Topic5\", \"Topic5\", \"Topic5\", \"Topic5\", \"Topic5\", \"Topic5\", \"Topic5\", \"Topic5\", \"Topic5\", \"Topic5\", \"Topic5\", \"Topic5\", \"Topic5\", \"Topic5\", \"Topic5\", \"Topic5\"], \"logprob\": [30.0, 29.0, 28.0, 27.0, 26.0, 25.0, 24.0, 23.0, 22.0, 21.0, 20.0, 19.0, 18.0, 17.0, 16.0, 15.0, 14.0, 13.0, 12.0, 11.0, 10.0, 9.0, 8.0, 7.0, 6.0, 5.0, 4.0, 3.0, 2.0, 1.0, -4.5425, -6.0987, -6.1541, -6.9876, -7.0162, -7.1129, -7.1711, -7.1711, -7.2374, -5.5081, -7.3542, -7.527, -7.3268, -7.7146, -7.6755, -7.7169, -7.7783, -7.8012, -7.8464, -7.2175, -7.8712, -7.8461, -7.8949, -7.8949, -7.9237, -7.9241, -7.9241, -7.9241, -7.9241, -7.9246, -7.5891, -5.7198, -6.8876, -6.9553, -5.8008, -7.7221, -7.2502, -7.3353, -7.0148, -5.0332, -6.3847, -5.0915, -6.4355, -7.1421, -7.0239, -7.2892, -5.0757, -5.5274, -6.6814, -5.368, -6.256, -5.4178, -6.1327, -6.8773, -5.9867, -6.0623, -5.5326, -6.0652, -6.1795, -5.374, -5.9587, -6.2449, -6.3224, -6.0373, -6.0011, -6.0486, -5.9068, -5.421, -6.0383, -5.8643, -5.8744, -6.1116, -5.8264, -5.2359, -6.0255, -6.1083, -6.0893, -5.4114, -5.4664, -6.1182, -6.1357, -6.1633, -6.1633, -6.3664, -6.3904, -4.6185, -5.9327, -6.419, -6.365, -6.8313, -6.8313, -5.8916, -6.8354, -6.8354, -4.9843, -5.6013, -6.776, -6.8179, -6.8015, -6.4273, -6.1331, -6.8196, -7.4645, -7.4205, -5.6774, -7.4888, -6.7992, -6.7904, -6.7933, -6.8319, -5.7029, -6.231, -6.1828, -5.5695, -4.6053, -5.3219, -5.5441, -4.4972, -5.2511, -6.0162, -5.064, -6.1685, -5.8273, -5.168, -5.1088, -4.7148, -5.3197, -5.0027, -5.4489, -5.3512, -5.0623, -5.4934, -5.6025, -5.4168, -5.4102, -5.6357, -5.2116, -5.4387, -5.4231, -5.4073, -5.4829, -5.5416, -5.6023, -5.521, -6.8619, -6.5218, -6.9117, -6.9117, -6.8976, -7.0934, -7.0934, -6.8683, -7.0877, -7.1978, -7.2738, -7.2926, -7.2999, -7.3162, -7.3162, -7.3059, -6.1362, -5.8204, -6.6283, -7.3984, -7.4053, -7.2979, -7.3065, -7.0898, -6.9155, -7.0823, -7.5732, -7.5511, -7.6026, -6.4565, -6.8972, -7.0639, -6.1218, -6.6317, -6.5132, -5.7482, -4.507, -6.287, -6.6661, -7.0643, -6.2291, -6.9508, -6.7251, -4.3867, -5.8443, -5.8929, -5.7838, -4.8118, -6.4488, -5.2013, -6.142, -5.9667, -4.8893, -4.6118, -5.4796, -5.8057, -6.3031, -5.6599, -5.7764, -5.8738, -5.6773, -5.7043, -5.3523, -5.5317, -4.8397, -5.6344, -3.7359, -5.5384, -5.1032, -5.54, -5.2173, -5.3209, -5.5062, -5.5018, -5.8008, -5.641, -5.7483, -6.8852, -6.8525, -7.2866, -6.8427, -7.4943, -7.5254, -7.5643, -7.5321, -7.5582, -7.5583, -7.5389, -7.5136, -7.5265, -7.3973, -7.2496, -6.8267, -7.4701, -8.0051, -6.3159, -6.9985, -7.3821, -7.3812, -7.5309, -7.5507, -7.4314, -7.1063, -7.2721, -8.1406, -7.9718, -7.9711, -5.118, -5.9697, -6.4935, -5.5565, -6.1872, -6.7701, -6.8183, -7.1265, -6.5624, -5.4512, -7.1431, -6.6901, -4.6606, -6.2754, -5.9353, -7.0016, -6.9435, -3.2594, -5.9788, -6.739, -6.2892, -5.2609, -5.4392, -6.0185, -6.568, -5.3012, -5.9982, -5.2751, -5.6439, -5.8703, -5.4875, -6.1263, -5.6709, -6.4038, -6.477, -5.6055, -6.07, -5.8399, -5.7009, -5.9511, -5.6941, -5.6164, -5.7774, -6.1261, -6.1722, -6.08, -6.1135, -4.0318, -4.7267, -4.6659, -5.3631, -5.2751, -5.1849, -4.494, -4.83, -5.7682, -5.7682, -3.4995, -5.5477, -5.549, -4.7031, -6.2603, -6.2603, -6.2603, -5.0178, -5.6343, -5.6586, -6.3466, -6.0104, -6.3554, -6.3554, -6.3554, -6.2102, -4.7072, -3.9298, -6.4606, -6.4607, -5.4092, -4.605, -4.5304, -5.6357, -5.2088, -6.1271, -3.457, -4.7621, -5.6778, -4.3594, -5.0031, -3.8098, -3.8812, -5.2066, -5.1345, -5.0267, -5.5737, -5.2142, -5.1722, -5.2887, -5.4194], \"loglift\": [30.0, 29.0, 28.0, 27.0, 26.0, 25.0, 24.0, 23.0, 22.0, 21.0, 20.0, 19.0, 18.0, 17.0, 16.0, 15.0, 14.0, 13.0, 12.0, 11.0, 10.0, 9.0, 8.0, 7.0, 6.0, 5.0, 4.0, 3.0, 2.0, 1.0, 1.8045, 1.7991, 1.7985, 1.794, 1.7934, 1.7933, 1.7926, 1.7926, 1.7912, 1.7911, 1.7895, 1.7854, 1.7834, 1.7823, 1.782, 1.7814, 1.7811, 1.78, 1.7794, 1.7787, 1.7785, 1.7784, 1.7781, 1.778, 1.7772, 1.7771, 1.7771, 1.7771, 1.7771, 1.7766, 1.7737, 1.7523, 1.7604, 1.7585, 1.7337, 1.7716, 1.7402, 1.7409, 1.7096, 1.5305, 1.6308, 1.4743, 1.6167, 1.7018, 1.6831, 1.7196, 1.3847, 1.4222, 1.5977, 1.324, 1.4605, 1.2163, 1.3803, 1.6223, 1.2958, 1.2863, 1.0414, 1.2725, 1.2763, 0.8463, 1.1402, 1.2645, 1.2918, 1.0492, 1.0021, 1.0188, 0.8349, 0.2976, 0.932, 0.6407, 0.6236, 1.0058, 0.2322, -1.6663, 0.1532, 0.5898, -0.498, 3.4966, 3.4933, 3.4794, 3.4777, 3.4775, 3.4774, 3.4698, 3.4694, 3.4669, 3.4532, 3.4481, 3.446, 3.4443, 3.4443, 3.443, 3.4387, 3.4387, 3.4346, 3.431, 3.4279, 3.4228, 3.4117, 3.4117, 3.4065, 3.3954, 3.3864, 3.3859, 3.3842, 3.3837, 3.3834, 3.3755, 3.3746, 3.3737, 3.2689, 3.3155, 3.2639, 3.1435, 2.929, 3.0709, 3.0997, 2.799, 2.9656, 3.1861, 2.7146, 3.1005, 2.9064, 2.1344, 1.7381, 1.1735, 1.9669, 1.4851, 2.1261, 1.8426, 1.1909, 1.8553, 1.9954, 1.3441, 1.224, 1.8773, 0.3629, 0.7053, 0.5594, 0.372, 0.1269, 0.7968, -0.011, 1.9099, 1.8999, 1.8996, 1.899, 1.8989, 1.8979, 1.8968, 1.8968, 1.8957, 1.8942, 1.8933, 1.8932, 1.8928, 1.892, 1.8914, 1.8914, 1.8914, 1.8913, 1.8908, 1.89, 1.8896, 1.8895, 1.889, 1.8888, 1.8874, 1.8863, 1.8859, 1.8857, 1.8854, 1.885, 1.8847, 1.8819, 1.8814, 1.8599, 1.8708, 1.8669, 1.8375, 1.7821, 1.8468, 1.8614, 1.8797, 1.8163, 1.8693, 1.8473, 1.5958, 1.7396, 1.7449, 1.7303, 1.5874, 1.8016, 1.5983, 1.7187, 1.6828, 1.4559, 1.37, 1.5321, 1.5669, 1.7109, 1.4915, 1.522, 1.5236, 1.4186, 1.3812, 1.1355, 1.2441, 0.7701, 1.2849, -0.1662, 1.0543, 0.4713, 0.9384, 0.3107, 0.4199, 0.5132, 0.3295, 1.2391, 0.1383, 0.3102, 0.4804, 0.4785, 0.4782, 0.4782, 0.478, 0.4776, 0.4776, 0.4776, 0.4775, 0.4775, 0.4774, 0.4774, 0.4773, 0.4772, 0.4767, 0.4763, 0.4762, 0.4755, 0.4755, 0.4755, 0.4751, 0.4745, 0.4742, 0.474, 0.4735, 0.4734, 0.4734, 0.4731, 0.4729, 0.4728, 0.4682, 0.4693, 0.4726, 0.4611, 0.4656, 0.4704, 0.4704, 0.4722, 0.4662, 0.4406, 0.4714, 0.4603, 0.408, 0.4504, 0.4359, 0.4659, 0.464, 0.3102, 0.423, 0.4497, 0.4147, 0.3377, 0.3501, 0.3751, 0.4175, 0.2901, 0.3428, 0.2529, 0.2927, 0.316, 0.2311, 0.3279, 0.2174, 0.3715, 0.3885, 0.1354, 0.2684, 0.1795, 0.1303, 0.1929, 0.0851, -0.0419, -0.1677, 0.219, 0.2749, 0.0988, -0.0549, 3.1687, 3.1652, 3.1646, 3.1637, 3.1631, 3.1597, 3.1596, 3.1584, 3.1577, 3.1577, 3.156, 3.1532, 3.1527, 3.1477, 3.1458, 3.1458, 3.1458, 3.1453, 3.1441, 3.1439, 3.1437, 3.1436, 3.143, 3.143, 3.143, 3.1423, 3.1409, 3.1399, 3.1394, 3.1392, 3.1385, 3.1254, 3.0991, 3.1264, 3.1115, 3.137, 3.0294, 3.0837, 3.116, 2.9007, 2.9391, 2.6746, 2.6065, 2.9749, 2.7816, 2.592, 3.0346, 2.262, 1.7774, 0.2858, 1.3833]}, \"token.table\": {\"Topic\": [1, 4, 1, 4, 1, 1, 4, 1, 4, 4, 1, 2, 4, 1, 3, 4, 5, 2, 4, 5, 2, 3, 4, 2, 4, 1, 4, 1, 2, 3, 4, 5, 1, 2, 3, 4, 1, 2, 4, 4, 1, 2, 3, 4, 5, 2, 1, 4, 1, 2, 3, 4, 5, 1, 4, 1, 2, 4, 1, 4, 4, 1, 3, 4, 3, 4, 3, 4, 3, 4, 3, 4, 5, 5, 3, 4, 1, 3, 4, 5, 1, 3, 4, 5, 3, 4, 3, 4, 2, 3, 4, 1, 2, 3, 4, 1, 4, 1, 4, 1, 2, 3, 4, 3, 4, 5, 3, 4, 5, 1, 2, 3, 4, 5, 1, 4, 1, 2, 4, 1, 4, 3, 4, 1, 1, 2, 3, 4, 5, 1, 4, 5, 3, 4, 5, 1, 2, 3, 4, 5, 4, 5, 1, 2, 3, 4, 1, 4, 1, 2, 3, 4, 1, 2, 3, 4, 5, 5, 3, 4, 2, 1, 3, 4, 5, 1, 4, 1, 4, 5, 2, 3, 4, 1, 2, 3, 4, 5, 3, 4, 1, 2, 3, 4, 1, 3, 1, 4, 1, 2, 3, 4, 1, 3, 4, 5, 2, 4, 1, 4, 1, 3, 4, 3, 4, 1, 3, 4, 1, 4, 4, 1, 2, 3, 4, 1, 4, 1, 2, 4, 2, 4, 1, 2, 3, 4, 5, 5, 1, 3, 4, 3, 3, 4, 1, 2, 3, 4, 5, 1, 1, 2, 3, 4, 1, 4, 1, 3, 4, 1, 2, 3, 4, 5, 3, 1, 2, 3, 4, 5, 4, 1, 4, 3, 4, 2, 3, 3, 4, 3, 4, 2, 3, 4, 1, 4, 1, 3, 1, 4, 1, 3, 4, 1, 3, 4, 1, 2, 3, 4, 4, 1, 2, 3, 4, 5, 1, 3, 4, 5, 3, 5, 1, 2, 3, 4, 5, 1, 3, 4, 5, 1, 4, 1, 2, 3, 4, 5, 3, 4, 5, 1, 2, 4, 1, 3, 4, 5, 1, 3, 4, 5, 3, 4, 3, 4, 3, 4, 5, 3, 4, 1, 1, 3, 4, 1, 2, 3, 4, 5, 2, 4, 1, 4, 5, 3, 4, 5, 1, 4, 1, 2, 3, 4, 5, 1, 2, 3, 4, 5, 3, 4, 5, 2, 4, 1, 3, 4, 2, 1, 3, 4, 1, 3, 4, 1, 4, 1, 4, 1, 1, 3, 4, 5, 1, 3, 4, 2, 1, 3, 4, 5, 1, 2, 3, 4, 5, 4, 1, 3, 4, 3, 4, 1, 3, 4, 5, 1, 3, 4, 5, 1, 2, 3, 4, 5, 3, 1, 2, 3, 4, 5, 1, 4, 3, 4, 1, 3, 4, 1, 3, 4, 5, 1, 2, 3, 4, 5, 3, 4, 1, 2, 3, 4, 5, 5, 2, 4, 1, 3, 4, 1, 4, 1, 2, 3, 4, 5, 1, 2, 3, 4, 5, 1, 3, 4, 5, 1, 2, 3, 4, 5, 1, 2, 3, 4, 5, 1, 3, 4, 5, 5, 1, 4, 1, 3, 4, 5, 1, 2, 3, 4, 5, 1, 2, 3, 4, 5, 1, 4, 1, 3, 4, 5, 2, 4, 1, 2, 3, 4, 5, 1, 3, 4, 1, 2, 3, 4, 5, 1, 3, 4, 5, 1, 3, 4, 5, 1, 3, 4, 1, 1, 2, 3, 4, 5, 3, 4, 5, 1, 4, 5, 1, 2, 3, 4, 5, 1, 2, 3, 4, 5, 1, 2, 3, 4, 5, 4, 3, 1, 2, 3, 4, 5, 1, 3, 4, 5, 5, 1, 2, 3, 4, 1, 2, 3, 4, 5, 1, 2, 3, 4, 5, 1, 2, 3, 4, 5, 1, 3, 4, 5, 4, 5, 2, 4, 1, 4, 3, 4, 1, 2, 3, 4, 5, 1, 4, 1, 4, 1, 2, 3, 4, 5, 1, 2, 3, 4, 5, 1, 3, 4, 5, 3, 4, 1, 2, 3, 4, 3, 4, 2, 4, 1, 2, 3, 4, 5, 1, 4, 1, 2, 3, 4, 1, 4, 1, 3, 4, 3, 4, 2, 2, 2, 4, 4, 1, 2, 3, 4, 5, 1, 3, 4, 5, 2, 3, 4, 3, 4, 1, 2, 3, 4, 5, 1, 2, 3, 4, 1, 1, 1, 4, 1, 4, 3, 4, 5, 1, 2, 3, 4, 5, 4, 5, 1, 2, 3, 4, 1, 2, 3, 4, 5, 1, 2, 3, 4, 5, 3, 4, 4, 3, 4, 5, 1, 3, 4, 5, 1, 3, 4, 5, 1, 4, 1, 2, 3, 4, 5, 1, 3, 4, 2, 3, 4, 1, 2, 3, 4, 5, 3, 4, 1, 2, 3, 4, 2, 3, 4, 1, 4, 1, 3, 4, 1, 4, 1, 2, 3, 4, 5, 3, 4, 5, 1, 3, 4, 5, 1, 2, 3, 4, 5, 1, 2, 3, 4, 5, 1, 2, 3, 4, 5, 1, 2, 3, 4, 5, 5, 1, 4, 2, 4, 3, 4, 5, 5, 1, 2, 3, 4, 5, 3, 1, 3, 4, 5, 1, 3, 4, 5, 2, 1, 3, 4, 1, 2, 3, 4, 5, 1, 3, 4, 5, 1, 2, 3, 4, 5, 1, 1, 2, 4, 1, 3, 4, 5, 1, 2, 3, 4, 5, 2, 4, 1, 2, 4, 3, 4, 1, 2, 3, 4, 5, 1, 2, 4, 4, 1, 3, 4, 2, 3, 4, 5, 2, 3, 4, 1, 2, 3, 4, 5, 1, 3, 4, 5, 2, 2, 3, 3, 4, 5, 1, 2, 3, 4, 4, 3, 3, 4, 1, 4, 1, 2, 3, 4, 5, 1, 4, 4, 5, 2, 3, 4, 1, 2, 3, 4, 5, 1, 2, 3, 4], \"Freq\": [0.9630747184367942, 0.030096084951149817, 0.9858329701414656, 0.013412693471312458, 0.9626447485644662, 0.9945561135015741, 0.006101571248475915, 0.006792197544394707, 0.9916608414816273, 0.9978531577096615, 0.9486634516158537, 0.0039859808891422426, 0.04783177066970691, 0.9755574336657595, 0.029026118819861363, 0.005805223763972273, 0.9636671448193973, 0.9494343649487985, 0.02207986895229764, 0.02207986895229764, 0.9180829250626346, 0.04371823452679212, 0.04371823452679212, 0.9703832887963217, 0.017643332523569488, 0.005239291719877333, 0.9902261350568159, 0.5833972605478076, 0.045513261461176485, 0.004137569223743317, 0.33928067634695197, 0.028962984566203217, 0.006622509573107418, 0.21192030633943737, 0.003311254786553709, 0.7748336200535678, 0.041338357323207876, 0.9507822184337811, 0.041338357323207876, 0.9945595223555727, 0.014796446535665827, 0.003699111633916457, 0.6769374290067116, 0.299628042347233, 0.007398223267832914, 0.920838100198334, 0.9893008983761065, 0.014765685050389648, 0.37828978436151994, 0.0921721301997612, 0.19010501853700748, 0.3226024556991642, 0.0153620216999602, 0.9317482878906788, 0.05947329497174545, 0.11485937706263194, 0.7753007951727656, 0.08614453279697395, 0.9976259338610791, 0.001293937657407366, 0.9926508606499923, 0.007350927701430092, 0.053906803143820674, 0.9360181273154317, 0.9663298789176746, 0.02842146702699043, 0.9879752046507626, 0.015199618533088655, 0.9887375534824426, 0.01029934951544211, 0.02392149716896905, 0.02392149716896905, 0.956859886758762, 0.9841901820367828, 0.9792376091057113, 0.022255400206947985, 0.019133628757324005, 0.01275575250488267, 0.1785805350683574, 0.7908566553027255, 0.02064324780715686, 0.01032162390357843, 0.015482435855367644, 0.9495893991292155, 0.9513220403950077, 0.03068780775467767, 0.9786700898606301, 0.01779400163382964, 0.9240982900046073, 0.025669396944572428, 0.051338793889144856, 0.09145701340836736, 0.01763026764498648, 0.044075669112466194, 0.8462528469593509, 0.004439027399335267, 0.9899031100517645, 0.9829198706886022, 0.018902305205550043, 0.015035166107111825, 0.04100499847394134, 0.0013668332824647114, 0.9417481316181862, 0.013631161319876156, 0.013631161319876156, 0.9814436150310832, 0.013619960014299317, 0.013619960014299317, 0.9806371210295508, 0.13208675182326737, 0.03202103074503452, 0.01601051537251726, 0.42027602852857804, 0.4002628843129315, 0.005960451346339245, 0.9953953748386538, 0.07814453677517917, 0.8791260387207657, 0.039072268387589586, 0.01587130099067602, 0.9840206614219131, 0.9696196980265144, 0.01795592033382434, 0.9629218040640118, 0.06771781973804465, 0.02257260657934822, 0.016123290413820157, 0.1322109813933253, 0.7577946494495473, 0.006324316804421182, 0.9865934214897045, 0.006324316804421182, 0.0784592683595173, 0.35998958423778527, 0.5584453806765644, 0.6808150257223321, 0.0023639410615358754, 0.007091823184607627, 0.06146246759993276, 0.24584987039973105, 0.026130744634650645, 0.9668375514820738, 0.03783616359620024, 0.006486199473634328, 0.027746519970546845, 0.9278868691449107, 0.986858651943104, 0.02902525446891482, 0.02674525743773176, 0.48810094823860456, 0.15044207308724114, 0.33765887515136345, 0.012942012495750768, 0.014790871423715162, 0.020337448207608348, 0.9336737586220196, 0.018488589279643954, 0.9650590244638779, 0.9860043508988446, 0.020122537773445807, 0.9195123041786649, 0.0571691477812598, 0.22444183943753848, 0.7064977398647044, 0.01199846311458539, 0.5972652246654334, 0.39970826573763624, 0.00919226867654475, 0.9881688827285606, 0.9722158280650909, 0.9270435460869464, 0.06180290307246309, 0.06180290307246309, 0.08959456796203119, 0.1685231159285825, 0.11732621995027893, 0.6122295477405465, 0.012799223994575884, 0.9487184372391813, 0.03952993488496588, 0.5534926017423286, 0.10173228505544357, 0.08966235293022144, 0.2534685746296645, 0.9560007660765975, 0.03875678781391611, 0.0034265925281921593, 0.9937118331757262, 0.014074370204333919, 0.5489004379690229, 0.014074370204333919, 0.4222311061300176, 0.1335170796327031, 0.7072796650813461, 0.1551684979515198, 0.0036085697198027862, 0.9683413630875812, 0.03339108148577866, 0.006926743639204225, 0.9905243404062042, 0.006651192460108313, 0.007860500180128006, 0.98558579181605, 0.9793517995742778, 0.02083727233136761, 0.9698629566636138, 0.01829930106912479, 0.01829930106912479, 0.9791017054296984, 0.025105171934094832, 0.9961100636616206, 0.08730411080661185, 0.00415733860983866, 0.8314677219677319, 0.07483209497709586, 0.0034615966872804087, 0.9969398459367577, 0.14423440218835945, 0.6490548098476175, 0.16827346921975267, 0.9184012972899388, 0.061226753152662586, 0.07410492129721774, 0.04302866397902966, 0.23606003155162103, 0.5916441297116578, 0.055578690972913306, 0.9675796938715454, 0.0020178865563757857, 0.006053659669127357, 0.9928001857368866, 0.9881383443508497, 0.972154808230907, 0.022608251354207142, 0.6564835093003976, 0.028983819395161037, 0.10579094079233779, 0.14926666988507933, 0.06086602072983818, 0.9919841173969439, 0.22087997376733529, 0.0006902499180229229, 0.0006902499180229229, 0.7772214076938111, 0.8352998796031729, 0.16705997592063457, 0.8770553279590644, 0.013703989499360381, 0.10963191599488305, 0.0055100038867981534, 0.015917789006305777, 0.10775118711960834, 0.8650706102273101, 0.006122226540886838, 0.9740908972285804, 0.031067389000145385, 0.002012136593273665, 0.12475246878296722, 0.8413950378433157, 0.000804854637309466, 0.9935210210241557, 0.9844461544344582, 0.02050929488405121, 0.794890644436589, 0.2046724413818762, 0.9457728218252501, 0.027022080623578575, 0.9845510762223965, 0.02237616082323628, 0.9867560488520373, 0.024668901221300932, 0.9106771571221247, 0.037944881546755196, 0.037944881546755196, 0.8259173407501863, 0.17087944981038336, 0.9616679494966506, 0.9572818910288754, 0.9278553654610356, 0.05457972738006092, 0.0058586751247846494, 0.0058586751247846494, 0.9901160960886057, 0.9291345444239117, 0.0042426234905201445, 0.06363935235780217, 0.0603509241322228, 0.18708786480989067, 0.35607045238011453, 0.3952985530660594, 0.9971421682563585, 0.44645029358944854, 0.027435492902144882, 0.09228302157994188, 0.4240030721240573, 0.007482407155130422, 0.012415174134436165, 0.11173656720992547, 0.012415174134436165, 0.8690621894105315, 0.9769059816557372, 0.970626299314548, 0.018558409304806553, 0.0013256006646290394, 0.02518641262795175, 0.9544324785329085, 0.0013256006646290394, 0.029395719335637602, 0.8230801413978529, 0.0881871580069128, 0.058791438671275204, 0.9519830765890719, 0.04139056854735095, 0.0037302246773462094, 0.0018651123386731047, 0.24619482870484982, 0.7385844861145494, 0.010258117862702075, 0.00579228358894305, 0.0810919702452027, 0.909388523464059, 0.02054613920237872, 0.9245762641070424, 0.051365348005946804, 0.04915968744631732, 0.5097083382591848, 0.41915101927912657, 0.020698815766870448, 0.0025152449551362707, 0.6816313828419294, 0.3043446395714888, 0.012576224775681353, 0.972154808230907, 0.022608251354207142, 0.9793487995796397, 0.015066904608917533, 0.0047791017788893775, 0.009558203557778755, 0.9844949664512118, 0.9800380569103493, 0.02450095142275873, 0.9629218040640118, 0.003993357367513114, 0.2008088276235166, 0.7946781161351096, 0.19495200962047426, 0.44947268884720454, 0.005415333600568729, 0.33033534963469247, 0.016246000801706188, 0.9885461843675648, 0.016755020074026523, 0.014718028773679318, 0.014718028773679318, 0.9713898990628349, 0.006680215885352614, 0.006680215885352614, 0.9819917351468342, 0.006144906996908148, 0.9893300265022119, 0.46896511643299765, 0.05150483937703442, 0.008132343059531751, 0.4445680872544024, 0.02710781019843917, 0.0059500893409846255, 0.013387701017215408, 0.004462567005738469, 0.11453921981395404, 0.8627629544427707, 0.0060653921786588735, 0.0060653921786588735, 0.9886589251213963, 0.8947380991453883, 0.11184226239317353, 0.022287967856848258, 0.8380275914174945, 0.13372780714108953, 0.9549060726752712, 0.9080891600320051, 0.018532431837387862, 0.05559729551216358, 0.007210143707912576, 0.0024033812359708587, 0.9901930692199937, 0.9769482741026263, 0.02640400740817909, 0.015349228359123796, 0.982350614983923, 0.9919823092577068, 0.03520246300106177, 0.5876103439408004, 0.3655640388571799, 0.013539408846562219, 0.006635226502422214, 0.9488373898463767, 0.0464465855169555, 0.9354410150205678, 0.06556167849374797, 0.5105864052391887, 0.42118411638407793, 0.001986717530113575, 0.6001834562208894, 0.003297711297916975, 0.20445810047085244, 0.18796954398126758, 0.003297711297916975, 0.9901723030277677, 0.0033658783231641128, 0.0033658783231641128, 0.9929341053334133, 0.9726769637469822, 0.017369231495481825, 0.004465451665922754, 0.9243484948460101, 0.026792709995536526, 0.04465451665922754, 0.9629218040640118, 0.9347620268649767, 0.054077142050039974, 0.015450612014297135, 0.08783489899508932, 0.020667035057668075, 0.6316362589499805, 0.25575455883864245, 0.005166758764417019, 0.9729052659954714, 0.2959688761042449, 0.016544844005827355, 0.11765222404143896, 0.5551714321955401, 0.012868212004532387, 0.986970162587788, 0.01518415634750443, 0.9843247927352418, 0.014475364599047674, 0.03023555307882397, 0.0018897220674264981, 0.967537698522367, 0.030520054534735927, 0.7284119682290308, 0.23398708476630878, 0.006104010906947186, 0.026562988406138365, 0.011805772624950386, 0.3763090024202935, 0.5415898191695989, 0.04132020418732635, 0.9738987680791844, 0.017391049429985435, 0.5953925253665836, 0.1902437655017486, 0.007046065388953652, 0.1373982750845962, 0.07046065388953651, 0.9706140363758701, 0.9748694392182945, 0.042385627792099756, 0.007071840441374729, 0.9051955764959653, 0.08486208529649673, 0.9604705850506756, 0.03430252089466699, 0.02443884092821591, 0.0012862547856955743, 0.0990416184985592, 0.8695082351302081, 0.0064312739284778705, 0.06852098836651804, 0.13108362991855624, 0.4587927047149469, 0.3038756875384713, 0.038729254294118894, 0.7585404634145054, 0.16552895705867385, 0.0626760128668765, 0.011249540770977834, 0.3069828830187589, 0.0015048180540135241, 0.12489989848312251, 0.5552778619309904, 0.013543362486121717, 0.27401762882456804, 0.11352158908446389, 0.08220528864737041, 0.5225907635439976, 0.005871806331955029, 0.0675146501428818, 0.029785875063036087, 0.8935762518910826, 0.005957175012607218, 0.9597530981492859, 0.010542459783882768, 0.9909912196849803, 0.05955486178814545, 0.42350123938236767, 0.5144878337809232, 0.0033086034326747474, 0.04416889710572221, 0.09651721960139296, 0.07525071358752672, 0.7672301015771746, 0.017994735857886825, 0.2075178628101264, 0.005818257835797937, 0.20072989533502883, 0.583765202858393, 0.0029091289178989686, 0.9629359610541932, 0.037035998502084354, 0.812946937655495, 0.008933482831379066, 0.16080269096482316, 0.026800448494137194, 0.8586057174954664, 0.12265795964220949, 0.07639131610935763, 0.05212583922756168, 0.7270655850878862, 0.12222610577497221, 0.02336675551580351, 0.008681078573713103, 0.8941510930924497, 0.09549186431084414, 0.017686794083721667, 0.0009308838991432456, 0.0009308838991432456, 0.9783589779995512, 0.002792651697429737, 0.03471039651593403, 0.6537124677167576, 0.29214583734244476, 0.017355198257967015, 0.007447684537763943, 0.026811664335950194, 0.39919589122414734, 0.5645344879625069, 0.011349629229596076, 0.0014187036536995096, 0.9859990393211591, 0.9722044497146995, 0.45477164934342906, 0.0638275999078497, 0.03989224994240606, 0.35105179949317333, 0.09042243320278706, 0.023863945690551825, 0.007954648563517274, 0.9704671247491075, 0.01494726431038204, 0.02989452862076408, 0.9416776515540686, 0.05671584998302302, 0.016204528566578006, 0.016204528566578006, 0.09722717139946804, 0.8183286926121893, 0.0787859593102313, 0.021956742758589054, 0.12528259103430223, 0.7684859965506168, 0.006457865517232074, 0.050475574849081724, 0.0014845757308553447, 0.17369536051007534, 0.17072620904836464, 0.6042223224581253, 0.9964245524901936, 0.9823319310989846, 0.09967132995167777, 0.02917209657122276, 0.03160310461882466, 0.8247194801489435, 0.01458604828561138, 0.04690840952388558, 0.6768213374160634, 0.2579962523813707, 0.016753003401387707, 0.9675796938715454, 0.4500934802497452, 0.05311662189282708, 0.16494108903562094, 0.32988217807124187, 0.1913702320450901, 0.0010935441831148006, 0.11263505086082447, 0.6812780260805208, 0.013122530197377608, 0.6174978899391449, 0.02923066934623171, 0.08951892487283462, 0.2521145231112485, 0.010961501004836892, 0.2018227405628317, 0.25227842570353964, 0.15473076776483763, 0.3935543440975218, 0.0033637123427138617, 0.008547685996107428, 0.8755272656012895, 0.10379332995273306, 0.010989881994995265, 0.02337172257300727, 0.9582406254932981, 0.9760792901419609, 0.03485997464792718, 0.003993472556214165, 0.994374666497327, 0.98262259191296, 0.022332331634385454, 0.2098110673487388, 0.5790785458825192, 0.11749419771529374, 0.04196221346974776, 0.05874709885764687, 0.9925040052391187, 0.00644483120285142, 0.9854359328035692, 0.03284786442678564, 0.074561652180353, 0.0013556664032791455, 0.021690662452466328, 0.8974511589707943, 0.0040669992098374365, 0.0984280461452649, 0.03404743734584635, 0.3181887781048186, 0.5218543578645177, 0.027856994192056107, 0.05747245720064875, 0.5801126148690484, 0.3053224288784465, 0.05747245720064875, 0.9591690779727586, 0.9945687415659353, 0.012674102226540388, 0.060201985576066847, 0.17849360635711048, 0.7477720313658829, 0.9743578465820464, 0.022144496513228328, 0.6893598340526776, 0.3033183269831782, 0.04875035517587883, 0.06542810826236369, 0.04875035517587883, 0.8069466685691522, 0.02950679392224245, 0.9675043228865012, 0.030234510090203164, 0.41751703988277444, 0.10860269823540375, 0.17135092388252593, 0.3040875550591305, 0.00995485655180073, 0.9888490841455391, 0.5882097959941487, 0.011764195919882973, 0.3999826612760211, 0.9720645055535782, 0.029456500168290246, 0.920838100198334, 0.9498569995722282, 0.8841583568573071, 0.05894389045715381, 0.9861429832906938, 0.585435888742585, 0.0627252737938484, 0.156813184484621, 0.1707521342165873, 0.024393162030941044, 0.005062790336708494, 0.9771185349847393, 0.015188371010125481, 0.9650590244638779, 0.7858010579316164, 0.10715468971794768, 0.10715468971794768, 0.9865275009341073, 0.9962747205340241, 0.31216936985416377, 0.0015153852905541929, 0.20457701422481606, 0.45613097245681206, 0.02727693522997547, 0.716612305235421, 0.012882917846928917, 0.15620537889401312, 0.11272553116062801, 0.9721262363055777, 0.9848948537246418, 0.020227662628137844, 0.9767071383300844, 0.966173971111896, 0.03019293659724675, 0.9505099581613163, 0.03435578162028854, 0.011451927206762847, 0.16123308165388656, 0.018368325758037707, 0.05918682744256595, 0.5959501245941123, 0.16531493182233936, 0.015076875594345679, 0.9649200380381234, 0.01805799606277447, 0.000820818002853385, 0.02298290407989478, 0.9587154273327537, 0.018014741800984047, 0.0030024569668306747, 0.0030024569668306747, 0.9667911433194772, 0.009007370900492024, 0.016968122318249016, 0.5557060059226553, 0.21634355955767498, 0.19937543723942597, 0.012726091738686763, 0.9605964879886948, 0.033509179813559116, 0.9925587058441818, 0.009538558055240226, 0.009538558055240226, 0.9824714796897434, 0.01746299542728268, 0.005820998475760893, 0.005820998475760893, 0.9721067454520691, 0.018641725438473745, 0.0062139084794912485, 0.2982676070155799, 0.6711021157850549, 0.005139623754925897, 0.9919473847006981, 0.46600181324117435, 0.0032473993954088803, 0.12340117702553746, 0.31662144105236584, 0.09255088276915309, 0.8956845312882611, 0.015713763706811597, 0.07856881853405799, 0.6406093684146764, 0.010009521381479319, 0.34032372697029684, 0.0718657594011918, 0.09778455787375279, 0.1425533915990854, 0.6538605978305156, 0.03416568889564856, 0.9759150457846433, 0.02269569873917775, 0.014053598207673977, 0.0017566997759592472, 0.0017566997759592472, 0.9819951747612192, 0.6560992143439406, 0.2958878809786399, 0.025729380954664337, 0.9629218040640118, 0.9944638772563542, 0.007473226088574321, 0.011209839132861481, 0.9827292306475232, 0.009047908410967736, 0.9907459710009671, 0.009309053677688826, 0.009309053677688826, 0.009309053677688826, 0.037236214710755305, 0.9402144214465715, 0.005704262149163717, 0.005704262149163717, 0.9868373518053231, 0.986787081052657, 0.934316145794845, 0.011978412125574937, 0.04791364850229975, 0.02209073909457527, 0.247416277859243, 0.1325444345674516, 0.3092703473240538, 0.28717960822947847, 0.09506355624262486, 0.024486067517039738, 0.02016499677873861, 0.8570123630963908, 0.00432107073830113, 0.6519140100113965, 0.19515897114990852, 0.033218548280835494, 0.12041723751802866, 0.9675796938715454, 0.11112484522285503, 0.0014816646029714004, 0.006667490713371301, 0.8756637803560976, 0.005185826110399901, 0.9650574432351335, 0.9064357704634632, 0.08367099419662738, 0.8893606392124334, 0.06352575994374524, 0.014479824070468779, 0.028959648140937558, 0.9556683886509394, 0.9722158280650909, 0.032658466370926474, 0.00933099039169328, 0.013996485587539917, 0.023327475979233195, 0.9237680487776346, 0.982326739282885, 0.0017614855417133588, 0.017614855417133587, 0.0017614855417133588, 0.9793859611926276, 0.03439987266078628, 0.5320513638201612, 0.3279454526994959, 0.10549294282641125, 0.9195123041786649, 0.5131905392457369, 0.37597381752227776, 0.10977337737876723, 0.0068168926809850415, 0.021814056579152134, 0.7212272456482174, 0.23859124383447647, 0.012270406825773076, 0.01641879741004848, 0.6074955041717938, 0.30648421832090494, 0.068411655875202, 0.0872786022740545, 0.04327258432074971, 0.16942316912022343, 0.6718252074204532, 0.028603911669648114, 0.964113344838286, 0.05993748979901145, 0.8990623469851718, 0.05993748979901145, 0.0026655489760885223, 0.01066219590435409, 0.02132439180870818, 0.9622631803679565, 0.010010758018128174, 0.03718281549590465, 0.1086882299111059, 0.8123015077566862, 0.03146238234268855, 0.8249320811568809, 0.15864078483786173, 0.0945256228173287, 0.8822391462950678, 0.03150854093910957, 0.9880853565277399, 0.015201313177349844, 0.38302826945158885, 0.030779057366645532, 0.11285654367770029, 0.45028620962314764, 0.022799301753070766, 0.06190736738312326, 0.8667031433637257, 0.06190736738312326, 0.9935955037117569, 0.8373000886466931, 0.07549427028781659, 0.0823573857685272, 0.836387447477694, 0.021427737010833805, 0.021427737010833805, 0.9642481654875211, 0.7196471370240821, 0.24737870335202822, 0.022488973032002566, 0.19889875166019355, 0.21698045635657479, 0.004520426174095308, 0.5153285838468651, 0.058765540263239005, 0.05482247172607354, 0.8154842669253439, 0.10279213448638788, 0.02741123586303677, 0.9762353574122387, 0.8859588251667465, 0.0590639216777831, 0.006075803740362673, 0.0030379018701813367, 0.9903560096791157, 0.0047042671814422786, 0.042338404632980504, 0.8420638254781678, 0.1081981451731724, 0.9960383880659334, 0.9945607967726563, 0.969598514324533, 0.028517603362486266, 0.7074052214121449, 0.29008703324095153, 0.05716860584008371, 0.01236077964109918, 0.20472541280570516, 0.7030193420875158, 0.022403913099492263, 0.005849330235905276, 0.9943861401038969, 0.010473550092802604, 0.9845137087234447, 0.8926935342884419, 0.04250921591849723, 0.04250921591849723, 0.1356266640796662, 0.0008583966080991532, 0.028327088067272056, 0.8266359335994845, 0.008583966080991531, 0.06954581805603244, 0.01738645451400811, 0.0021733068142510137, 0.9106155551711747], \"Term\": [\"aaaaaaaaaaaaaaaa\", \"aaaaaaaaaaaaaaaa\", \"aaaaaaaaaaaaaaaaaaaaaaaaaaaaaaaaaaaaaaaaaaaaaaaaaaaaaaaaaaaaaaaaaaaaaaaaaaaa\", \"aaaaaaaaaaaaaaaaaaaaaaaaaaaaaaaaaaaaaaaaaaaaaaaaaaaaaaaaaaaaaaaaaaaaaaaaaaaa\", \"adhoc\", \"adult\", \"adult\", \"afford\", \"afford\", \"aggressively\", \"alert\", \"alert\", \"alert\", \"alias\", \"align\", \"align\", \"align\", \"amazon\", \"amazon\", \"amazon\", \"anc\", \"anc\", \"anc\", \"ancillary\", \"ancillary\", \"andersen\", \"andersen\", \"asp\", \"asp\", \"asp\", \"asp\", \"asp\", \"asset\", \"asset\", \"asset\", \"asset\", \"assign\", \"assign\", \"assign\", \"astronomical\", \"attached\", \"attached\", \"attached\", \"attached\", \"attached\", \"aunt\", \"auth\", \"auth\", \"available\", \"available\", \"available\", \"available\", \"available\", \"aw\", \"aw\", \"awarded\", \"awarded\", \"awarded\", \"bakernet\", \"bakernet\", \"bankrupt\", \"bankruptcy\", \"bankruptcy\", \"bankruptcy\", \"baughman\", \"baughman\", \"bergfelt\", \"bergfelt\", \"beth\", \"beth\", \"bgcolor\", \"bgcolor\", \"bgcolor\", \"bodydefault\", \"bolt\", \"bolt\", \"border\", \"border\", \"border\", \"border\", \"br\", \"br\", \"br\", \"br\", \"bradford\", \"bradford\", \"breese\", \"breese\", \"brochure\", \"brochure\", \"brochure\", \"business\", \"business\", \"business\", \"business\", \"buying\", \"buying\", \"bwoertz\", \"bwoertz\", \"california\", \"california\", \"california\", \"california\", \"cellpadding\", \"cellpadding\", \"cellpadding\", \"cellspacing\", \"cellspacing\", \"cellspacing\", \"center\", \"center\", \"center\", \"center\", \"center\", \"ceo\", \"ceo\", \"certificate\", \"certificate\", \"certificate\", \"chairman\", \"chairman\", \"cherry\", \"cherry\", \"clarissa\", \"class\", \"class\", \"class\", \"class\", \"class\", \"classmate\", \"classmate\", \"classmate\", \"clear\", \"clear\", \"clear\", \"click\", \"click\", \"click\", \"click\", \"click\", \"colspan\", \"colspan\", \"company\", \"company\", \"company\", \"company\", \"concur\", \"concur\", \"conference\", \"conference\", \"conference\", \"conference\", \"consumer\", \"consumer\", \"consumer\", \"consumer\", \"consumer\", \"coords\", \"coral\", \"coral\", \"coronado\", \"corp\", \"corp\", \"corp\", \"corp\", \"court\", \"court\", \"crisis\", \"crisis\", \"ctr\", \"curtailment\", \"curtailment\", \"curtailment\", \"customer\", \"customer\", \"customer\", \"customer\", \"customer\", \"darrell\", \"darrell\", \"date\", \"date\", \"date\", \"date\", \"dbcaps\", \"dbcaps\", \"declared\", \"declared\", \"design\", \"design\", \"design\", \"design\", \"desk\", \"desk\", \"desk\", \"desk\", \"detected\", \"detected\", \"devastated\", \"devastated\", \"development\", \"development\", \"development\", \"devon\", \"devon\", \"diabetes\", \"diabetes\", \"diabetes\", \"discrimination\", \"discrimination\", \"div\", \"doc\", \"doc\", \"doc\", \"doc\", \"donate\", \"donate\", \"download\", \"download\", \"download\", \"dun\", \"dun\", \"e\", \"e\", \"e\", \"e\", \"e\", \"ecar\", \"ee\", \"ee\", \"ee\", \"eei\", \"eix\", \"eix\", \"email\", \"email\", \"email\", \"email\", \"email\", \"emaillink\", \"employee\", \"employee\", \"employee\", \"employee\", \"employer\", \"employer\", \"employment\", \"employment\", \"employment\", \"energy\", \"energy\", \"energy\", \"energy\", \"energy\", \"enform\", \"enron\", \"enron\", \"enron\", \"enron\", \"enron\", \"enrononline\", \"enronoptions\", \"enronoptions\", \"enronxgate\", \"enronxgate\", \"epe\", \"epe\", \"epenergy\", \"epenergy\", \"estoppel\", \"estoppel\", \"euci\", \"euci\", \"euci\", \"expense\", \"expense\", \"expensexms\", \"fagan\", \"fare\", \"fare\", \"fastow\", \"fastow\", \"fastow\", \"feedback\", \"feedback\", \"feedback\", \"final\", \"final\", \"final\", \"final\", \"financially\", \"following\", \"following\", \"following\", \"following\", \"following\", \"font\", \"font\", \"font\", \"font\", \"fran\", \"frcc\", \"fund\", \"fund\", \"fund\", \"fund\", \"fund\", \"fw\", \"fw\", \"fw\", \"fw\", \"fx\", \"fx\", \"gas\", \"gas\", \"gas\", \"gas\", \"gas\", \"gif\", \"gif\", \"gif\", \"gift\", \"gift\", \"gift\", \"going\", \"going\", \"going\", \"going\", \"greg\", \"greg\", \"greg\", \"greg\", \"gregwhalley\", \"gregwhalley\", \"hanagriff\", \"hanagriff\", \"height\", \"height\", \"height\", \"hereto\", \"hereto\", \"homco\", \"hou\", \"hou\", \"hou\", \"hour\", \"hour\", \"hour\", \"hour\", \"hour\", \"hourahead\", \"hourahead\", \"hp\", \"hp\", \"hp\", \"href\", \"href\", \"href\", \"hurt\", \"hurt\", \"id\", \"id\", \"id\", \"id\", \"id\", \"image\", \"image\", \"image\", \"image\", \"image\", \"img\", \"img\", \"img\", \"informative\", \"informative\", \"intended\", \"intended\", \"intended\", \"interchange\", \"interconnection\", \"interconnection\", \"interconnection\", \"investment\", \"investment\", \"investment\", \"investools\", \"investools\", \"investor\", \"investor\", \"itcapps\", \"january\", \"january\", \"january\", \"january\", \"jason\", \"jason\", \"jason\", \"jc\", \"john\", \"john\", \"john\", \"john\", \"june\", \"june\", \"june\", \"june\", \"june\", \"kean\", \"ken\", \"ken\", \"ken\", \"kern\", \"kern\", \"kim\", \"kim\", \"kim\", \"kim\", \"kimat\", \"kimberly\", \"kimberly\", \"kimberly\", \"know\", \"know\", \"know\", \"know\", \"know\", \"kowalke\", \"l\", \"l\", \"l\", \"l\", \"l\", \"labour\", \"labour\", \"laurel\", \"laurel\", \"lay\", \"lay\", \"lay\", \"let\", \"let\", \"let\", \"let\", \"like\", \"like\", \"like\", \"like\", \"like\", \"lindberg\", \"lindberg\", \"link\", \"link\", \"link\", \"link\", \"link\", \"linkbarseperator\", \"locate\", \"locate\", \"lynn\", \"lynn\", \"lynn\", \"maatman\", \"maatman\", \"made\", \"made\", \"made\", \"made\", \"made\", \"mail\", \"mail\", \"mail\", \"mail\", \"mail\", \"mailto\", \"mailto\", \"mailto\", \"mailto\", \"make\", \"make\", \"make\", \"make\", \"make\", \"management\", \"management\", \"management\", \"management\", \"management\", \"many\", \"many\", \"many\", \"many\", \"mapp\", \"margin\", \"margin\", \"mark\", \"mark\", \"mark\", \"mark\", \"market\", \"market\", \"market\", \"market\", \"market\", \"may\", \"may\", \"may\", \"may\", \"may\", \"mcgee\", \"mcgee\", \"membership\", \"membership\", \"membership\", \"membership\", \"merry\", \"merry\", \"message\", \"message\", \"message\", \"message\", \"message\", \"michelle\", \"michelle\", \"michelle\", \"million\", \"million\", \"million\", \"million\", \"million\", \"monday\", \"monday\", \"monday\", \"monday\", \"money\", \"money\", \"money\", \"money\", \"mr\", \"mr\", \"mr\", \"myreq\", \"name\", \"name\", \"name\", \"name\", \"name\", \"nbsp\", \"nbsp\", \"nbsp\", \"nc\", \"nc\", \"nc\", \"ne\", \"ne\", \"ne\", \"ne\", \"ne\", \"need\", \"need\", \"need\", \"need\", \"need\", \"net\", \"net\", \"net\", \"net\", \"net\", \"netted\", \"neumin\", \"new\", \"new\", \"new\", \"new\", \"new\", \"november\", \"november\", \"november\", \"november\", \"npcc\", \"offer\", \"offer\", \"offer\", \"offer\", \"one\", \"one\", \"one\", \"one\", \"one\", \"option\", \"option\", \"option\", \"option\", \"option\", \"order\", \"order\", \"order\", \"order\", \"order\", \"original\", \"original\", \"original\", \"original\", \"outage\", \"outage\", \"parsing\", \"parsing\", \"partnership\", \"partnership\", \"pcg\", \"pcg\", \"pdf\", \"pdf\", \"pdf\", \"pdf\", \"pdf\", \"pep\", \"pep\", \"perfmgmt\", \"perfmgmt\", \"plan\", \"plan\", \"plan\", \"plan\", \"plan\", \"please\", \"please\", \"please\", \"please\", \"please\", \"pm\", \"pm\", \"pm\", \"pm\", \"pnm\", \"pocketbook\", \"power\", \"power\", \"power\", \"power\", \"powersrc\", \"powersrc\", \"preferred\", \"preferred\", \"price\", \"price\", \"price\", \"price\", \"price\", \"printing\", \"printing\", \"process\", \"process\", \"process\", \"process\", \"profit\", \"profit\", \"program\", \"program\", \"program\", \"pseg\", \"pseg\", \"quelnunes\", \"raquel\", \"reassigned\", \"reassigned\", \"rebecca\", \"receive\", \"receive\", \"receive\", \"receive\", \"receive\", \"recipient\", \"recipient\", \"recipient\", \"rect\", \"ref\", \"ref\", \"ref\", \"reliantenergy\", \"repair\", \"report\", \"report\", \"report\", \"report\", \"report\", \"request\", \"request\", \"request\", \"request\", \"requester\", \"reset\", \"retirement\", \"retirement\", \"reviewer\", \"reviewer\", \"rfp\", \"rfp\", \"rfp\", \"right\", \"right\", \"right\", \"right\", \"right\", \"rk\", \"rk\", \"said\", \"said\", \"said\", \"said\", \"saving\", \"saving\", \"saving\", \"saving\", \"saving\", \"schedule\", \"schedule\", \"schedule\", \"schedule\", \"schedule\", \"schoolcraft\", \"schoolcraft\", \"scientech\", \"scoop\", \"scoop\", \"scoop\", \"script\", \"script\", \"script\", \"script\", \"se\", \"se\", \"se\", \"se\", \"sec\", \"sec\", \"see\", \"see\", \"see\", \"see\", \"see\", \"select\", \"select\", \"select\", \"seller\", \"seller\", \"seller\", \"service\", \"service\", \"service\", \"service\", \"service\", \"sfs\", \"sfs\", \"share\", \"share\", \"share\", \"share\", \"shipping\", \"shipping\", \"shipping\", \"singla\", \"skadden\", \"skilling\", \"skilling\", \"skilling\", \"sold\", \"sold\", \"sp\", \"sp\", \"sp\", \"sp\", \"sp\", \"src\", \"src\", \"src\", \"srrs\", \"stacey\", \"stacey\", \"stacey\", \"start\", \"start\", \"start\", \"start\", \"start\", \"state\", \"state\", \"state\", \"state\", \"state\", \"status\", \"status\", \"status\", \"status\", \"std\", \"stock\", \"stock\", \"stock\", \"stock\", \"stock\", \"stocklookup\", \"strike\", \"strike\", \"svc\", \"svc\", \"sw\", \"sw\", \"sw\", \"syncrasy\", \"table\", \"table\", \"table\", \"table\", \"table\", \"tagline\", \"td\", \"td\", \"td\", \"td\", \"team\", \"team\", \"team\", \"team\", \"tepc\", \"thank\", \"thank\", \"thank\", \"thanks\", \"thanks\", \"thanks\", \"thanks\", \"thanks\", \"thursday\", \"thursday\", \"thursday\", \"thursday\", \"time\", \"time\", \"time\", \"time\", \"time\", \"townsend\", \"toy\", \"toy\", \"toy\", \"tr\", \"tr\", \"tr\", \"tr\", \"trading\", \"trading\", \"trading\", \"trading\", \"trading\", \"trans\", \"trans\", \"txt\", \"txt\", \"txt\", \"tyrell\", \"tyrell\", \"u\", \"u\", \"u\", \"u\", \"u\", \"uncle\", \"uncle\", \"uncle\", \"underhanded\", \"union\", \"union\", \"union\", \"unshipped\", \"valign\", \"valign\", \"valign\", \"variance\", \"variance\", \"variance\", \"visit\", \"visit\", \"visit\", \"visit\", \"visit\", \"watson\", \"watson\", \"watson\", \"watson\", \"westdesk\", \"wheel\", \"wheel\", \"width\", \"width\", \"width\", \"williams\", \"williams\", \"williams\", \"williams\", \"wiped\", \"wj\", \"wolfe\", \"wolfe\", \"worker\", \"worker\", \"would\", \"would\", \"would\", \"would\", \"would\", \"writing\", \"writing\", \"wscc\", \"wscc\", \"wyndham\", \"wyndham\", \"wyndham\", \"year\", \"year\", \"year\", \"year\", \"year\", \"york\", \"york\", \"york\", \"york\"]}, \"R\": 30, \"lambda.step\": 0.01, \"plot.opts\": {\"xlab\": \"PC1\", \"ylab\": \"PC2\"}, \"topic.order\": [1, 2, 3, 4, 5]};\n",
       "\n",
       "function LDAvis_load_lib(url, callback){\n",
       "  var s = document.createElement('script');\n",
       "  s.src = url;\n",
       "  s.async = true;\n",
       "  s.onreadystatechange = s.onload = callback;\n",
       "  s.onerror = function(){console.warn(\"failed to load library \" + url);};\n",
       "  document.getElementsByTagName(\"head\")[0].appendChild(s);\n",
       "}\n",
       "\n",
       "if(typeof(LDAvis) !== \"undefined\"){\n",
       "   // already loaded: just create the visualization\n",
       "   !function(LDAvis){\n",
       "       new LDAvis(\"#\" + \"ldavis_el507031400435951841609997169453\", ldavis_el507031400435951841609997169453_data);\n",
       "   }(LDAvis);\n",
       "}else if(typeof define === \"function\" && define.amd){\n",
       "   // require.js is available: use it to load d3/LDAvis\n",
       "   require.config({paths: {d3: \"https://d3js.org/d3.v5\"}});\n",
       "   require([\"d3\"], function(d3){\n",
       "      window.d3 = d3;\n",
       "      LDAvis_load_lib(\"https://cdn.jsdelivr.net/gh/bmabey/pyLDAvis@3.4.0/pyLDAvis/js/ldavis.v3.0.0.js\", function(){\n",
       "        new LDAvis(\"#\" + \"ldavis_el507031400435951841609997169453\", ldavis_el507031400435951841609997169453_data);\n",
       "      });\n",
       "    });\n",
       "}else{\n",
       "    // require.js not available: dynamically load d3 & LDAvis\n",
       "    LDAvis_load_lib(\"https://d3js.org/d3.v5.js\", function(){\n",
       "         LDAvis_load_lib(\"https://cdn.jsdelivr.net/gh/bmabey/pyLDAvis@3.4.0/pyLDAvis/js/ldavis.v3.0.0.js\", function(){\n",
       "                 new LDAvis(\"#\" + \"ldavis_el507031400435951841609997169453\", ldavis_el507031400435951841609997169453_data);\n",
       "            })\n",
       "         });\n",
       "}\n",
       "</script>"
      ],
      "text/plain": [
       "<IPython.core.display.HTML object>"
      ]
     },
     "execution_count": 115,
     "metadata": {},
     "output_type": "execute_result"
    }
   ],
   "source": [
    "pyLDAvis.display(lda_display)"
   ]
  },
  {
   "cell_type": "markdown",
   "metadata": {},
   "source": [
    "#### Assign topics to your original data\n",
    "\n",
    "* One practical application of topic modeling is to determine what topic a given text is about\n",
    "* To find that, find the topic number that has the highest percentage contribution in that text\n",
    "* The function, `get_topic_details` shown here, nicely aggregates this information in a presentable table\n",
    "* Combine the original text data with the output of the `get_topic_details` function\n",
    "* Each row contains the dominant topic number, the probability score with that topic and the original text data\n",
    "\n",
    "```python\n",
    "def get_topic_details(ldamodel, corpus):\n",
    "    topic_details_df = pd.DataFrame()\n",
    "    for i, row in enumerate(ldamodel[corpus]):\n",
    "        row = sorted(row, key=lambda x: (x[1]), reverse=True)\n",
    "        for j, (topic_num, prop_topic) in enumerate(row):\n",
    "            if j == 0:  # => dominant topic\n",
    "                wp = ldamodel.show_topic(topic_num)\n",
    "                topic_details_df = topic_details_df.append(pd.Series([topic_num, prop_topic]), ignore_index=True)\n",
    "    topic_details_df.columns = ['Dominant_Topic', '% Score']\n",
    "    return topic_details_df\n",
    "\n",
    "\n",
    "contents = pd.DataFrame({'Original text':text_clean})\n",
    "topic_details = pd.concat([get_topic_details(ldamodel,\n",
    "                           corpus), contents], axis=1)\n",
    "topic_details.head()\n",
    "\n",
    "\n",
    "     Dominant_Topic    % Score     Original text\n",
    "0    0.0              0.989108    [investools, advisory, free, ...\n",
    "1    0.0              0.993513    [forwarded, richard, b, ...\n",
    "2    1.0              0.964858    [hey, wearing, target, purple, ...\n",
    "3    0.0              0.989241    [leslie, milosevich, santa, clara, ...\n",
    "```"
   ]
  },
  {
   "cell_type": "markdown",
   "metadata": {},
   "source": [
    "### Interpreting the topic model\n",
    "\n",
    "* Use the visualization results from the pyLDAvis library shown in 4.4.0.2.\n",
    "* Have a look at topic 1 and 3 from the LDA model on the Enron email data. Which one would you research further for fraud detection purposes?\n",
    "\n",
    "**Possible Answers**\n",
    "\n",
    "* __**Topic 1.**__\n",
    "* ~~Topic 3.~~\n",
    "* ~~None of these topics seem related to fraud.~~\n",
    "\n",
    "\n",
    "**Topic 1 seems to discuss the employee share option program, and seems to point to internal conversation (with \"please, may, know\" etc), so this is more likely to be related to the internal accounting fraud and trading stock with insider knowledge. Topic 3 seems to be more related to general news around Enron.**"
   ]
  },
  {
   "cell_type": "markdown",
   "metadata": {},
   "source": [
    "### Finding fraudsters based on topic\n",
    "\n",
    "In this exercise you're going to **link the results** from the topic model **back to your original data**. You now learned that you want to **flag everything related to topic 3**. As you will see, this is actually not that straightforward. You'll be given the function `get_topic_details()` which takes the arguments `ldamodel` and `corpus`. It retrieves the details of the topics for each line of text. With that function, you can append the results back to your original data. If you want to learn more detail on how to work with the model results, which is beyond the scope of this course, you're highly encouraged to read this [article](https://www.machinelearningplus.com/nlp/topic-modeling-gensim-python/).\n",
    "\n",
    "Available for you are the `dictionary` and `corpus`, the text data `text_clean` as well as your model results `ldamodel`. Also defined is `get_topic_details()`.\n",
    "\n",
    "**Instructions 1/3**\n",
    "\n",
    "* Print and inspect the results from the `get_topic_details()` function by inserting your LDA model results and `corpus`."
   ]
  },
  {
   "cell_type": "markdown",
   "metadata": {},
   "source": [
    "#### def get_topic_details"
   ]
  },
  {
   "cell_type": "code",
   "execution_count": 116,
   "metadata": {
    "tags": []
   },
   "outputs": [
    {
     "name": "stderr",
     "output_type": "stream",
     "text": [
      "/home/totrin/.local/lib/python3.8/site-packages/ipykernel/ipkernel.py:283: DeprecationWarning: `should_run_async` will not call `transform_cell` automatically in the future. Please pass the result to `transformed_cell` argument and any exception that happen during thetransform in `preprocessing_exc_tuple` in IPython 7.17 and above.\n",
      "  and should_run_async(code)\n"
     ]
    }
   ],
   "source": [
    "def get_topic_details(ldamodel, corpus):\n",
    "    topic_details_df = pd.DataFrame()\n",
    "    for i, row in enumerate(ldamodel[corpus]):\n",
    "        row = sorted(row, key=lambda x: (x[1]), reverse=True)\n",
    "        for j, (topic_num, prop_topic) in enumerate(row):\n",
    "            if j == 0:  # => dominant topic\n",
    "                wp = ldamodel.show_topic(topic_num)\n",
    "                topic_details_df = topic_details_df.append(pd.Series([topic_num, prop_topic]), ignore_index=True)\n",
    "    topic_details_df.columns = ['Dominant_Topic', '% Score']\n",
    "    return topic_details_df"
   ]
  },
  {
   "cell_type": "code",
   "execution_count": 117,
   "metadata": {
    "tags": []
   },
   "outputs": [
    {
     "name": "stderr",
     "output_type": "stream",
     "text": [
      "/home/totrin/.local/lib/python3.8/site-packages/ipykernel/ipkernel.py:283: DeprecationWarning: `should_run_async` will not call `transform_cell` automatically in the future. Please pass the result to `transformed_cell` argument and any exception that happen during thetransform in `preprocessing_exc_tuple` in IPython 7.17 and above.\n",
      "  and should_run_async(code)\n"
     ]
    }
   ],
   "source": [
    "# Run get_topic_details function and check the results\n",
    "topic_details_df = get_topic_details(ldamodel, corpus)"
   ]
  },
  {
   "cell_type": "code",
   "execution_count": 118,
   "metadata": {
    "tags": []
   },
   "outputs": [
    {
     "name": "stderr",
     "output_type": "stream",
     "text": [
      "/home/totrin/.local/lib/python3.8/site-packages/ipykernel/ipkernel.py:283: DeprecationWarning: `should_run_async` will not call `transform_cell` automatically in the future. Please pass the result to `transformed_cell` argument and any exception that happen during thetransform in `preprocessing_exc_tuple` in IPython 7.17 and above.\n",
      "  and should_run_async(code)\n"
     ]
    },
    {
     "data": {
      "text/html": [
       "<div>\n",
       "<style scoped>\n",
       "    .dataframe tbody tr th:only-of-type {\n",
       "        vertical-align: middle;\n",
       "    }\n",
       "\n",
       "    .dataframe tbody tr th {\n",
       "        vertical-align: top;\n",
       "    }\n",
       "\n",
       "    .dataframe thead th {\n",
       "        text-align: right;\n",
       "    }\n",
       "</style>\n",
       "<table border=\"1\" class=\"dataframe\">\n",
       "  <thead>\n",
       "    <tr style=\"text-align: right;\">\n",
       "      <th></th>\n",
       "      <th>Dominant_Topic</th>\n",
       "      <th>% Score</th>\n",
       "    </tr>\n",
       "  </thead>\n",
       "  <tbody>\n",
       "    <tr>\n",
       "      <th>0</th>\n",
       "      <td>3.0</td>\n",
       "      <td>0.523400</td>\n",
       "    </tr>\n",
       "    <tr>\n",
       "      <th>1</th>\n",
       "      <td>3.0</td>\n",
       "      <td>0.897210</td>\n",
       "    </tr>\n",
       "    <tr>\n",
       "      <th>2</th>\n",
       "      <td>2.0</td>\n",
       "      <td>0.765949</td>\n",
       "    </tr>\n",
       "    <tr>\n",
       "      <th>3</th>\n",
       "      <td>3.0</td>\n",
       "      <td>0.993495</td>\n",
       "    </tr>\n",
       "    <tr>\n",
       "      <th>4</th>\n",
       "      <td>3.0</td>\n",
       "      <td>0.993391</td>\n",
       "    </tr>\n",
       "  </tbody>\n",
       "</table>\n",
       "</div>"
      ],
      "text/plain": [
       "   Dominant_Topic   % Score\n",
       "0             3.0  0.523400\n",
       "1             3.0  0.897210\n",
       "2             2.0  0.765949\n",
       "3             3.0  0.993495\n",
       "4             3.0  0.993391"
      ]
     },
     "execution_count": 118,
     "metadata": {},
     "output_type": "execute_result"
    }
   ],
   "source": [
    "topic_details_df.head()"
   ]
  },
  {
   "cell_type": "code",
   "execution_count": 119,
   "metadata": {
    "tags": []
   },
   "outputs": [
    {
     "name": "stderr",
     "output_type": "stream",
     "text": [
      "/home/totrin/.local/lib/python3.8/site-packages/ipykernel/ipkernel.py:283: DeprecationWarning: `should_run_async` will not call `transform_cell` automatically in the future. Please pass the result to `transformed_cell` argument and any exception that happen during thetransform in `preprocessing_exc_tuple` in IPython 7.17 and above.\n",
      "  and should_run_async(code)\n"
     ]
    },
    {
     "data": {
      "text/html": [
       "<div>\n",
       "<style scoped>\n",
       "    .dataframe tbody tr th:only-of-type {\n",
       "        vertical-align: middle;\n",
       "    }\n",
       "\n",
       "    .dataframe tbody tr th {\n",
       "        vertical-align: top;\n",
       "    }\n",
       "\n",
       "    .dataframe thead th {\n",
       "        text-align: right;\n",
       "    }\n",
       "</style>\n",
       "<table border=\"1\" class=\"dataframe\">\n",
       "  <thead>\n",
       "    <tr style=\"text-align: right;\">\n",
       "      <th></th>\n",
       "      <th>Dominant_Topic</th>\n",
       "      <th>% Score</th>\n",
       "    </tr>\n",
       "  </thead>\n",
       "  <tbody>\n",
       "    <tr>\n",
       "      <th>2085</th>\n",
       "      <td>4.0</td>\n",
       "      <td>0.639560</td>\n",
       "    </tr>\n",
       "    <tr>\n",
       "      <th>2086</th>\n",
       "      <td>4.0</td>\n",
       "      <td>0.597857</td>\n",
       "    </tr>\n",
       "    <tr>\n",
       "      <th>2087</th>\n",
       "      <td>4.0</td>\n",
       "      <td>0.999322</td>\n",
       "    </tr>\n",
       "    <tr>\n",
       "      <th>2088</th>\n",
       "      <td>1.0</td>\n",
       "      <td>0.998148</td>\n",
       "    </tr>\n",
       "    <tr>\n",
       "      <th>2089</th>\n",
       "      <td>2.0</td>\n",
       "      <td>0.988438</td>\n",
       "    </tr>\n",
       "  </tbody>\n",
       "</table>\n",
       "</div>"
      ],
      "text/plain": [
       "      Dominant_Topic   % Score\n",
       "2085             4.0  0.639560\n",
       "2086             4.0  0.597857\n",
       "2087             4.0  0.999322\n",
       "2088             1.0  0.998148\n",
       "2089             2.0  0.988438"
      ]
     },
     "execution_count": 119,
     "metadata": {},
     "output_type": "execute_result"
    }
   ],
   "source": [
    "topic_details_df.tail()"
   ]
  },
  {
   "cell_type": "markdown",
   "metadata": {},
   "source": [
    "**Instructions 2/3**\n",
    "\n",
    "* Concatenate column-wise the results from the previously defined function `get_topic_details()` to the original text data contained under `contents` and inspect the results."
   ]
  },
  {
   "cell_type": "code",
   "execution_count": 120,
   "metadata": {
    "tags": []
   },
   "outputs": [
    {
     "name": "stderr",
     "output_type": "stream",
     "text": [
      "/home/totrin/.local/lib/python3.8/site-packages/ipykernel/ipkernel.py:283: DeprecationWarning: `should_run_async` will not call `transform_cell` automatically in the future. Please pass the result to `transformed_cell` argument and any exception that happen during thetransform in `preprocessing_exc_tuple` in IPython 7.17 and above.\n",
      "  and should_run_async(code)\n"
     ]
    }
   ],
   "source": [
    "# Add original text to topic details in a dataframe\n",
    "contents = pd.DataFrame({'Original text': text_clean})\n",
    "topic_details = pd.concat([get_topic_details(ldamodel, corpus), contents], axis=1)"
   ]
  },
  {
   "cell_type": "code",
   "execution_count": 121,
   "metadata": {
    "tags": []
   },
   "outputs": [
    {
     "name": "stderr",
     "output_type": "stream",
     "text": [
      "/home/totrin/.local/lib/python3.8/site-packages/ipykernel/ipkernel.py:283: DeprecationWarning: `should_run_async` will not call `transform_cell` automatically in the future. Please pass the result to `transformed_cell` argument and any exception that happen during thetransform in `preprocessing_exc_tuple` in IPython 7.17 and above.\n",
      "  and should_run_async(code)\n"
     ]
    },
    {
     "data": {
      "text/html": [
       "<div>\n",
       "<style scoped>\n",
       "    .dataframe tbody tr th:only-of-type {\n",
       "        vertical-align: middle;\n",
       "    }\n",
       "\n",
       "    .dataframe tbody tr th {\n",
       "        vertical-align: top;\n",
       "    }\n",
       "\n",
       "    .dataframe thead th {\n",
       "        text-align: right;\n",
       "    }\n",
       "</style>\n",
       "<table border=\"1\" class=\"dataframe\">\n",
       "  <thead>\n",
       "    <tr style=\"text-align: right;\">\n",
       "      <th></th>\n",
       "      <th>Dominant_Topic</th>\n",
       "      <th>% Score</th>\n",
       "      <th>Original text</th>\n",
       "    </tr>\n",
       "  </thead>\n",
       "  <tbody>\n",
       "    <tr>\n",
       "      <th>154</th>\n",
       "      <td>3.0</td>\n",
       "      <td>0.999955</td>\n",
       "      <td>[joint, venture, enron, meeting, belies, offic...</td>\n",
       "    </tr>\n",
       "    <tr>\n",
       "      <th>135</th>\n",
       "      <td>3.0</td>\n",
       "      <td>0.999953</td>\n",
       "      <td>[lawyer, agree, order, safeguard, document, ho...</td>\n",
       "    </tr>\n",
       "    <tr>\n",
       "      <th>107</th>\n",
       "      <td>3.0</td>\n",
       "      <td>0.999907</td>\n",
       "      <td>[sample, article, original, message, schmidt, ...</td>\n",
       "    </tr>\n",
       "    <tr>\n",
       "      <th>849</th>\n",
       "      <td>0.0</td>\n",
       "      <td>0.999875</td>\n",
       "      <td>[original, message, received, thu, aug, cdt, e...</td>\n",
       "    </tr>\n",
       "    <tr>\n",
       "      <th>149</th>\n",
       "      <td>3.0</td>\n",
       "      <td>0.999768</td>\n",
       "      <td>[electricity, trading, build, oh, slowly, fran...</td>\n",
       "    </tr>\n",
       "  </tbody>\n",
       "</table>\n",
       "</div>"
      ],
      "text/plain": [
       "     Dominant_Topic   % Score  \\\n",
       "154             3.0  0.999955   \n",
       "135             3.0  0.999953   \n",
       "107             3.0  0.999907   \n",
       "849             0.0  0.999875   \n",
       "149             3.0  0.999768   \n",
       "\n",
       "                                         Original text  \n",
       "154  [joint, venture, enron, meeting, belies, offic...  \n",
       "135  [lawyer, agree, order, safeguard, document, ho...  \n",
       "107  [sample, article, original, message, schmidt, ...  \n",
       "849  [original, message, received, thu, aug, cdt, e...  \n",
       "149  [electricity, trading, build, oh, slowly, fran...  "
      ]
     },
     "execution_count": 121,
     "metadata": {},
     "output_type": "execute_result"
    }
   ],
   "source": [
    "topic_details.sort_values(by=['% Score'], ascending=False).head(10).head()"
   ]
  },
  {
   "cell_type": "code",
   "execution_count": 122,
   "metadata": {
    "tags": []
   },
   "outputs": [
    {
     "name": "stderr",
     "output_type": "stream",
     "text": [
      "/home/totrin/.local/lib/python3.8/site-packages/ipykernel/ipkernel.py:283: DeprecationWarning: `should_run_async` will not call `transform_cell` automatically in the future. Please pass the result to `transformed_cell` argument and any exception that happen during thetransform in `preprocessing_exc_tuple` in IPython 7.17 and above.\n",
      "  and should_run_async(code)\n"
     ]
    },
    {
     "data": {
      "text/html": [
       "<div>\n",
       "<style scoped>\n",
       "    .dataframe tbody tr th:only-of-type {\n",
       "        vertical-align: middle;\n",
       "    }\n",
       "\n",
       "    .dataframe tbody tr th {\n",
       "        vertical-align: top;\n",
       "    }\n",
       "\n",
       "    .dataframe thead th {\n",
       "        text-align: right;\n",
       "    }\n",
       "</style>\n",
       "<table border=\"1\" class=\"dataframe\">\n",
       "  <thead>\n",
       "    <tr style=\"text-align: right;\">\n",
       "      <th></th>\n",
       "      <th>Dominant_Topic</th>\n",
       "      <th>% Score</th>\n",
       "      <th>Original text</th>\n",
       "    </tr>\n",
       "  </thead>\n",
       "  <tbody>\n",
       "    <tr>\n",
       "      <th>2081</th>\n",
       "      <td>4.0</td>\n",
       "      <td>0.999631</td>\n",
       "      <td>[unsubscribe, mailing, please, go, money, net,...</td>\n",
       "    </tr>\n",
       "    <tr>\n",
       "      <th>478</th>\n",
       "      <td>3.0</td>\n",
       "      <td>0.999354</td>\n",
       "      <td>[greeting, jeff, thanks, make, copy, bring, cl...</td>\n",
       "    </tr>\n",
       "    <tr>\n",
       "      <th>2087</th>\n",
       "      <td>4.0</td>\n",
       "      <td>0.999322</td>\n",
       "      <td>[image, image, image, image, image, image, ima...</td>\n",
       "    </tr>\n",
       "    <tr>\n",
       "      <th>265</th>\n",
       "      <td>3.0</td>\n",
       "      <td>0.999261</td>\n",
       "      <td>[u, based, enron, corp, expands, pulp, paper, ...</td>\n",
       "    </tr>\n",
       "    <tr>\n",
       "      <th>1411</th>\n",
       "      <td>2.0</td>\n",
       "      <td>0.999138</td>\n",
       "      <td>[inline, attachment, follows, scasey, tfsbroke...</td>\n",
       "    </tr>\n",
       "  </tbody>\n",
       "</table>\n",
       "</div>"
      ],
      "text/plain": [
       "      Dominant_Topic   % Score  \\\n",
       "2081             4.0  0.999631   \n",
       "478              3.0  0.999354   \n",
       "2087             4.0  0.999322   \n",
       "265              3.0  0.999261   \n",
       "1411             2.0  0.999138   \n",
       "\n",
       "                                          Original text  \n",
       "2081  [unsubscribe, mailing, please, go, money, net,...  \n",
       "478   [greeting, jeff, thanks, make, copy, bring, cl...  \n",
       "2087  [image, image, image, image, image, image, ima...  \n",
       "265   [u, based, enron, corp, expands, pulp, paper, ...  \n",
       "1411  [inline, attachment, follows, scasey, tfsbroke...  "
      ]
     },
     "execution_count": 122,
     "metadata": {},
     "output_type": "execute_result"
    }
   ],
   "source": [
    "topic_details.sort_values(by=['% Score'], ascending=False).head(10).tail()"
   ]
  },
  {
   "cell_type": "markdown",
   "metadata": {},
   "source": [
    "**Instructions 3/3**\n",
    "\n",
    "* Create a flag with the `np.where()` function to flag all content that has topic 3 as a dominant topic with a 1, and 0 otherwise"
   ]
  },
  {
   "cell_type": "code",
   "execution_count": 123,
   "metadata": {
    "tags": []
   },
   "outputs": [
    {
     "name": "stderr",
     "output_type": "stream",
     "text": [
      "/home/totrin/.local/lib/python3.8/site-packages/ipykernel/ipkernel.py:283: DeprecationWarning: `should_run_async` will not call `transform_cell` automatically in the future. Please pass the result to `transformed_cell` argument and any exception that happen during thetransform in `preprocessing_exc_tuple` in IPython 7.17 and above.\n",
      "  and should_run_async(code)\n"
     ]
    }
   ],
   "source": [
    "# Create flag for text highest associated with topic 3\n",
    "topic_details['flag'] = np.where((topic_details['Dominant_Topic'] == 3.0), 1, 0)"
   ]
  },
  {
   "cell_type": "code",
   "execution_count": 124,
   "metadata": {
    "tags": []
   },
   "outputs": [
    {
     "name": "stderr",
     "output_type": "stream",
     "text": [
      "/home/totrin/.local/lib/python3.8/site-packages/ipykernel/ipkernel.py:283: DeprecationWarning: `should_run_async` will not call `transform_cell` automatically in the future. Please pass the result to `transformed_cell` argument and any exception that happen during thetransform in `preprocessing_exc_tuple` in IPython 7.17 and above.\n",
      "  and should_run_async(code)\n"
     ]
    }
   ],
   "source": [
    "topic_details_1 = topic_details[topic_details.flag == 1]"
   ]
  },
  {
   "cell_type": "code",
   "execution_count": 125,
   "metadata": {
    "tags": []
   },
   "outputs": [
    {
     "name": "stderr",
     "output_type": "stream",
     "text": [
      "/home/totrin/.local/lib/python3.8/site-packages/ipykernel/ipkernel.py:283: DeprecationWarning: `should_run_async` will not call `transform_cell` automatically in the future. Please pass the result to `transformed_cell` argument and any exception that happen during thetransform in `preprocessing_exc_tuple` in IPython 7.17 and above.\n",
      "  and should_run_async(code)\n"
     ]
    },
    {
     "data": {
      "text/html": [
       "<div>\n",
       "<style scoped>\n",
       "    .dataframe tbody tr th:only-of-type {\n",
       "        vertical-align: middle;\n",
       "    }\n",
       "\n",
       "    .dataframe tbody tr th {\n",
       "        vertical-align: top;\n",
       "    }\n",
       "\n",
       "    .dataframe thead th {\n",
       "        text-align: right;\n",
       "    }\n",
       "</style>\n",
       "<table border=\"1\" class=\"dataframe\">\n",
       "  <thead>\n",
       "    <tr style=\"text-align: right;\">\n",
       "      <th></th>\n",
       "      <th>Dominant_Topic</th>\n",
       "      <th>% Score</th>\n",
       "      <th>Original text</th>\n",
       "      <th>flag</th>\n",
       "    </tr>\n",
       "  </thead>\n",
       "  <tbody>\n",
       "    <tr>\n",
       "      <th>154</th>\n",
       "      <td>3.0</td>\n",
       "      <td>0.999955</td>\n",
       "      <td>[joint, venture, enron, meeting, belies, offic...</td>\n",
       "      <td>1</td>\n",
       "    </tr>\n",
       "    <tr>\n",
       "      <th>135</th>\n",
       "      <td>3.0</td>\n",
       "      <td>0.999953</td>\n",
       "      <td>[lawyer, agree, order, safeguard, document, ho...</td>\n",
       "      <td>1</td>\n",
       "    </tr>\n",
       "    <tr>\n",
       "      <th>107</th>\n",
       "      <td>3.0</td>\n",
       "      <td>0.999907</td>\n",
       "      <td>[sample, article, original, message, schmidt, ...</td>\n",
       "      <td>1</td>\n",
       "    </tr>\n",
       "    <tr>\n",
       "      <th>149</th>\n",
       "      <td>3.0</td>\n",
       "      <td>0.999768</td>\n",
       "      <td>[electricity, trading, build, oh, slowly, fran...</td>\n",
       "      <td>1</td>\n",
       "    </tr>\n",
       "    <tr>\n",
       "      <th>478</th>\n",
       "      <td>3.0</td>\n",
       "      <td>0.999354</td>\n",
       "      <td>[greeting, jeff, thanks, make, copy, bring, cl...</td>\n",
       "      <td>1</td>\n",
       "    </tr>\n",
       "    <tr>\n",
       "      <th>265</th>\n",
       "      <td>3.0</td>\n",
       "      <td>0.999261</td>\n",
       "      <td>[u, based, enron, corp, expands, pulp, paper, ...</td>\n",
       "      <td>1</td>\n",
       "    </tr>\n",
       "    <tr>\n",
       "      <th>1108</th>\n",
       "      <td>3.0</td>\n",
       "      <td>0.998996</td>\n",
       "      <td>[thestreet, pf, market, detox, trade, wind, bl...</td>\n",
       "      <td>1</td>\n",
       "    </tr>\n",
       "    <tr>\n",
       "      <th>240</th>\n",
       "      <td>3.0</td>\n",
       "      <td>0.998827</td>\n",
       "      <td>[wsj, heard, street, enron, ex, ceo, made, bet...</td>\n",
       "      <td>1</td>\n",
       "    </tr>\n",
       "    <tr>\n",
       "      <th>239</th>\n",
       "      <td>3.0</td>\n",
       "      <td>0.998683</td>\n",
       "      <td>[prolly, use, f, word, intra, company, e, mail...</td>\n",
       "      <td>1</td>\n",
       "    </tr>\n",
       "    <tr>\n",
       "      <th>280</th>\n",
       "      <td>3.0</td>\n",
       "      <td>0.998599</td>\n",
       "      <td>[financial, express, wednesday, october, anti,...</td>\n",
       "      <td>1</td>\n",
       "    </tr>\n",
       "  </tbody>\n",
       "</table>\n",
       "</div>"
      ],
      "text/plain": [
       "      Dominant_Topic   % Score  \\\n",
       "154              3.0  0.999955   \n",
       "135              3.0  0.999953   \n",
       "107              3.0  0.999907   \n",
       "149              3.0  0.999768   \n",
       "478              3.0  0.999354   \n",
       "265              3.0  0.999261   \n",
       "1108             3.0  0.998996   \n",
       "240              3.0  0.998827   \n",
       "239              3.0  0.998683   \n",
       "280              3.0  0.998599   \n",
       "\n",
       "                                          Original text  flag  \n",
       "154   [joint, venture, enron, meeting, belies, offic...     1  \n",
       "135   [lawyer, agree, order, safeguard, document, ho...     1  \n",
       "107   [sample, article, original, message, schmidt, ...     1  \n",
       "149   [electricity, trading, build, oh, slowly, fran...     1  \n",
       "478   [greeting, jeff, thanks, make, copy, bring, cl...     1  \n",
       "265   [u, based, enron, corp, expands, pulp, paper, ...     1  \n",
       "1108  [thestreet, pf, market, detox, trade, wind, bl...     1  \n",
       "240   [wsj, heard, street, enron, ex, ceo, made, bet...     1  \n",
       "239   [prolly, use, f, word, intra, company, e, mail...     1  \n",
       "280   [financial, express, wednesday, october, anti,...     1  "
      ]
     },
     "execution_count": 125,
     "metadata": {},
     "output_type": "execute_result"
    }
   ],
   "source": [
    "topic_details_1.sort_values(by=['% Score'], ascending=False).head(10)"
   ]
  },
  {
   "cell_type": "markdown",
   "metadata": {},
   "source": [
    "**You have now flagged all data that is highest associated with topic 3, that seems to cover internal conversation about enron stock options. You are a true detective. With these exercises you have demonstrated that text mining and topic modeling can be a powerful tool for fraud detection.**"
   ]
  },
  {
   "cell_type": "markdown",
   "metadata": {},
   "source": [
    "## Lesson 4: Recap"
   ]
  },
  {
   "cell_type": "markdown",
   "metadata": {},
   "source": [
    "### Working with imbalanced data\n",
    "\n",
    "* Worked with highly imbalanced fraud data\n",
    "* Learned how to resample your data\n",
    "* Learned about different resampling methods"
   ]
  },
  {
   "cell_type": "markdown",
   "metadata": {},
   "source": [
    "### Fraud detection with labeled data\n",
    "\n",
    "* Refreshed supervised learning techniques to detect fraud\n",
    "* Learned how to get reliable performance metrics and worked with the precision recall trade-off\n",
    "* Explored how to optimize your model parameters to handle fraud data\n",
    "* Applied ensemble methods to fraud detection"
   ]
  },
  {
   "cell_type": "markdown",
   "metadata": {},
   "source": [
    "### Fraud detection without labels\n",
    "\n",
    "* Learned about the importance of segmentation\n",
    "* Refreshed your knowledge on clustering methods\n",
    "* Learned how to detect fraud using outliers and small clusters with K-means clustering\n",
    "* Applied a DB-scan clustering model for fraud detection"
   ]
  },
  {
   "cell_type": "markdown",
   "metadata": {},
   "source": [
    "### Text mining for fraud detection\n",
    "\n",
    "* Know how to augment fraud detection analysis with text mining techniques\n",
    "* Applied word searches to flag use of certain words, and learned how to apply topic modeling for fraud detection\n",
    "* Learned how to effectively clean messy text data"
   ]
  },
  {
   "cell_type": "markdown",
   "metadata": {},
   "source": [
    "### Further learning for fraud detection\n",
    "\n",
    "* Network analysis to detect fraud\n",
    "* Different supervised and unsupervised learning techniques (e.g. Neural Networks)\n",
    "* Working with very large data"
   ]
  }
 ],
 "metadata": {
  "kernelspec": {
   "display_name": "Python 3",
   "language": "python",
   "name": "python3"
  },
  "language_info": {
   "codemirror_mode": {
    "name": "ipython",
    "version": 3
   },
   "file_extension": ".py",
   "mimetype": "text/x-python",
   "name": "python",
   "nbconvert_exporter": "python",
   "pygments_lexer": "ipython3",
   "version": "3.8.10"
  },
  "toc-autonumbering": true
 },
 "nbformat": 4,
 "nbformat_minor": 4
}
